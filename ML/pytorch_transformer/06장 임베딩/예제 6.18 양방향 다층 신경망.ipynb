{
 "cells": [
  {
   "cell_type": "code",
   "execution_count": 1,
   "id": "41d5a81c-54be-4c00-9378-4be0122ba613",
   "metadata": {},
   "outputs": [
    {
     "name": "stdout",
     "output_type": "stream",
     "text": [
      "torch.Size([4, 6, 512])\n",
      "torch.Size([6, 4, 256])\n"
     ]
    }
   ],
   "source": [
    "### 양방향 다층 신경망\n",
    "\n",
    "import torch\n",
    "from torch import nn\n",
    "\n",
    "\n",
    "input_size    = 128\n",
    "ouput_size    = 256\n",
    "num_layers    = 3\n",
    "bidirectional = True\n",
    "\n",
    "# 순환 신경망 클래스\n",
    "model = nn.RNN(\n",
    "    input_size    = input_size, # 입력 특성(x) 크기\n",
    "    hidden_size   = ouput_size, # 은닉 상태(h) 크기\n",
    "    num_layers    = num_layers, # 계층 수\n",
    "    nonlinearity  = \"tanh\",     # 활성화 함수\n",
    "    batch_first   = True,       # 입력 배치 크기를 첫번째 차원으로 사용 여부 \n",
    "    bidirectional = bidirectional,  # 양방향으로 처리할지\n",
    ")\n",
    "\n",
    "batch_size   = 4\n",
    "sequence_len = 6\n",
    "\n",
    "inputs = torch.randn(batch_size, sequence_len, input_size)\n",
    "h_0    = torch.rand(num_layers * (int(bidirectional) + 1), batch_size, ouput_size)\n",
    "\n",
    "outputs, hidden = model(inputs, h_0)\n",
    "print(outputs.shape)\n",
    "print(hidden.shape)"
   ]
  }
 ],
 "metadata": {
  "kernelspec": {
   "display_name": "Python 3 (ipykernel)",
   "language": "python",
   "name": "python3"
  },
  "language_info": {
   "codemirror_mode": {
    "name": "ipython",
    "version": 3
   },
   "file_extension": ".py",
   "mimetype": "text/x-python",
   "name": "python",
   "nbconvert_exporter": "python",
   "pygments_lexer": "ipython3",
   "version": "3.11.6"
  }
 },
 "nbformat": 4,
 "nbformat_minor": 5
}
