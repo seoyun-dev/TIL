{
 "cells": [
  {
   "cell_type": "markdown",
   "metadata": {},
   "source": [
    "## 2-1. 데이터 읽기"
   ]
  },
  {
   "cell_type": "code",
   "execution_count": 30,
   "metadata": {},
   "outputs": [
    {
     "data": {
      "text/html": [
       "<div>\n",
       "<style scoped>\n",
       "    .dataframe tbody tr th:only-of-type {\n",
       "        vertical-align: middle;\n",
       "    }\n",
       "\n",
       "    .dataframe tbody tr th {\n",
       "        vertical-align: top;\n",
       "    }\n",
       "\n",
       "    .dataframe thead th {\n",
       "        text-align: right;\n",
       "    }\n",
       "</style>\n",
       "<table border=\"1\" class=\"dataframe\">\n",
       "  <thead>\n",
       "    <tr style=\"text-align: right;\">\n",
       "      <th></th>\n",
       "      <th>age</th>\n",
       "      <th>sex</th>\n",
       "      <th>occupation</th>\n",
       "      <th>zip_code</th>\n",
       "    </tr>\n",
       "    <tr>\n",
       "      <th>user_id</th>\n",
       "      <th></th>\n",
       "      <th></th>\n",
       "      <th></th>\n",
       "      <th></th>\n",
       "    </tr>\n",
       "  </thead>\n",
       "  <tbody>\n",
       "    <tr>\n",
       "      <th>1</th>\n",
       "      <td>24</td>\n",
       "      <td>M</td>\n",
       "      <td>technician</td>\n",
       "      <td>85711</td>\n",
       "    </tr>\n",
       "    <tr>\n",
       "      <th>2</th>\n",
       "      <td>53</td>\n",
       "      <td>F</td>\n",
       "      <td>other</td>\n",
       "      <td>94043</td>\n",
       "    </tr>\n",
       "    <tr>\n",
       "      <th>3</th>\n",
       "      <td>23</td>\n",
       "      <td>M</td>\n",
       "      <td>writer</td>\n",
       "      <td>32067</td>\n",
       "    </tr>\n",
       "    <tr>\n",
       "      <th>4</th>\n",
       "      <td>24</td>\n",
       "      <td>M</td>\n",
       "      <td>technician</td>\n",
       "      <td>43537</td>\n",
       "    </tr>\n",
       "    <tr>\n",
       "      <th>5</th>\n",
       "      <td>33</td>\n",
       "      <td>F</td>\n",
       "      <td>other</td>\n",
       "      <td>15213</td>\n",
       "    </tr>\n",
       "  </tbody>\n",
       "</table>\n",
       "</div>"
      ],
      "text/plain": [
       "         age sex  occupation zip_code\n",
       "user_id                              \n",
       "1         24   M  technician    85711\n",
       "2         53   F       other    94043\n",
       "3         23   M      writer    32067\n",
       "4         24   M  technician    43537\n",
       "5         33   F       other    15213"
      ]
     },
     "execution_count": 30,
     "metadata": {},
     "output_type": "execute_result"
    }
   ],
   "source": [
    "import numpy as np\n",
    "import pandas as pd\n",
    "\n",
    "\n",
    "# u.user 파일을 DataFrame으로 읽기 \n",
    "u_cols = ['user_id', 'age', 'sex', 'occupation', 'zip_code']\n",
    "users = pd.read_csv('../Data/u.user', sep='|', names=u_cols, encoding='latin-1')\n",
    "users = users.set_index('user_id')\n",
    "users.head()"
   ]
  },
  {
   "cell_type": "code",
   "execution_count": 31,
   "metadata": {},
   "outputs": [
    {
     "data": {
      "text/html": [
       "<div>\n",
       "<style scoped>\n",
       "    .dataframe tbody tr th:only-of-type {\n",
       "        vertical-align: middle;\n",
       "    }\n",
       "\n",
       "    .dataframe tbody tr th {\n",
       "        vertical-align: top;\n",
       "    }\n",
       "\n",
       "    .dataframe thead th {\n",
       "        text-align: right;\n",
       "    }\n",
       "</style>\n",
       "<table border=\"1\" class=\"dataframe\">\n",
       "  <thead>\n",
       "    <tr style=\"text-align: right;\">\n",
       "      <th></th>\n",
       "      <th>title</th>\n",
       "      <th>release date</th>\n",
       "      <th>video release date</th>\n",
       "      <th>IMDB URL</th>\n",
       "      <th>unknown</th>\n",
       "      <th>Action</th>\n",
       "      <th>Adventure</th>\n",
       "      <th>Animation</th>\n",
       "      <th>Children's</th>\n",
       "      <th>Comedy</th>\n",
       "      <th>...</th>\n",
       "      <th>Fantasy</th>\n",
       "      <th>Film-Noir</th>\n",
       "      <th>Horror</th>\n",
       "      <th>Musical</th>\n",
       "      <th>Mystery</th>\n",
       "      <th>Romance</th>\n",
       "      <th>Sci-Fi</th>\n",
       "      <th>Thriller</th>\n",
       "      <th>War</th>\n",
       "      <th>Western</th>\n",
       "    </tr>\n",
       "    <tr>\n",
       "      <th>movie_id</th>\n",
       "      <th></th>\n",
       "      <th></th>\n",
       "      <th></th>\n",
       "      <th></th>\n",
       "      <th></th>\n",
       "      <th></th>\n",
       "      <th></th>\n",
       "      <th></th>\n",
       "      <th></th>\n",
       "      <th></th>\n",
       "      <th></th>\n",
       "      <th></th>\n",
       "      <th></th>\n",
       "      <th></th>\n",
       "      <th></th>\n",
       "      <th></th>\n",
       "      <th></th>\n",
       "      <th></th>\n",
       "      <th></th>\n",
       "      <th></th>\n",
       "      <th></th>\n",
       "    </tr>\n",
       "  </thead>\n",
       "  <tbody>\n",
       "    <tr>\n",
       "      <th>1</th>\n",
       "      <td>Toy Story (1995)</td>\n",
       "      <td>01-Jan-1995</td>\n",
       "      <td>NaN</td>\n",
       "      <td>http://us.imdb.com/M/title-exact?Toy%20Story%2...</td>\n",
       "      <td>0</td>\n",
       "      <td>0</td>\n",
       "      <td>0</td>\n",
       "      <td>1</td>\n",
       "      <td>1</td>\n",
       "      <td>1</td>\n",
       "      <td>...</td>\n",
       "      <td>0</td>\n",
       "      <td>0</td>\n",
       "      <td>0</td>\n",
       "      <td>0</td>\n",
       "      <td>0</td>\n",
       "      <td>0</td>\n",
       "      <td>0</td>\n",
       "      <td>0</td>\n",
       "      <td>0</td>\n",
       "      <td>0</td>\n",
       "    </tr>\n",
       "    <tr>\n",
       "      <th>2</th>\n",
       "      <td>GoldenEye (1995)</td>\n",
       "      <td>01-Jan-1995</td>\n",
       "      <td>NaN</td>\n",
       "      <td>http://us.imdb.com/M/title-exact?GoldenEye%20(...</td>\n",
       "      <td>0</td>\n",
       "      <td>1</td>\n",
       "      <td>1</td>\n",
       "      <td>0</td>\n",
       "      <td>0</td>\n",
       "      <td>0</td>\n",
       "      <td>...</td>\n",
       "      <td>0</td>\n",
       "      <td>0</td>\n",
       "      <td>0</td>\n",
       "      <td>0</td>\n",
       "      <td>0</td>\n",
       "      <td>0</td>\n",
       "      <td>0</td>\n",
       "      <td>1</td>\n",
       "      <td>0</td>\n",
       "      <td>0</td>\n",
       "    </tr>\n",
       "    <tr>\n",
       "      <th>3</th>\n",
       "      <td>Four Rooms (1995)</td>\n",
       "      <td>01-Jan-1995</td>\n",
       "      <td>NaN</td>\n",
       "      <td>http://us.imdb.com/M/title-exact?Four%20Rooms%...</td>\n",
       "      <td>0</td>\n",
       "      <td>0</td>\n",
       "      <td>0</td>\n",
       "      <td>0</td>\n",
       "      <td>0</td>\n",
       "      <td>0</td>\n",
       "      <td>...</td>\n",
       "      <td>0</td>\n",
       "      <td>0</td>\n",
       "      <td>0</td>\n",
       "      <td>0</td>\n",
       "      <td>0</td>\n",
       "      <td>0</td>\n",
       "      <td>0</td>\n",
       "      <td>1</td>\n",
       "      <td>0</td>\n",
       "      <td>0</td>\n",
       "    </tr>\n",
       "    <tr>\n",
       "      <th>4</th>\n",
       "      <td>Get Shorty (1995)</td>\n",
       "      <td>01-Jan-1995</td>\n",
       "      <td>NaN</td>\n",
       "      <td>http://us.imdb.com/M/title-exact?Get%20Shorty%...</td>\n",
       "      <td>0</td>\n",
       "      <td>1</td>\n",
       "      <td>0</td>\n",
       "      <td>0</td>\n",
       "      <td>0</td>\n",
       "      <td>1</td>\n",
       "      <td>...</td>\n",
       "      <td>0</td>\n",
       "      <td>0</td>\n",
       "      <td>0</td>\n",
       "      <td>0</td>\n",
       "      <td>0</td>\n",
       "      <td>0</td>\n",
       "      <td>0</td>\n",
       "      <td>0</td>\n",
       "      <td>0</td>\n",
       "      <td>0</td>\n",
       "    </tr>\n",
       "    <tr>\n",
       "      <th>5</th>\n",
       "      <td>Copycat (1995)</td>\n",
       "      <td>01-Jan-1995</td>\n",
       "      <td>NaN</td>\n",
       "      <td>http://us.imdb.com/M/title-exact?Copycat%20(1995)</td>\n",
       "      <td>0</td>\n",
       "      <td>0</td>\n",
       "      <td>0</td>\n",
       "      <td>0</td>\n",
       "      <td>0</td>\n",
       "      <td>0</td>\n",
       "      <td>...</td>\n",
       "      <td>0</td>\n",
       "      <td>0</td>\n",
       "      <td>0</td>\n",
       "      <td>0</td>\n",
       "      <td>0</td>\n",
       "      <td>0</td>\n",
       "      <td>0</td>\n",
       "      <td>1</td>\n",
       "      <td>0</td>\n",
       "      <td>0</td>\n",
       "    </tr>\n",
       "  </tbody>\n",
       "</table>\n",
       "<p>5 rows × 23 columns</p>\n",
       "</div>"
      ],
      "text/plain": [
       "                      title release date  video release date  \\\n",
       "movie_id                                                       \n",
       "1          Toy Story (1995)  01-Jan-1995                 NaN   \n",
       "2          GoldenEye (1995)  01-Jan-1995                 NaN   \n",
       "3         Four Rooms (1995)  01-Jan-1995                 NaN   \n",
       "4         Get Shorty (1995)  01-Jan-1995                 NaN   \n",
       "5            Copycat (1995)  01-Jan-1995                 NaN   \n",
       "\n",
       "                                                   IMDB URL  unknown  Action  \\\n",
       "movie_id                                                                       \n",
       "1         http://us.imdb.com/M/title-exact?Toy%20Story%2...        0       0   \n",
       "2         http://us.imdb.com/M/title-exact?GoldenEye%20(...        0       1   \n",
       "3         http://us.imdb.com/M/title-exact?Four%20Rooms%...        0       0   \n",
       "4         http://us.imdb.com/M/title-exact?Get%20Shorty%...        0       1   \n",
       "5         http://us.imdb.com/M/title-exact?Copycat%20(1995)        0       0   \n",
       "\n",
       "          Adventure  Animation  Children's  Comedy  ...  Fantasy  Film-Noir  \\\n",
       "movie_id                                            ...                       \n",
       "1                 0          1           1       1  ...        0          0   \n",
       "2                 1          0           0       0  ...        0          0   \n",
       "3                 0          0           0       0  ...        0          0   \n",
       "4                 0          0           0       1  ...        0          0   \n",
       "5                 0          0           0       0  ...        0          0   \n",
       "\n",
       "          Horror  Musical  Mystery  Romance  Sci-Fi  Thriller  War  Western  \n",
       "movie_id                                                                     \n",
       "1              0        0        0        0       0         0    0        0  \n",
       "2              0        0        0        0       0         1    0        0  \n",
       "3              0        0        0        0       0         1    0        0  \n",
       "4              0        0        0        0       0         0    0        0  \n",
       "5              0        0        0        0       0         1    0        0  \n",
       "\n",
       "[5 rows x 23 columns]"
      ]
     },
     "execution_count": 31,
     "metadata": {},
     "output_type": "execute_result"
    }
   ],
   "source": [
    "# u.item 파일을 DataFrame으로 읽기\n",
    "i_cols = ['movie_id', 'title', 'release date', 'video release date', 'IMDB URL', \n",
    "        'unknown', 'Action', 'Adventure', 'Animation', 'Children\\'s', 'Comedy', \n",
    "        'Crime', 'Documentary', 'Drama', 'Fantasy', 'Film-Noir', 'Horror', \n",
    "        'Musical', 'Mystery', 'Romance', 'Sci-Fi', 'Thriller', 'War', 'Western']\n",
    "movies = pd.read_csv('../Data/u.item', sep='|', \n",
    "                names=i_cols, encoding='latin-1') # names: dataframe의 열 이름으로 할당\n",
    "# 'movie_id'라는 열을 DataFrame의 인덱스로 설정\n",
    "movies = movies.set_index('movie_id')   # movie_id 열을 인덱스로 설정\n",
    "movies.head()"
   ]
  },
  {
   "cell_type": "code",
   "execution_count": 32,
   "metadata": {},
   "outputs": [
    {
     "data": {
      "text/html": [
       "<div>\n",
       "<style scoped>\n",
       "    .dataframe tbody tr th:only-of-type {\n",
       "        vertical-align: middle;\n",
       "    }\n",
       "\n",
       "    .dataframe tbody tr th {\n",
       "        vertical-align: top;\n",
       "    }\n",
       "\n",
       "    .dataframe thead th {\n",
       "        text-align: right;\n",
       "    }\n",
       "</style>\n",
       "<table border=\"1\" class=\"dataframe\">\n",
       "  <thead>\n",
       "    <tr style=\"text-align: right;\">\n",
       "      <th></th>\n",
       "      <th>movie_id</th>\n",
       "      <th>rating</th>\n",
       "      <th>timestamp</th>\n",
       "    </tr>\n",
       "    <tr>\n",
       "      <th>user_id</th>\n",
       "      <th></th>\n",
       "      <th></th>\n",
       "      <th></th>\n",
       "    </tr>\n",
       "  </thead>\n",
       "  <tbody>\n",
       "    <tr>\n",
       "      <th>196</th>\n",
       "      <td>242</td>\n",
       "      <td>3</td>\n",
       "      <td>881250949</td>\n",
       "    </tr>\n",
       "    <tr>\n",
       "      <th>186</th>\n",
       "      <td>302</td>\n",
       "      <td>3</td>\n",
       "      <td>891717742</td>\n",
       "    </tr>\n",
       "    <tr>\n",
       "      <th>22</th>\n",
       "      <td>377</td>\n",
       "      <td>1</td>\n",
       "      <td>878887116</td>\n",
       "    </tr>\n",
       "    <tr>\n",
       "      <th>244</th>\n",
       "      <td>51</td>\n",
       "      <td>2</td>\n",
       "      <td>880606923</td>\n",
       "    </tr>\n",
       "    <tr>\n",
       "      <th>166</th>\n",
       "      <td>346</td>\n",
       "      <td>1</td>\n",
       "      <td>886397596</td>\n",
       "    </tr>\n",
       "  </tbody>\n",
       "</table>\n",
       "</div>"
      ],
      "text/plain": [
       "         movie_id  rating  timestamp\n",
       "user_id                             \n",
       "196           242       3  881250949\n",
       "186           302       3  891717742\n",
       "22            377       1  878887116\n",
       "244            51       2  880606923\n",
       "166           346       1  886397596"
      ]
     },
     "execution_count": 32,
     "metadata": {},
     "output_type": "execute_result"
    }
   ],
   "source": [
    "# u.data 파일을 DataFrame으로 읽기 (rating 1~5점/timestap 연도/날짜/시간을 숫자로 변환한 값)\n",
    "r_cols  = ['user_id', 'movie_id', 'rating', 'timestamp']\n",
    "ratings = pd.read_csv('../Data/u.data', sep='\\t', names=r_cols, encoding='latin-1') # tab으로 분리\n",
    "ratings = ratings.set_index('user_id')\n",
    "ratings.head()"
   ]
  },
  {
   "cell_type": "markdown",
   "metadata": {},
   "source": [
    "## 2-2. 인기제품(best-seller) 방식"
   ]
  },
  {
   "cell_type": "code",
   "execution_count": 33,
   "metadata": {},
   "outputs": [
    {
     "name": "stdout",
     "output_type": "stream",
     "text": [
      "movie_id\n",
      "814                         Great Day in Harlem, A (1994)\n",
      "1599                        Someone Else's America (1995)\n",
      "1201           Marlene Dietrich: Shadow and Light (1996) \n",
      "1122                       They Made Me a Criminal (1939)\n",
      "1653    Entertaining Angels: The Dorothy Day Story (1996)\n",
      "Name: title, dtype: object\n",
      "movie_id\n",
      "814                         Great Day in Harlem, A (1994)\n",
      "1599                        Someone Else's America (1995)\n",
      "1201           Marlene Dietrich: Shadow and Light (1996) \n",
      "1122                       They Made Me a Criminal (1939)\n",
      "1653    Entertaining Angels: The Dorothy Day Story (1996)\n",
      "Name: title, dtype: object\n"
     ]
    }
   ],
   "source": [
    "# Best-seller 추천 \n",
    "\n",
    "def recom_movie1(n_items=5):\n",
    "    # movie_mean을 내림차순으로 n_items 만큼 movie_sort에 저장\n",
    "    movie_sort      = movie_mean.sort_values(ascending=False)[:n_items]\n",
    "    # movies에서 movie_sort에 해당하는 정보를 recom_movie에 저장\n",
    "    # df.loc[index(, column)], df.loc[[index_labels], [column_labels]]\n",
    "    recom_movies    = movies.loc[movie_sort.index]\n",
    "    # recom_movies에서 영화제목만 골라내어 저장\n",
    "    recommendations = recom_movies['title']\n",
    "    return recommendations\n",
    "\n",
    "# 각 movie_id 별 rating의 평균(mean)을 계산하여 저장 (Series 형식)\n",
    "movie_mean = ratings.groupby(['movie_id'])['rating'].mean()\n",
    "print(recom_movie1(5))\n",
    "\n",
    "# recom_movie1과 같은 역할. 코드를 한 줄로 만든 ver.\n",
    "def recom_movie2(n_items):\n",
    "    return movies.loc[movie_mean.sort_values(ascending=False)[:n_items].index]['title']\n",
    "\n",
    "print(recom_movie2(5))"
   ]
  },
  {
   "cell_type": "markdown",
   "metadata": {},
   "source": [
    "## 2-3. 추천 시스템의 정확도 측정"
   ]
  },
  {
   "cell_type": "code",
   "execution_count": 34,
   "metadata": {},
   "outputs": [
    {
     "name": "stdout",
     "output_type": "stream",
     "text": [
      "0.996007224010567\n"
     ]
    }
   ],
   "source": [
    "# 정확도 계산 \n",
    "def RMSE(y_true, y_pred):   \n",
    "    return np.sqrt(np.mean((np.array(y_true) - np.array(y_pred))**2))\n",
    "\n",
    "rmse = []\n",
    "for user in set(ratings.index): # ratings에 있는 user_id를 다 추출해서 user마다 루프\n",
    "    # 각 user가 평가한 영화의 평점을 y_true에 저장\n",
    "    y_true = ratings.loc[user]['rating']    \n",
    "    # 해당 user가 평가한 영화의 전체 평점 평균을 y_pred에 저장\n",
    "    y_pred = movie_mean[ratings.loc[user]['movie_id']]  \n",
    "    # 해당 user의 rmse 계산 (예측값(전체유저의 평점평균), 실제값 (해당유저의 평점))\n",
    "    accuracy = RMSE(y_true, y_pred)\n",
    "    # 현재 사용자의 rmse(정확도)를 리스트에 추가\n",
    "    rmse.append(accuracy)\n",
    "\n",
    "# 전체 사용자의 rmse의 평균\n",
    "print(np.mean(rmse))"
   ]
  },
  {
   "cell_type": "markdown",
   "metadata": {},
   "source": [
    "## 2-4. 사용자 집단별 추천"
   ]
  },
  {
   "cell_type": "markdown",
   "metadata": {},
   "source": [
    "### 데이터 읽어오고 train, test set 분리"
   ]
  },
  {
   "cell_type": "code",
   "execution_count": 35,
   "metadata": {},
   "outputs": [],
   "source": [
    "import numpy as np\n",
    "import pandas as pd\n",
    "\n",
    "# 데이터 읽어 오기 \n",
    "u_cols = ['user_id', 'age', 'sex', 'occupation', 'zip_code']\n",
    "users  = pd.read_csv('../Data/u.user', sep='|', names=u_cols, encoding='latin-1')\n",
    "i_cols = ['movie_id', 'title', 'release date', 'video release date', 'IMDB URL', 'unknown', \n",
    "        'Action', 'Adventure', 'Animation', 'Children\\'s', 'Comedy', 'Crime', 'Documentary', \n",
    "        'Drama', 'Fantasy', 'Film-Noir', 'Horror', 'Musical', 'Mystery', 'Romance', 'Sci-Fi', \n",
    "        'Thriller', 'War', 'Western']\n",
    "movies  = pd.read_csv('../Data/u.item', sep='|', names=i_cols, encoding='latin-1')\n",
    "r_cols  = ['user_id', 'movie_id', 'rating', 'timestamp']\n",
    "ratings = pd.read_csv('../Data/u.data', sep='\\t', names=r_cols, encoding='latin-1')\n",
    "\n",
    "# timestamp 제거 \n",
    "ratings = ratings.drop('timestamp', axis=1)     # axis=1:column을 삭제\n",
    "# movie ID와 title 빼고 다른 데이터 제거\n",
    "movies  = movies[['movie_id', 'title']]"
   ]
  },
  {
   "cell_type": "code",
   "execution_count": 36,
   "metadata": {},
   "outputs": [
    {
     "name": "stdout",
     "output_type": "stream",
     "text": [
      "       user_id  movie_id  rating\n",
      "84155      843       181       3\n",
      "34747      453       318       4\n",
      "38509      450       302       5\n",
      "59571      850       566       5\n",
      "63084      717       975       2\n",
      "...        ...       ...     ...\n",
      "20825      401        71       2\n",
      "91483      929       135       5\n",
      "65037      850       228       5\n",
      "35625       82       866       3\n",
      "49883      668        97       2\n",
      "\n",
      "[75000 rows x 3 columns]\n"
     ]
    },
    {
     "name": "stderr",
     "output_type": "stream",
     "text": [
      "/opt/homebrew/lib/python3.11/site-packages/sklearn/utils/validation.py:605: FutureWarning: is_sparse is deprecated and will be removed in a future version. Check `isinstance(dtype, pd.SparseDtype)` instead.\n",
      "  if is_sparse(pd_dtype):\n",
      "/opt/homebrew/lib/python3.11/site-packages/sklearn/utils/validation.py:614: FutureWarning: is_sparse is deprecated and will be removed in a future version. Check `isinstance(dtype, pd.SparseDtype)` instead.\n",
      "  if is_sparse(pd_dtype) or not is_extension_array_dtype(pd_dtype):\n"
     ]
    }
   ],
   "source": [
    "# train, test set 분리\n",
    "from sklearn.model_selection import train_test_split\n",
    "x = ratings.copy()\n",
    "y = ratings['user_id']  # train_set과 test_set 분리 기준을 user_id로 하기 위해.\n",
    "# 75% train_set, 25% test_set 분리 / user_id 비율 맞춰서 train과 test 분리\n",
    "x_train, x_test, y_train, y_test = train_test_split(x, y, test_size=0.25, stratify=y)\n",
    "print(x_train)"
   ]
  },
  {
   "cell_type": "markdown",
   "metadata": {},
   "source": [
    "### 예측모델별 정확도 RMSE 계산하는 함수"
   ]
  },
  {
   "cell_type": "code",
   "execution_count": 37,
   "metadata": {},
   "outputs": [],
   "source": [
    "# 정확도(RMSE)를 계산하는 함수\n",
    "def RMSE(y_true, y_pred):\n",
    "    return np.sqrt(np.mean((np.array(y_true) - np.array(y_pred))**2))\n",
    "\n",
    "# 모델별 RMSE를 계산하는 함수 \n",
    "def score(model):\n",
    "    # test할 사용자-영화 짝 pair 생성\n",
    "    id_pairs = zip(x_test['user_id'], x_test['movie_id'])\n",
    "    # 예측 모델에 의한 사용자-영화 짝에 대한 예측값을 계산(by x_train)하여 y_pred에 저장\n",
    "    y_pred = np.array([model(user, movie) for (user, movie) in id_pairs])\n",
    "    # 실제 평점값 리스트(by x_test)를 y_true에 저장\n",
    "    y_true = np.array(x_test['rating'])\n",
    "    return RMSE(y_true, y_pred)\n",
    "\n",
    "# train 데이터로 Full matrix 구하기 \n",
    "rating_matrix = x_train.pivot(index='user_id', columns='movie_id', values='rating')\n"
   ]
  },
  {
   "cell_type": "markdown",
   "metadata": {},
   "source": [
    "### 예측모델 1: 전체 평균으로 예측"
   ]
  },
  {
   "cell_type": "code",
   "execution_count": 38,
   "metadata": {},
   "outputs": [
    {
     "data": {
      "text/plain": [
       "1.0231339443139937"
      ]
     },
     "execution_count": 38,
     "metadata": {},
     "output_type": "execute_result"
    }
   ],
   "source": [
    "# 전체 평균으로 예측치를 계산하는 기본 모델\n",
    "def best_seller(user_id, movie_id):\n",
    "    try:\n",
    "        # x_train에서 해당 movie_id의 rating 전체 평균값을 rating에 저장\n",
    "        rating = train_mean[movie_id]\n",
    "    except: # test에 있는 movie_id가 train에 없을 때\n",
    "        rating = 3.0\n",
    "    return rating\n",
    "\n",
    "train_mean = x_train.groupby(['movie_id'])['rating'].mean()\n",
    "score(best_seller)"
   ]
  },
  {
   "cell_type": "markdown",
   "metadata": {},
   "source": [
    "2-3에서 전체 데이터를 사용하여 예측한 경우보다 나빠진(RMSE 값이 커진) 이유는 train/test set을 분리하여 자신의 데이터로 자신을 예측하지 않도록 했기 때문!"
   ]
  },
  {
   "cell_type": "markdown",
   "metadata": {},
   "source": [
    "### 예측모델 2: gender별 평균으로 예측"
   ]
  },
  {
   "cell_type": "code",
   "execution_count": 39,
   "metadata": {},
   "outputs": [],
   "source": [
    "# Full matrix를 사용자 데이터와 merge (공통key인 user_id 기준으로 merge)\n",
    "merged_ratings = pd.merge(x_train, users)   # user정보와 rating train set이 합쳐짐\n",
    "users = users.set_index('user_id')"
   ]
  },
  {
   "cell_type": "code",
   "execution_count": 40,
   "metadata": {},
   "outputs": [
    {
     "data": {
      "text/plain": [
       "1.033517203648101"
      ]
     },
     "execution_count": 40,
     "metadata": {},
     "output_type": "execute_result"
    }
   ],
   "source": [
    "# gender별 평점평균 계산\n",
    "# sex와 movie_id를 기준으로 평점(rating)의 평균을 구해서 g_means에 저장\n",
    "g_mean = merged_ratings[['movie_id', 'sex', 'rating']].groupby(['movie_id', 'sex'])['rating'].mean()\n",
    "\n",
    "# gender별 평균을 예측치로 돌려주는 모델\n",
    "def cf_gender(user_id, movie_id):\n",
    "    if movie_id in rating_matrix:   # test셋에 있는 movie_id가 traing셋(rating_matrix)에 있다면\n",
    "        gender = users.loc[user_id]['sex']  # test 당하는 user의 성별 반환\n",
    "        if gender in g_mean[movie_id]:      # 해당 gender가 해당 movie_id를 평가한 데이터가 train셋에 있다면\n",
    "            gender_rating = g_mean[movie_id][gender]\n",
    "        else:                               # 해당 gender가 해당 movie_id를 평가한 데이터가 train셋에 없다면\n",
    "            gender_rating = 3.0\n",
    "    else:                           # test셋에 있는 movie_id가 traing셋(rating_matrix)에 없다면\n",
    "        gender_rating = 3.0\n",
    "    return gender_rating\n",
    "\n",
    "score(cf_gender)"
   ]
  },
  {
   "cell_type": "code",
   "execution_count": 41,
   "metadata": {},
   "outputs": [
    {
     "data": {
      "text/plain": [
       "1.033517203648101"
      ]
     },
     "execution_count": 41,
     "metadata": {},
     "output_type": "execute_result"
    }
   ],
   "source": [
    "# gender별 평점평균 계산\n",
    "# sex와 movie_id를 기준으로 평점(rating)의 평균을 구해서 g_means에 저장\n",
    "g_mean = merged_ratings[['movie_id', 'sex', 'rating']].groupby(['movie_id', 'sex'])['rating'].mean()\n",
    "\n",
    "# gender별 평균을 예측치로 돌려주는 모델\n",
    "def cf_gender(user_id, movie_id):\n",
    "    if movie_id in rating_matrix:   # test셋에 있는 movie_id가 traing셋(rating_matrix)에 있다면\n",
    "        gender = users.loc[user_id]['sex']  # test 당하는 user의 성별 반환\n",
    "        if gender in g_mean[movie_id]:      # 해당 gender가 해당 movie_id를 평가한 데이터가 train셋에 있다면\n",
    "            gender_rating = g_mean[movie_id][gender]\n",
    "        else:                               # 해당 gender가 해당 movie_id를 평가한 데이터가 train셋에 없다면\n",
    "            gender_rating = 3.0\n",
    "    else:                           # test셋에 있는 movie_id가 traing셋(rating_matrix)에 없다면\n",
    "        gender_rating = 3.0\n",
    "    return gender_rating\n",
    "\n",
    "score(cf_gender)"
   ]
  },
  {
   "cell_type": "markdown",
   "metadata": {},
   "source": [
    "### 예측모델 3: gender와 occupation을 동시에 고려한 집단별 평균으로 예측 (연습문제 2-2)"
   ]
  },
  {
   "cell_type": "code",
   "execution_count": 42,
   "metadata": {},
   "outputs": [
    {
     "name": "stdout",
     "output_type": "stream",
     "text": [
      "movie_id  sex  occupation   \n",
      "1         F    administrator    4.0\n",
      "               artist           4.4\n",
      "               educator         3.4\n",
      "               engineer         4.0\n",
      "               entertainment    4.5\n",
      "                               ... \n",
      "1678      M    student          1.0\n",
      "1679      M    student          3.0\n",
      "1680      M    student          2.0\n",
      "1681      M    writer           3.0\n",
      "1682      M    engineer         3.0\n",
      "Name: rating, Length: 22505, dtype: float64\n"
     ]
    }
   ],
   "source": [
    "# (gender, occupation) 별 평점평균 계산\n",
    "# sex와 movie_id를 기준으로 평점(rating)의 평균을 구해서 g_means에 저장\n",
    "g_o_mean = merged_ratings[['movie_id', 'sex', 'occupation', 'rating']].groupby(['movie_id', 'sex', 'occupation'])['rating'].mean()\n",
    "print(g_o_mean)"
   ]
  },
  {
   "cell_type": "code",
   "execution_count": 43,
   "metadata": {},
   "outputs": [
    {
     "data": {
      "text/plain": [
       "1.1356397530010616"
      ]
     },
     "execution_count": 43,
     "metadata": {},
     "output_type": "execute_result"
    }
   ],
   "source": [
    "# gender, occupation 별 평균을 예측치로 돌려주는 모델\n",
    "def cf_gender_occupation(user_id, movie_id):\n",
    "    if movie_id in rating_matrix:   # test셋에 있는 movie_id가 traing셋(rating_matrix)에 있다면\n",
    "        gender     = users.loc[user_id]['sex']          # test 당하는 user의 성별 반환\n",
    "        occupation = users.loc[user_id]['occupation']   # test 당하는 user의 직업 반환\n",
    "        if gender in g_o_mean[movie_id]:                # 해당 gender가 해당 movie_id를 평가한 데이터가 train셋에 있다면\n",
    "                if occupation in g_o_mean[movie_id][gender]:    # 해당 gender의 해당 occupation이 해당 movie_id를 평가한 데이터가 train셋에 있다면\n",
    "                    gender_rating = g_o_mean[movie_id][gender][occupation]\n",
    "                else:\n",
    "                    gender_rating = 3.0\n",
    "        else:                               \n",
    "            gender_rating = 3.0\n",
    "    else:                           \n",
    "        gender_rating = 3.0\n",
    "    return gender_rating\n",
    "\n",
    "score(cf_gender_occupation)"
   ]
  },
  {
   "cell_type": "markdown",
   "metadata": {},
   "source": [
    "사용자 집단(성별, 직업과 같은 인구통계적 변수 기준)별 추천은 정확하지 않다!!!  \n",
    "3장에서 취향을 기준으로 나누어 보자!"
   ]
  },
  {
   "cell_type": "markdown",
   "metadata": {},
   "source": [
    "## 2-5. 내용 기반 필터링 추천"
   ]
  },
  {
   "cell_type": "code",
   "execution_count": 5,
   "metadata": {},
   "outputs": [
    {
     "name": "stdout",
     "output_type": "stream",
     "text": [
      "      id                        title  \\\n",
      "0    862                    Toy Story   \n",
      "1   8844                      Jumanji   \n",
      "2  15602             Grumpier Old Men   \n",
      "3  31357            Waiting to Exhale   \n",
      "4  11862  Father of the Bride Part II   \n",
      "5    949                         Heat   \n",
      "6  45325                 Tom and Huck   \n",
      "7   9091                 Sudden Death   \n",
      "8    710                    GoldenEye   \n",
      "9   9087       The American President   \n",
      "\n",
      "                                            overview  \n",
      "0  Led by Woody, Andy's toys live happily in his ...  \n",
      "1  When siblings Judy and Peter discover an encha...  \n",
      "2  A family wedding reignites the ancient feud be...  \n",
      "3  Cheated on, mistreated and stepped on, the wom...  \n",
      "4  Just when George Banks has recovered from his ...  \n",
      "5  Obsessive master thief, Neil McCauley leads a ...  \n",
      "6  A mischievous young boy, Tom Sawyer, witnesses...  \n",
      "7  International action superstar Jean Claude Van...  \n",
      "8  James Bond must unmask the mysterious head of ...  \n",
      "9  Widowed U.S. president Andrew Shepherd, one of...  \n"
     ]
    },
    {
     "data": {
      "text/plain": [
       "45442"
      ]
     },
     "execution_count": 5,
     "metadata": {},
     "output_type": "execute_result"
    }
   ],
   "source": [
    "# Created or modified on May 2022\n",
    "# Author: 임일\n",
    "# CB기반 추천\n",
    "\n",
    "import pandas as pd\n",
    "\n",
    "# Data 읽기 (내용기반 -> 줄거리 필요 -> movies_metadata.csv 이용)\n",
    "movies = pd.read_csv('../Data/movies_metadata.csv', encoding='latin-1', low_memory=False)\n",
    "movies = movies[['id', 'title', 'overview']]\n",
    "print(movies.head(10))\n",
    "len(movies) # 영화개수"
   ]
  },
  {
   "cell_type": "code",
   "execution_count": 9,
   "metadata": {},
   "outputs": [
    {
     "name": "stdout",
     "output_type": "stream",
     "text": [
      "44300\n",
      "          0         1         2         3         4         5         6      \\\n",
      "0      1.000000  0.014981  0.000000  0.000000  0.000000  0.000000  0.000000   \n",
      "1      0.014981  1.000000  0.046968  0.000000  0.000000  0.050222  0.000000   \n",
      "2      0.000000  0.046968  1.000000  0.000000  0.025070  0.000000  0.006414   \n",
      "3      0.000000  0.000000  0.000000  1.000000  0.000000  0.007214  0.008982   \n",
      "4      0.000000  0.000000  0.025070  0.000000  1.000000  0.000000  0.000000   \n",
      "...         ...       ...       ...       ...       ...       ...       ...   \n",
      "45437  0.000000  0.000000  0.000000  0.026478  0.000000  0.025460  0.000000   \n",
      "45438  0.000000  0.066866  0.000000  0.000000  0.000000  0.000000  0.000000   \n",
      "45439  0.000000  0.000000  0.000000  0.000000  0.000000  0.000000  0.000000   \n",
      "45440  0.005955  0.022018  0.014077  0.009531  0.007014  0.000000  0.005263   \n",
      "45441  0.000000  0.009356  0.000000  0.016436  0.000000  0.000000  0.000000   \n",
      "\n",
      "          7         8         9      ...  45432  45433  45434     45435  \\\n",
      "0      0.000000  0.000000  0.000000  ...    0.0    0.0    0.0  0.000000   \n",
      "1      0.102622  0.000000  0.007219  ...    0.0    0.0    0.0  0.011276   \n",
      "2      0.000000  0.000000  0.000000  ...    0.0    0.0    0.0  0.000000   \n",
      "3      0.000000  0.000000  0.000000  ...    0.0    0.0    0.0  0.021457   \n",
      "4      0.032820  0.000000  0.000000  ...    0.0    0.0    0.0  0.000000   \n",
      "...         ...       ...       ...  ...    ...    ...    ...       ...   \n",
      "45437  0.000000  0.000000  0.000000  ...    0.0    0.0    0.0  0.000000   \n",
      "45438  0.000000  0.050056  0.000000  ...    0.0    0.0    0.0  0.000000   \n",
      "45439  0.038175  0.000000  0.000000  ...    0.0    0.0    0.0  0.031201   \n",
      "45440  0.000000  0.000000  0.000000  ...    0.0    0.0    0.0  0.000000   \n",
      "45441  0.000000  0.000000  0.014672  ...    0.0    0.0    0.0  0.031088   \n",
      "\n",
      "       45436     45437     45438  45439     45440     45441  \n",
      "0        0.0  0.000000  0.000000    0.0  0.005955  0.000000  \n",
      "1        0.0  0.000000  0.066866    0.0  0.022018  0.009356  \n",
      "2        0.0  0.000000  0.000000    0.0  0.014077  0.000000  \n",
      "3        0.0  0.026478  0.000000    0.0  0.009531  0.016436  \n",
      "4        0.0  0.000000  0.000000    0.0  0.007014  0.000000  \n",
      "...      ...       ...       ...    ...       ...       ...  \n",
      "45437    0.0  1.000000  0.000000    0.0  0.000000  0.000000  \n",
      "45438    0.0  0.000000  1.000000    0.0  0.000000  0.000000  \n",
      "45439    0.0  0.000000  0.000000    1.0  0.000000  0.000000  \n",
      "45440    0.0  0.000000  0.000000    0.0  1.000000  0.000000  \n",
      "45441    0.0  0.000000  0.000000    0.0  0.000000  1.000000  \n",
      "\n",
      "[44300 rows x 44300 columns]\n"
     ]
    }
   ],
   "source": [
    "########## 1. 데이터 전처리\n",
    "movies = movies.drop_duplicates()   # 중복 데이터 삭제\n",
    "movies = movies.dropna()            # 비어있는 데이터 삭제\n",
    "movies['overview'] = movies['overview'].fillna('')  # 줄거리가 비어있는 것은 빈칸으로 메움\n",
    "print(len(movies))\n",
    "\n",
    "\n",
    "########## 2. 각 문서(overview)에 등장하는 모든 단어의 가중치 계산\n",
    "from sklearn.feature_extraction.text import TfidfVectorizer\n",
    "# 텍스트의 불용어를 english로 지정\n",
    "tfidf = TfidfVectorizer(stop_words='english')\n",
    "# 줄거리(overview) 텍스트에 대해서 tf-idf를 계산\n",
    "# tf: 어떤 단어가 해당 문서에 얼마나 자주 등장하는가 / idf: 다른 문서에 비해 상대적으로 얼마나 자주 등장하는가\n",
    "tfidf_matrix = tfidf.fit_transform(movies['overview'])\n",
    "\n",
    "######### 3. 단어의 가중치가 문서 간(영화 줄거리)에 얼마나 유사한지 유사도 계산\n",
    "from sklearn.metrics.pairwise import cosine_similarity\n",
    "# 영화 간의 유사도 계산\n",
    "cosine_sim = cosine_similarity(tfidf_matrix, tfidf_matrix)\n",
    "# 유사도 다루기 편한 DataFrame으로 변환\n",
    "cosine_sim = pd.DataFrame(cosine_sim, index=movies.index, columns=movies.index)\n",
    "print(cosine_sim)\n"
   ]
  },
  {
   "cell_type": "code",
   "execution_count": 10,
   "metadata": {},
   "outputs": [
    {
     "name": "stdout",
     "output_type": "stream",
     "text": [
      "34664    How the Lion Cub and the Turtle Sang a Song\n",
      "9339                               The Lion King 1Â½\n",
      "9101                  The Lion King 2: Simba's Pride\n",
      "42806                                           Prey\n",
      "25637                                 Fearless Fagan\n",
      "Name: title, dtype: object\n",
      "12468                                      The Dark Knight\n",
      "149                                         Batman Forever\n",
      "1321                                        Batman Returns\n",
      "15497                           Batman: Under the Red Hood\n",
      "584                                                 Batman\n",
      "21179    Batman Unmasked: The Psychology of the Dark Kn...\n",
      "9216                    Batman Beyond: Return of the Joker\n",
      "18021                                     Batman: Year One\n",
      "19778              Batman: The Dark Knight Returns, Part 1\n",
      "3085                          Batman: Mask of the Phantasm\n",
      "Name: title, dtype: object\n"
     ]
    }
   ],
   "source": [
    "# index-title을 뒤집는다\n",
    "indices = pd.Series(movies.index, index=movies['title'])\n",
    "\n",
    "######### 4. 영화제목을 받아서 추천 영화를 돌려주는 함수\n",
    "def content_recommender(title, n_of_recomm):\n",
    "    # title에서 영화 index 받아오기\n",
    "    idx = indices[title]\n",
    "    # 주어진 영화와 다른 영화의 similarity를 가져온다\n",
    "    sim_scores = cosine_sim[idx]\n",
    "    # similarity 기준으로 내림차순 정렬하고 n_of_recomm만큼 가져오기 (자기자신은 빼기)\n",
    "    sim_scores = sim_scores.sort_values(ascending=False)[1:n_of_recomm+1]\n",
    "    # 영화 title 반환\n",
    "    return movies.loc[sim_scores.index]['title']\n",
    "\n",
    "# 추천받기\n",
    "print(content_recommender('The Lion King', 5))\n",
    "print(content_recommender('The Dark Knight Rises', 10))"
   ]
  }
 ],
 "metadata": {
  "kernelspec": {
   "display_name": "Python 3",
   "language": "python",
   "name": "python3"
  },
  "language_info": {
   "codemirror_mode": {
    "name": "ipython",
    "version": 3
   },
   "file_extension": ".py",
   "mimetype": "text/x-python",
   "name": "python",
   "nbconvert_exporter": "python",
   "pygments_lexer": "ipython3",
   "version": "3.11.3"
  },
  "orig_nbformat": 4
 },
 "nbformat": 4,
 "nbformat_minor": 2
}
