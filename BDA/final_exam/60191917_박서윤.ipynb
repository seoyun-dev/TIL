{
 "cells": [
  {
   "cell_type": "markdown",
   "id": "3e51c91f",
   "metadata": {},
   "source": [
    "# 빅데이터 분석 기말고사 "
   ]
  },
  {
   "cell_type": "markdown",
   "id": "de96c48c",
   "metadata": {},
   "source": [
    "## 1. 선형회귀에 대해 설명하고, 정규방정식을 통한 선형회귀와 경사하강법을 통한 선형회귀가 어떻게 다른지를 설명하세요. 또한 사이킷런에서 각 방법을 통해 해결할 시에 어떤 함수를 활용해야 하는지 답하세요."
   ]
  },
  {
   "cell_type": "markdown",
   "id": "68855d16",
   "metadata": {},
   "source": [
    "선형회귀: 기본적인 직관으로 학습데이터가 있을 때 데이터를 잘 표현하는 선을 얻는 것.  -> 잘 표현한 기준: 제곱 오차 최소화\n",
    "- 정규방정식을 통한 선형회귀: 제곱 오차를 최소화하기 위한 계수를 미분을 통해 찾는 방법\n",
    "    - sklearn.linear_model.LinearRegression 활용\n",
    "- 경사하강법을 통한 선형회귀: 'W_new = W_old - a * gradient'와 같은 경사하강법을 통해 손실함수 J를 최소화하는 계수를 찾는 방법\n",
    "    - sklearn.linear_model.SGDRegressor 활용"
   ]
  },
  {
   "cell_type": "markdown",
   "id": "c9dadd81",
   "metadata": {},
   "source": [
    "## 2. 사이킷런의 당뇨병 데이터셋 분석 (선형회귀)"
   ]
  },
  {
   "cell_type": "markdown",
   "id": "298a5af9",
   "metadata": {},
   "source": [
    "### 2. (a) 사이킷런을 통해 당뇨병 데이터셋을 불러와서 훈련 데이터와 테스트 데이터 셋을 2:1의 비율로 분할 하세요. (데이터프레임 형태로 피쳐와 목적 변수를 따로 지정하고 random_state는 1234로 하세요.)"
   ]
  },
  {
   "cell_type": "code",
   "execution_count": 230,
   "id": "926aeb7f",
   "metadata": {},
   "outputs": [],
   "source": [
    "from sklearn.datasets import load_diabetes\n",
    "from sklearn.model_selection import train_test_split\n",
    "\n",
    "X, y = load_diabetes(return_X_y=True, as_frame=True)\n",
    "X_train, X_test, y_train, y_test = train_test_split(X,y,test_size=1/3,random_state=1234)"
   ]
  },
  {
   "cell_type": "markdown",
   "id": "70c613be",
   "metadata": {},
   "source": [
    "### 2. (b) 표준정규화 스케일러를 통해 훈련 데이터를 기반으로 스케일러를 fit하고, 해당 스케일러를 통해 학습 데이터와 테스트 데이터를 스케일링 하세요. "
   ]
  },
  {
   "cell_type": "code",
   "execution_count": 231,
   "id": "f0765372",
   "metadata": {},
   "outputs": [
    {
     "name": "stderr",
     "output_type": "stream",
     "text": [
      "/opt/homebrew/lib/python3.11/site-packages/sklearn/utils/validation.py:767: FutureWarning: is_sparse is deprecated and will be removed in a future version. Check `isinstance(dtype, pd.SparseDtype)` instead.\n",
      "  if not hasattr(array, \"sparse\") and array.dtypes.apply(is_sparse).any():\n",
      "/opt/homebrew/lib/python3.11/site-packages/sklearn/utils/validation.py:605: FutureWarning: is_sparse is deprecated and will be removed in a future version. Check `isinstance(dtype, pd.SparseDtype)` instead.\n",
      "  if is_sparse(pd_dtype):\n",
      "/opt/homebrew/lib/python3.11/site-packages/sklearn/utils/validation.py:614: FutureWarning: is_sparse is deprecated and will be removed in a future version. Check `isinstance(dtype, pd.SparseDtype)` instead.\n",
      "  if is_sparse(pd_dtype) or not is_extension_array_dtype(pd_dtype):\n",
      "/opt/homebrew/lib/python3.11/site-packages/sklearn/utils/validation.py:767: FutureWarning: is_sparse is deprecated and will be removed in a future version. Check `isinstance(dtype, pd.SparseDtype)` instead.\n",
      "  if not hasattr(array, \"sparse\") and array.dtypes.apply(is_sparse).any():\n",
      "/opt/homebrew/lib/python3.11/site-packages/sklearn/utils/validation.py:605: FutureWarning: is_sparse is deprecated and will be removed in a future version. Check `isinstance(dtype, pd.SparseDtype)` instead.\n",
      "  if is_sparse(pd_dtype):\n",
      "/opt/homebrew/lib/python3.11/site-packages/sklearn/utils/validation.py:614: FutureWarning: is_sparse is deprecated and will be removed in a future version. Check `isinstance(dtype, pd.SparseDtype)` instead.\n",
      "  if is_sparse(pd_dtype) or not is_extension_array_dtype(pd_dtype):\n",
      "/opt/homebrew/lib/python3.11/site-packages/sklearn/utils/validation.py:767: FutureWarning: is_sparse is deprecated and will be removed in a future version. Check `isinstance(dtype, pd.SparseDtype)` instead.\n",
      "  if not hasattr(array, \"sparse\") and array.dtypes.apply(is_sparse).any():\n",
      "/opt/homebrew/lib/python3.11/site-packages/sklearn/utils/validation.py:605: FutureWarning: is_sparse is deprecated and will be removed in a future version. Check `isinstance(dtype, pd.SparseDtype)` instead.\n",
      "  if is_sparse(pd_dtype):\n",
      "/opt/homebrew/lib/python3.11/site-packages/sklearn/utils/validation.py:614: FutureWarning: is_sparse is deprecated and will be removed in a future version. Check `isinstance(dtype, pd.SparseDtype)` instead.\n",
      "  if is_sparse(pd_dtype) or not is_extension_array_dtype(pd_dtype):\n"
     ]
    }
   ],
   "source": [
    "from sklearn.preprocessing import StandardScaler\n",
    "\n",
    "# 표준 스케일링 (표준정규분포 따르도록)\n",
    "scaler = StandardScaler()\n",
    "\n",
    "# fit(): X_train 데이터를 이용해 스케일링에 필요한 평균과 표준편차를 계산\n",
    "scaler.fit(X_train)   \n",
    "\n",
    "X_train = scaler.transform(X_train)  # 스케일링\n",
    "X_test  = scaler.transform(X_test)   # 스케일링"
   ]
  },
  {
   "cell_type": "markdown",
   "id": "413307b6",
   "metadata": {},
   "source": [
    "### 2. (c) 학습 데이터를 통해 목적 변수와 피처 사이의 관계를 선형회귀 모델로 학습 (정규방정식을 통한) 하고 테스트 데이터 셋에 대해 mean_absolute_error를 계산하세요."
   ]
  },
  {
   "cell_type": "code",
   "execution_count": 232,
   "id": "f962dce7",
   "metadata": {},
   "outputs": [
    {
     "name": "stdout",
     "output_type": "stream",
     "text": [
      "학습 데이터셋 MAE: 43.00374425045685\n"
     ]
    }
   ],
   "source": [
    "import numpy as np \n",
    "\n",
    "n_train, n_test = X_train.shape[0], X_test.shape[0]\n",
    "\n",
    "X_train = np.append(np.ones((n_train, 1)), X_train, axis=1)\n",
    "X_test  = np.append(np.ones((n_test, 1)), X_test, axis=1)\n",
    "\n",
    "w = np.linalg.inv(X_train.T @ X_train) @ X_train.T @ y_train                    \n",
    "\n",
    "y_pred = X_test @ w\n",
    "\n",
    "print('학습 데이터셋 MAE:',np.abs(y_pred - y_test).mean())"
   ]
  },
  {
   "cell_type": "markdown",
   "id": "b5fcd0ac",
   "metadata": {},
   "source": [
    "### 2. (d) 위에서 획득한 선형회귀 모델 계수의 절댓값이 15가 넘는 계수에 해당하는 피처들에 대해서만, 또 다른 선형회귀 모델로 학습  (정규방정식을 통한) 하여 mean_absolute_error를 계산하세요."
   ]
  },
  {
   "cell_type": "code",
   "execution_count": 234,
   "id": "1d8a7129",
   "metadata": {},
   "outputs": [
    {
     "name": "stdout",
     "output_type": "stream",
     "text": [
      "[150.85714286  -1.28888329 -13.73631203  23.80203652  15.97225675\n",
      " -35.21354691  19.98054577   4.64491946  10.6222712   34.52221499\n",
      "   3.59542681]\n"
     ]
    }
   ],
   "source": [
    "print(w)"
   ]
  },
  {
   "cell_type": "code",
   "execution_count": 235,
   "id": "e3bafb40",
   "metadata": {},
   "outputs": [
    {
     "name": "stdout",
     "output_type": "stream",
     "text": [
      "(148, 11)\n"
     ]
    },
    {
     "data": {
      "text/plain": [
       "(148, 5)"
      ]
     },
     "execution_count": 235,
     "metadata": {},
     "output_type": "execute_result"
    }
   ],
   "source": [
    "# X_train, X_test 피처 선택\n",
    "print(X_test.shape)\n",
    "X_train = X_train[:, w>15]\n",
    "X_test = X_test[:, w>15]\n",
    "\n",
    "X_test.shape"
   ]
  },
  {
   "cell_type": "code",
   "execution_count": 236,
   "id": "33d8656e",
   "metadata": {},
   "outputs": [
    {
     "name": "stdout",
     "output_type": "stream",
     "text": [
      "학습 데이터셋 MAE: 43.355926608749265\n"
     ]
    }
   ],
   "source": [
    "w_2 = np.linalg.inv(X_train.T @ X_train) @ X_train.T @ y_train                    \n",
    "\n",
    "y_pred = X_test @ w_2\n",
    "\n",
    "print('학습 데이터셋 MAE:',np.abs(y_pred - y_test).mean())"
   ]
  },
  {
   "cell_type": "markdown",
   "id": "ca879918",
   "metadata": {},
   "source": [
    "## 3. 사이킷런의 당뇨병 데이터셋 분석2 (선형회귀)"
   ]
  },
  {
   "cell_type": "markdown",
   "id": "aea108c0",
   "metadata": {},
   "source": [
    "### 3. (a) 사이킷런을 통해 당뇨병 데이터셋을 불러와서 훈련 데이터와 테스트 데이터 셋을 2:1의 비율로 분할 하세요. (넘파이 배열 형태로 피쳐와 목적 변수를 따로 지정하고 random_state는 1234로 하세요.)"
   ]
  },
  {
   "cell_type": "code",
   "execution_count": 241,
   "id": "9c689b22",
   "metadata": {},
   "outputs": [],
   "source": [
    "from sklearn.datasets import load_diabetes\n",
    "\n",
    "X, y = load_diabetes(return_X_y=True)\n",
    "X_train, X_test, y_train, y_test = train_test_split(X,y,test_size=1/3,random_state=1234)"
   ]
  },
  {
   "cell_type": "markdown",
   "id": "3478d2c3",
   "metadata": {},
   "source": [
    "### 3. (b) 최소 최대 스케일러를 통해 훈련 데이터를 기반으로 스케일러를 fit하고, 해당 스케일러를 통해 학습 데이터와 테스트 데이터를 스케일링 하세요. "
   ]
  },
  {
   "cell_type": "code",
   "execution_count": 242,
   "id": "77639d5b",
   "metadata": {},
   "outputs": [],
   "source": [
    "from sklearn.preprocessing import MinMaxScaler\n",
    "\n",
    "# 최소-최대 스케일링\n",
    "scaler = MinMaxScaler()\n",
    "\n",
    "scaler.fit(X_train)\n",
    "\n",
    "X_train = scaler.transform(X_train)\n",
    "X_test = scaler.transform(X_test)"
   ]
  },
  {
   "cell_type": "markdown",
   "id": "40c7c37f",
   "metadata": {},
   "source": [
    "### 3. (c) 경사하강법을 통한 선형회귀를 고려할 때, 아래 주어진 선형 모델의 계수 W와 절편 b에 대해, 학습 데이터의 현재 손실함수 값을 계산하세요."
   ]
  },
  {
   "cell_type": "code",
   "execution_count": 243,
   "id": "5f6f0bd9",
   "metadata": {},
   "outputs": [
    {
     "data": {
      "text/plain": [
       "(10, 1)"
      ]
     },
     "execution_count": 243,
     "metadata": {},
     "output_type": "execute_result"
    }
   ],
   "source": [
    "W, b =np.random.normal(0,1,10).reshape(-1,1),1\n",
    "\n",
    "W.shape"
   ]
  },
  {
   "cell_type": "code",
   "execution_count": 244,
   "id": "3af95cb5",
   "metadata": {},
   "outputs": [
    {
     "data": {
      "text/plain": [
       "8455447.405144535"
      ]
     },
     "execution_count": 244,
     "metadata": {},
     "output_type": "execute_result"
    }
   ],
   "source": [
    "hypothesis = np.dot(X_train, W) + b   # 가설함수로 예측값 구하기 \n",
    "diff       = hypothesis - y_train     # 예측값과 실제값의 차이 \n",
    "loss       = np.sum(diff ** 2) / X_train.shape[0] # 손실함수\n",
    "\n",
    "loss"
   ]
  },
  {
   "cell_type": "markdown",
   "id": "7a07c85e",
   "metadata": {},
   "source": [
    "### 3. (d) 학습 데이터를 통해 목적 변수와 피처 사이의 관계를 선형회귀 모델로 학습 (경사하강법) 하고 테스트 데이터 셋에 대해 mean_absolute_error를 계산하세요. (penalty 옵션은 None, 최대 반복횟수는 10000, learning_rate 옵션은 'constant', 학습율 (learning rate)는 0.05, random_state는 1234 로 하세요)"
   ]
  },
  {
   "cell_type": "code",
   "execution_count": 245,
   "id": "0b20a4bc",
   "metadata": {},
   "outputs": [
    {
     "name": "stdout",
     "output_type": "stream",
     "text": [
      "테스트 데이터셋 MAE: 54.059575687640894\n"
     ]
    }
   ],
   "source": [
    "from sklearn.linear_model import SGDRegressor\n",
    "\n",
    "reg = SGDRegressor(penalty=None, max_iter=10000, learning_rate='constant', eta0=0.05, random_state=1234)\n",
    "reg = reg.fit(X_train, y_train)     # 학습 (제곱오차 최소화하도록 계수(w) 업데이트 by 경사하강법)\n",
    "\n",
    "# 테스트 데이터의 예측값과 손실값의 차이의 절댓값의 평균 (MAE)\n",
    "y_pred = reg.predict(X_test)    # 테스트 데이터의 예측값\n",
    "print('테스트 데이터셋 MAE:',np.abs(y_pred - y_test).mean())"
   ]
  },
  {
   "cell_type": "markdown",
   "id": "b49623ba",
   "metadata": {},
   "source": [
    "## 4. 라쏘 회귀, 릿지 회귀에 대해서 설명하세요."
   ]
  },
  {
   "cell_type": "markdown",
   "id": "a0d43e14",
   "metadata": {},
   "source": [
    "라쏘 회귀와 릿지 회귀는 선형회귀의 과대적합을 막아주는 정규화기법을 포함한 회귀이다. 가설함수의 계수에 놈을 추가하여 복잡해지지 않도록 하였다.\n",
    "- 라쏘 회귀 : 선형 회귀 + L1 정규화 \n",
    "- 릿지 회귀 : 선형 회귀 + L2 정규화"
   ]
  },
  {
   "cell_type": "markdown",
   "id": "e1235c56",
   "metadata": {},
   "source": [
    "## 5 advertising 데이터 분석 (라쏘회귀)"
   ]
  },
  {
   "cell_type": "markdown",
   "id": "8aaba241",
   "metadata": {},
   "source": [
    "### 5. (a) advertising1.csv와 advertising2.csv를 판다스의 read_csv를 통해서 load하여  advertising1, advertising2의 이름으로 할당하세요. 또한 두 데이터를 advertising의 이름으로 병합하세요, 병합 시에 ignore_index 옵션을 활용하여, 0~199까지 되게 하세요. "
   ]
  },
  {
   "cell_type": "code",
   "execution_count": 246,
   "id": "df0edaee",
   "metadata": {},
   "outputs": [
    {
     "data": {
      "text/html": [
       "<div>\n",
       "<style scoped>\n",
       "    .dataframe tbody tr th:only-of-type {\n",
       "        vertical-align: middle;\n",
       "    }\n",
       "\n",
       "    .dataframe tbody tr th {\n",
       "        vertical-align: top;\n",
       "    }\n",
       "\n",
       "    .dataframe thead th {\n",
       "        text-align: right;\n",
       "    }\n",
       "</style>\n",
       "<table border=\"1\" class=\"dataframe\">\n",
       "  <thead>\n",
       "    <tr style=\"text-align: right;\">\n",
       "      <th></th>\n",
       "      <th>TV</th>\n",
       "      <th>Radio</th>\n",
       "      <th>Newspaper</th>\n",
       "      <th>Sales</th>\n",
       "    </tr>\n",
       "  </thead>\n",
       "  <tbody>\n",
       "    <tr>\n",
       "      <th>0</th>\n",
       "      <td>230.1</td>\n",
       "      <td>37.8</td>\n",
       "      <td>69.2</td>\n",
       "      <td>22.1</td>\n",
       "    </tr>\n",
       "    <tr>\n",
       "      <th>1</th>\n",
       "      <td>44.5</td>\n",
       "      <td>39.3</td>\n",
       "      <td>45.1</td>\n",
       "      <td>10.4</td>\n",
       "    </tr>\n",
       "    <tr>\n",
       "      <th>2</th>\n",
       "      <td>17.2</td>\n",
       "      <td>45.9</td>\n",
       "      <td>69.3</td>\n",
       "      <td>12.0</td>\n",
       "    </tr>\n",
       "    <tr>\n",
       "      <th>3</th>\n",
       "      <td>151.5</td>\n",
       "      <td>41.3</td>\n",
       "      <td>58.5</td>\n",
       "      <td>16.5</td>\n",
       "    </tr>\n",
       "    <tr>\n",
       "      <th>4</th>\n",
       "      <td>180.8</td>\n",
       "      <td>10.8</td>\n",
       "      <td>58.4</td>\n",
       "      <td>17.9</td>\n",
       "    </tr>\n",
       "    <tr>\n",
       "      <th>...</th>\n",
       "      <td>...</td>\n",
       "      <td>...</td>\n",
       "      <td>...</td>\n",
       "      <td>...</td>\n",
       "    </tr>\n",
       "    <tr>\n",
       "      <th>195</th>\n",
       "      <td>38.2</td>\n",
       "      <td>3.7</td>\n",
       "      <td>13.8</td>\n",
       "      <td>7.6</td>\n",
       "    </tr>\n",
       "    <tr>\n",
       "      <th>196</th>\n",
       "      <td>94.2</td>\n",
       "      <td>4.9</td>\n",
       "      <td>8.1</td>\n",
       "      <td>14.0</td>\n",
       "    </tr>\n",
       "    <tr>\n",
       "      <th>197</th>\n",
       "      <td>177.0</td>\n",
       "      <td>9.3</td>\n",
       "      <td>6.4</td>\n",
       "      <td>14.8</td>\n",
       "    </tr>\n",
       "    <tr>\n",
       "      <th>198</th>\n",
       "      <td>283.6</td>\n",
       "      <td>42.0</td>\n",
       "      <td>66.2</td>\n",
       "      <td>25.5</td>\n",
       "    </tr>\n",
       "    <tr>\n",
       "      <th>199</th>\n",
       "      <td>232.1</td>\n",
       "      <td>8.6</td>\n",
       "      <td>8.7</td>\n",
       "      <td>18.4</td>\n",
       "    </tr>\n",
       "  </tbody>\n",
       "</table>\n",
       "<p>200 rows × 4 columns</p>\n",
       "</div>"
      ],
      "text/plain": [
       "        TV  Radio  Newspaper  Sales\n",
       "0    230.1   37.8       69.2   22.1\n",
       "1     44.5   39.3       45.1   10.4\n",
       "2     17.2   45.9       69.3   12.0\n",
       "3    151.5   41.3       58.5   16.5\n",
       "4    180.8   10.8       58.4   17.9\n",
       "..     ...    ...        ...    ...\n",
       "195   38.2    3.7       13.8    7.6\n",
       "196   94.2    4.9        8.1   14.0\n",
       "197  177.0    9.3        6.4   14.8\n",
       "198  283.6   42.0       66.2   25.5\n",
       "199  232.1    8.6        8.7   18.4\n",
       "\n",
       "[200 rows x 4 columns]"
      ]
     },
     "execution_count": 246,
     "metadata": {},
     "output_type": "execute_result"
    }
   ],
   "source": [
    "import pandas as pd\n",
    "\n",
    "advertising1 = pd.read_csv('advertising1.csv')\n",
    "advertising2 = pd.read_csv('advertising2.csv')\n",
    "\n",
    "advertising = pd.concat([advertising1, advertising2], ignore_index=True)\n",
    "advertising"
   ]
  },
  {
   "cell_type": "markdown",
   "id": "bbd5c05f",
   "metadata": {},
   "source": [
    "### 5.(b) advertising의 Sales 피처가 목적변수로 하고,  훈련 데이터와 테스트 데이터 셋을 2:1의 비율로 분할 하세요. random_state는 1234로 하세요.)"
   ]
  },
  {
   "cell_type": "code",
   "execution_count": 247,
   "id": "c6b32299",
   "metadata": {},
   "outputs": [
    {
     "data": {
      "text/html": [
       "<div>\n",
       "<style scoped>\n",
       "    .dataframe tbody tr th:only-of-type {\n",
       "        vertical-align: middle;\n",
       "    }\n",
       "\n",
       "    .dataframe tbody tr th {\n",
       "        vertical-align: top;\n",
       "    }\n",
       "\n",
       "    .dataframe thead th {\n",
       "        text-align: right;\n",
       "    }\n",
       "</style>\n",
       "<table border=\"1\" class=\"dataframe\">\n",
       "  <thead>\n",
       "    <tr style=\"text-align: right;\">\n",
       "      <th></th>\n",
       "      <th>TV</th>\n",
       "      <th>Radio</th>\n",
       "      <th>Newspaper</th>\n",
       "    </tr>\n",
       "  </thead>\n",
       "  <tbody>\n",
       "    <tr>\n",
       "      <th>0</th>\n",
       "      <td>230.1</td>\n",
       "      <td>37.8</td>\n",
       "      <td>69.2</td>\n",
       "    </tr>\n",
       "    <tr>\n",
       "      <th>1</th>\n",
       "      <td>44.5</td>\n",
       "      <td>39.3</td>\n",
       "      <td>45.1</td>\n",
       "    </tr>\n",
       "    <tr>\n",
       "      <th>2</th>\n",
       "      <td>17.2</td>\n",
       "      <td>45.9</td>\n",
       "      <td>69.3</td>\n",
       "    </tr>\n",
       "    <tr>\n",
       "      <th>3</th>\n",
       "      <td>151.5</td>\n",
       "      <td>41.3</td>\n",
       "      <td>58.5</td>\n",
       "    </tr>\n",
       "    <tr>\n",
       "      <th>4</th>\n",
       "      <td>180.8</td>\n",
       "      <td>10.8</td>\n",
       "      <td>58.4</td>\n",
       "    </tr>\n",
       "    <tr>\n",
       "      <th>...</th>\n",
       "      <td>...</td>\n",
       "      <td>...</td>\n",
       "      <td>...</td>\n",
       "    </tr>\n",
       "    <tr>\n",
       "      <th>195</th>\n",
       "      <td>38.2</td>\n",
       "      <td>3.7</td>\n",
       "      <td>13.8</td>\n",
       "    </tr>\n",
       "    <tr>\n",
       "      <th>196</th>\n",
       "      <td>94.2</td>\n",
       "      <td>4.9</td>\n",
       "      <td>8.1</td>\n",
       "    </tr>\n",
       "    <tr>\n",
       "      <th>197</th>\n",
       "      <td>177.0</td>\n",
       "      <td>9.3</td>\n",
       "      <td>6.4</td>\n",
       "    </tr>\n",
       "    <tr>\n",
       "      <th>198</th>\n",
       "      <td>283.6</td>\n",
       "      <td>42.0</td>\n",
       "      <td>66.2</td>\n",
       "    </tr>\n",
       "    <tr>\n",
       "      <th>199</th>\n",
       "      <td>232.1</td>\n",
       "      <td>8.6</td>\n",
       "      <td>8.7</td>\n",
       "    </tr>\n",
       "  </tbody>\n",
       "</table>\n",
       "<p>200 rows × 3 columns</p>\n",
       "</div>"
      ],
      "text/plain": [
       "        TV  Radio  Newspaper\n",
       "0    230.1   37.8       69.2\n",
       "1     44.5   39.3       45.1\n",
       "2     17.2   45.9       69.3\n",
       "3    151.5   41.3       58.5\n",
       "4    180.8   10.8       58.4\n",
       "..     ...    ...        ...\n",
       "195   38.2    3.7       13.8\n",
       "196   94.2    4.9        8.1\n",
       "197  177.0    9.3        6.4\n",
       "198  283.6   42.0       66.2\n",
       "199  232.1    8.6        8.7\n",
       "\n",
       "[200 rows x 3 columns]"
      ]
     },
     "execution_count": 247,
     "metadata": {},
     "output_type": "execute_result"
    }
   ],
   "source": [
    "sales = np.array(advertising.loc[:,\"Sales\"])\n",
    "advertising = advertising.iloc[:,:3]\n",
    "\n",
    "X_train, X_test, y_train, y_test = train_test_split(advertising, sales,test_size=1/3,random_state=1234)\n",
    "\n",
    "advertising"
   ]
  },
  {
   "cell_type": "markdown",
   "id": "7a0b0f2e",
   "metadata": {},
   "source": [
    "### 5.(c) 최소최대 스케일러와 라쏘 회귀 (교차검증을 통해 가장 좋은 정규화 가중치 값을 찾는 라쏘회귀) 함수를 통해 파이프라인 객체를 생성하세요. (이 때, 정규화 가중치 텀의 후보군은 0.01, 0.05, 0.1, 0.5, 1, 5, 10, 50, 100으로 하고 교차 검증 수는 30회로 하세요.)"
   ]
  },
  {
   "cell_type": "code",
   "execution_count": 248,
   "id": "a7bc7f64",
   "metadata": {},
   "outputs": [
    {
     "data": {
      "text/html": [
       "<style>#sk-container-id-12 {color: black;background-color: white;}#sk-container-id-12 pre{padding: 0;}#sk-container-id-12 div.sk-toggleable {background-color: white;}#sk-container-id-12 label.sk-toggleable__label {cursor: pointer;display: block;width: 100%;margin-bottom: 0;padding: 0.3em;box-sizing: border-box;text-align: center;}#sk-container-id-12 label.sk-toggleable__label-arrow:before {content: \"▸\";float: left;margin-right: 0.25em;color: #696969;}#sk-container-id-12 label.sk-toggleable__label-arrow:hover:before {color: black;}#sk-container-id-12 div.sk-estimator:hover label.sk-toggleable__label-arrow:before {color: black;}#sk-container-id-12 div.sk-toggleable__content {max-height: 0;max-width: 0;overflow: hidden;text-align: left;background-color: #f0f8ff;}#sk-container-id-12 div.sk-toggleable__content pre {margin: 0.2em;color: black;border-radius: 0.25em;background-color: #f0f8ff;}#sk-container-id-12 input.sk-toggleable__control:checked~div.sk-toggleable__content {max-height: 200px;max-width: 100%;overflow: auto;}#sk-container-id-12 input.sk-toggleable__control:checked~label.sk-toggleable__label-arrow:before {content: \"▾\";}#sk-container-id-12 div.sk-estimator input.sk-toggleable__control:checked~label.sk-toggleable__label {background-color: #d4ebff;}#sk-container-id-12 div.sk-label input.sk-toggleable__control:checked~label.sk-toggleable__label {background-color: #d4ebff;}#sk-container-id-12 input.sk-hidden--visually {border: 0;clip: rect(1px 1px 1px 1px);clip: rect(1px, 1px, 1px, 1px);height: 1px;margin: -1px;overflow: hidden;padding: 0;position: absolute;width: 1px;}#sk-container-id-12 div.sk-estimator {font-family: monospace;background-color: #f0f8ff;border: 1px dotted black;border-radius: 0.25em;box-sizing: border-box;margin-bottom: 0.5em;}#sk-container-id-12 div.sk-estimator:hover {background-color: #d4ebff;}#sk-container-id-12 div.sk-parallel-item::after {content: \"\";width: 100%;border-bottom: 1px solid gray;flex-grow: 1;}#sk-container-id-12 div.sk-label:hover label.sk-toggleable__label {background-color: #d4ebff;}#sk-container-id-12 div.sk-serial::before {content: \"\";position: absolute;border-left: 1px solid gray;box-sizing: border-box;top: 0;bottom: 0;left: 50%;z-index: 0;}#sk-container-id-12 div.sk-serial {display: flex;flex-direction: column;align-items: center;background-color: white;padding-right: 0.2em;padding-left: 0.2em;position: relative;}#sk-container-id-12 div.sk-item {position: relative;z-index: 1;}#sk-container-id-12 div.sk-parallel {display: flex;align-items: stretch;justify-content: center;background-color: white;position: relative;}#sk-container-id-12 div.sk-item::before, #sk-container-id-12 div.sk-parallel-item::before {content: \"\";position: absolute;border-left: 1px solid gray;box-sizing: border-box;top: 0;bottom: 0;left: 50%;z-index: -1;}#sk-container-id-12 div.sk-parallel-item {display: flex;flex-direction: column;z-index: 1;position: relative;background-color: white;}#sk-container-id-12 div.sk-parallel-item:first-child::after {align-self: flex-end;width: 50%;}#sk-container-id-12 div.sk-parallel-item:last-child::after {align-self: flex-start;width: 50%;}#sk-container-id-12 div.sk-parallel-item:only-child::after {width: 0;}#sk-container-id-12 div.sk-dashed-wrapped {border: 1px dashed gray;margin: 0 0.4em 0.5em 0.4em;box-sizing: border-box;padding-bottom: 0.4em;background-color: white;}#sk-container-id-12 div.sk-label label {font-family: monospace;font-weight: bold;display: inline-block;line-height: 1.2em;}#sk-container-id-12 div.sk-label-container {text-align: center;}#sk-container-id-12 div.sk-container {/* jupyter's `normalize.less` sets `[hidden] { display: none; }` but bootstrap.min.css set `[hidden] { display: none !important; }` so we also need the `!important` here to be able to override the default hidden behavior on the sphinx rendered scikit-learn.org. See: https://github.com/scikit-learn/scikit-learn/issues/21755 */display: inline-block !important;position: relative;}#sk-container-id-12 div.sk-text-repr-fallback {display: none;}</style><div id=\"sk-container-id-12\" class=\"sk-top-container\"><div class=\"sk-text-repr-fallback\"><pre>Pipeline(steps=[(&#x27;scaler&#x27;, MinMaxScaler()),\n",
       "                (&#x27;reg&#x27;,\n",
       "                 LassoCV(alphas=[0.01, 0.05, 0.1, 0.5, 1, 5, 10, 50, 100],\n",
       "                         cv=30))])</pre><b>In a Jupyter environment, please rerun this cell to show the HTML representation or trust the notebook. <br />On GitHub, the HTML representation is unable to render, please try loading this page with nbviewer.org.</b></div><div class=\"sk-container\" hidden><div class=\"sk-item sk-dashed-wrapped\"><div class=\"sk-label-container\"><div class=\"sk-label sk-toggleable\"><input class=\"sk-toggleable__control sk-hidden--visually\" id=\"sk-estimator-id-34\" type=\"checkbox\" ><label for=\"sk-estimator-id-34\" class=\"sk-toggleable__label sk-toggleable__label-arrow\">Pipeline</label><div class=\"sk-toggleable__content\"><pre>Pipeline(steps=[(&#x27;scaler&#x27;, MinMaxScaler()),\n",
       "                (&#x27;reg&#x27;,\n",
       "                 LassoCV(alphas=[0.01, 0.05, 0.1, 0.5, 1, 5, 10, 50, 100],\n",
       "                         cv=30))])</pre></div></div></div><div class=\"sk-serial\"><div class=\"sk-item\"><div class=\"sk-estimator sk-toggleable\"><input class=\"sk-toggleable__control sk-hidden--visually\" id=\"sk-estimator-id-35\" type=\"checkbox\" ><label for=\"sk-estimator-id-35\" class=\"sk-toggleable__label sk-toggleable__label-arrow\">MinMaxScaler</label><div class=\"sk-toggleable__content\"><pre>MinMaxScaler()</pre></div></div></div><div class=\"sk-item\"><div class=\"sk-estimator sk-toggleable\"><input class=\"sk-toggleable__control sk-hidden--visually\" id=\"sk-estimator-id-36\" type=\"checkbox\" ><label for=\"sk-estimator-id-36\" class=\"sk-toggleable__label sk-toggleable__label-arrow\">LassoCV</label><div class=\"sk-toggleable__content\"><pre>LassoCV(alphas=[0.01, 0.05, 0.1, 0.5, 1, 5, 10, 50, 100], cv=30)</pre></div></div></div></div></div></div></div>"
      ],
      "text/plain": [
       "Pipeline(steps=[('scaler', MinMaxScaler()),\n",
       "                ('reg',\n",
       "                 LassoCV(alphas=[0.01, 0.05, 0.1, 0.5, 1, 5, 10, 50, 100],\n",
       "                         cv=30))])"
      ]
     },
     "execution_count": 248,
     "metadata": {},
     "output_type": "execute_result"
    }
   ],
   "source": [
    "from sklearn.linear_model import LassoCV\n",
    "from sklearn.pipeline import Pipeline\n",
    "\n",
    "scaler = MinMaxScaler()\n",
    "reg    = LassoCV(alphas=[0.01, 0.05, 0.1, 0.5, 1, 5, 10, 50, 100],cv=30)\n",
    "pipe   = Pipeline(steps=[(\"scaler\", scaler), (\"reg\", reg)])\n",
    "pipe"
   ]
  },
  {
   "cell_type": "markdown",
   "id": "e2192bd8",
   "metadata": {},
   "source": [
    "### 5.(d) 생성한 파이프라인 객체를 학습하고, 파이프라인 객체를 통해 테스트 데이터셋을 예측하여 mean_absolute_error를 계산하세요. 또한 학습된 후 최적의 정규화 가중치 값과 선형 모델의 계수를 확인하세요."
   ]
  },
  {
   "cell_type": "code",
   "execution_count": 249,
   "id": "65b19f1e",
   "metadata": {},
   "outputs": [
    {
     "name": "stdout",
     "output_type": "stream",
     "text": [
      "MAE: 1.283\n",
      "최적의 alpha: 0.01\n",
      "계수: [15.42109017  5.24039915 -0.        ]\n"
     ]
    },
    {
     "name": "stderr",
     "output_type": "stream",
     "text": [
      "/opt/homebrew/lib/python3.11/site-packages/sklearn/utils/validation.py:767: FutureWarning: is_sparse is deprecated and will be removed in a future version. Check `isinstance(dtype, pd.SparseDtype)` instead.\n",
      "  if not hasattr(array, \"sparse\") and array.dtypes.apply(is_sparse).any():\n",
      "/opt/homebrew/lib/python3.11/site-packages/sklearn/utils/validation.py:605: FutureWarning: is_sparse is deprecated and will be removed in a future version. Check `isinstance(dtype, pd.SparseDtype)` instead.\n",
      "  if is_sparse(pd_dtype):\n",
      "/opt/homebrew/lib/python3.11/site-packages/sklearn/utils/validation.py:614: FutureWarning: is_sparse is deprecated and will be removed in a future version. Check `isinstance(dtype, pd.SparseDtype)` instead.\n",
      "  if is_sparse(pd_dtype) or not is_extension_array_dtype(pd_dtype):\n",
      "/opt/homebrew/lib/python3.11/site-packages/sklearn/utils/validation.py:767: FutureWarning: is_sparse is deprecated and will be removed in a future version. Check `isinstance(dtype, pd.SparseDtype)` instead.\n",
      "  if not hasattr(array, \"sparse\") and array.dtypes.apply(is_sparse).any():\n",
      "/opt/homebrew/lib/python3.11/site-packages/sklearn/utils/validation.py:605: FutureWarning: is_sparse is deprecated and will be removed in a future version. Check `isinstance(dtype, pd.SparseDtype)` instead.\n",
      "  if is_sparse(pd_dtype):\n",
      "/opt/homebrew/lib/python3.11/site-packages/sklearn/utils/validation.py:614: FutureWarning: is_sparse is deprecated and will be removed in a future version. Check `isinstance(dtype, pd.SparseDtype)` instead.\n",
      "  if is_sparse(pd_dtype) or not is_extension_array_dtype(pd_dtype):\n",
      "/opt/homebrew/lib/python3.11/site-packages/sklearn/utils/validation.py:767: FutureWarning: is_sparse is deprecated and will be removed in a future version. Check `isinstance(dtype, pd.SparseDtype)` instead.\n",
      "  if not hasattr(array, \"sparse\") and array.dtypes.apply(is_sparse).any():\n",
      "/opt/homebrew/lib/python3.11/site-packages/sklearn/utils/validation.py:605: FutureWarning: is_sparse is deprecated and will be removed in a future version. Check `isinstance(dtype, pd.SparseDtype)` instead.\n",
      "  if is_sparse(pd_dtype):\n",
      "/opt/homebrew/lib/python3.11/site-packages/sklearn/utils/validation.py:614: FutureWarning: is_sparse is deprecated and will be removed in a future version. Check `isinstance(dtype, pd.SparseDtype)` instead.\n",
      "  if is_sparse(pd_dtype) or not is_extension_array_dtype(pd_dtype):\n"
     ]
    }
   ],
   "source": [
    "pipe   = pipe.fit(X_train, y_train)\n",
    "y_pred = pipe.predict(X_test)\n",
    "print(f'MAE:{(np.abs(y_pred - y_test)).mean(): .3f}')\n",
    "\n",
    "print('최적의 alpha:', reg.alpha_)\n",
    "print(f'계수: {reg.coef_}')"
   ]
  },
  {
   "cell_type": "markdown",
   "id": "ab278e88",
   "metadata": {},
   "source": [
    "### 5. (e) 선형 모델의 계수를 바탕으로 Sales 피처와 다른 피처들 사이의 관계에 대해 설명하세요."
   ]
  },
  {
   "cell_type": "code",
   "execution_count": 250,
   "id": "2e29d9fc",
   "metadata": {},
   "outputs": [
    {
     "name": "stdout",
     "output_type": "stream",
     "text": [
      "계수: [15.42109017  5.24039915 -0.        ]\n"
     ]
    },
    {
     "data": {
      "text/plain": [
       "Index(['TV', 'Radio', 'Newspaper'], dtype='object')"
      ]
     },
     "execution_count": 250,
     "metadata": {},
     "output_type": "execute_result"
    }
   ],
   "source": [
    "print(f'계수: {reg.coef_}')\n",
    "X_train.columns"
   ]
  },
  {
   "cell_type": "markdown",
   "id": "f21caece",
   "metadata": {},
   "source": [
    "- TV의 계수가 양수의 값이고 가장 크므로 TV의 증가가 Sales의 증가에 가장 많은 양의 영향을 준다.\n",
    "- Radio 또한 5.24039915로 양수의 계수를 가지므로 Radio의 증가가 Sales의 증가에 양의 영향을 주지만, TV보단 영향을 덜준다.\n",
    "- Newspaper는 -0.의 계수를 가지므로 Newspaper의 변화는 Sales에 거의 영향을 주지 않는다."
   ]
  },
  {
   "cell_type": "markdown",
   "id": "7a6bbad8",
   "metadata": {},
   "source": [
    "## 6. 사이킷런의 유방암 데이터 분석 (로지스틱 회귀)"
   ]
  },
  {
   "cell_type": "markdown",
   "id": "86867e8b",
   "metadata": {},
   "source": [
    "### 6. (a) 사이킷런을 통해 유방암 데이터셋을 불러와서 훈련 데이터와 테스트 데이터 셋을 2:1의 비율로 분할 하세요. (데이터프레임 형태로 피쳐와 목적 변수를 따로 지정하고 random_state는 1234로 하세요.)"
   ]
  },
  {
   "cell_type": "code",
   "execution_count": 253,
   "id": "74f2276a",
   "metadata": {},
   "outputs": [
    {
     "data": {
      "text/plain": [
       "{0, 1}"
      ]
     },
     "execution_count": 253,
     "metadata": {},
     "output_type": "execute_result"
    }
   ],
   "source": [
    "from sklearn.datasets import load_breast_cancer\n",
    "\n",
    "X, y = load_breast_cancer(return_X_y=True, as_frame=True)\n",
    "X_train, X_test, y_train, y_test = train_test_split(X,y,test_size=1/3,random_state=1234)\n",
    "set(y_train)"
   ]
  },
  {
   "cell_type": "markdown",
   "id": "94f937bc",
   "metadata": {},
   "source": [
    "### 6. (b) 표준정규화 스케일러를 통해 훈련 데이터를 기반으로 스케일러를 fit하고, 해당 스케일러를 통해 학습 데이터와 테스트 데이터를 스케일링 하세요. "
   ]
  },
  {
   "cell_type": "code",
   "execution_count": 254,
   "id": "4ed02d40",
   "metadata": {},
   "outputs": [
    {
     "name": "stderr",
     "output_type": "stream",
     "text": [
      "/opt/homebrew/lib/python3.11/site-packages/sklearn/utils/validation.py:767: FutureWarning: is_sparse is deprecated and will be removed in a future version. Check `isinstance(dtype, pd.SparseDtype)` instead.\n",
      "  if not hasattr(array, \"sparse\") and array.dtypes.apply(is_sparse).any():\n",
      "/opt/homebrew/lib/python3.11/site-packages/sklearn/utils/validation.py:605: FutureWarning: is_sparse is deprecated and will be removed in a future version. Check `isinstance(dtype, pd.SparseDtype)` instead.\n",
      "  if is_sparse(pd_dtype):\n",
      "/opt/homebrew/lib/python3.11/site-packages/sklearn/utils/validation.py:614: FutureWarning: is_sparse is deprecated and will be removed in a future version. Check `isinstance(dtype, pd.SparseDtype)` instead.\n",
      "  if is_sparse(pd_dtype) or not is_extension_array_dtype(pd_dtype):\n",
      "/opt/homebrew/lib/python3.11/site-packages/sklearn/utils/validation.py:767: FutureWarning: is_sparse is deprecated and will be removed in a future version. Check `isinstance(dtype, pd.SparseDtype)` instead.\n",
      "  if not hasattr(array, \"sparse\") and array.dtypes.apply(is_sparse).any():\n",
      "/opt/homebrew/lib/python3.11/site-packages/sklearn/utils/validation.py:605: FutureWarning: is_sparse is deprecated and will be removed in a future version. Check `isinstance(dtype, pd.SparseDtype)` instead.\n",
      "  if is_sparse(pd_dtype):\n",
      "/opt/homebrew/lib/python3.11/site-packages/sklearn/utils/validation.py:614: FutureWarning: is_sparse is deprecated and will be removed in a future version. Check `isinstance(dtype, pd.SparseDtype)` instead.\n",
      "  if is_sparse(pd_dtype) or not is_extension_array_dtype(pd_dtype):\n",
      "/opt/homebrew/lib/python3.11/site-packages/sklearn/utils/validation.py:767: FutureWarning: is_sparse is deprecated and will be removed in a future version. Check `isinstance(dtype, pd.SparseDtype)` instead.\n",
      "  if not hasattr(array, \"sparse\") and array.dtypes.apply(is_sparse).any():\n",
      "/opt/homebrew/lib/python3.11/site-packages/sklearn/utils/validation.py:605: FutureWarning: is_sparse is deprecated and will be removed in a future version. Check `isinstance(dtype, pd.SparseDtype)` instead.\n",
      "  if is_sparse(pd_dtype):\n",
      "/opt/homebrew/lib/python3.11/site-packages/sklearn/utils/validation.py:614: FutureWarning: is_sparse is deprecated and will be removed in a future version. Check `isinstance(dtype, pd.SparseDtype)` instead.\n",
      "  if is_sparse(pd_dtype) or not is_extension_array_dtype(pd_dtype):\n"
     ]
    }
   ],
   "source": [
    "scaler = StandardScaler()\n",
    "\n",
    "# fit(): X_train 데이터를 이용해 스케일링에 필요한 평균과 표준편차를 계산\n",
    "scaler.fit(X_train)   \n",
    "\n",
    "X_train = scaler.transform(X_train)  # 스케일링\n",
    "X_test  = scaler.transform(X_test)   # 스케일링"
   ]
  },
  {
   "cell_type": "markdown",
   "id": "35d06076",
   "metadata": {},
   "source": [
    "### 6. (c) 경사하강법을 통한 로지스틱 회귀를 고려할 때, 아래 주어진 선형 모델의 계수 W와 절편 b에 대해, 학습 데이터의 현재 손실함수 값을 계산하세요. (sigmoid와 cross_entropy를 활용하세요, 또한 A.reshape(-1)을 활용하면 A를 하나의 차원을 갖도록 할 수 있습니다.)"
   ]
  },
  {
   "cell_type": "code",
   "execution_count": 255,
   "id": "5be567df",
   "metadata": {},
   "outputs": [],
   "source": [
    "import numpy as np\n",
    "\n",
    "W, b =np.random.normal(0,1,30).reshape(-1,1), 0\n",
    "\n",
    "def sigmoid(x):\n",
    "    return 1 / (1 + np.exp(-x))\n",
    "def cross_entropy(p, q):\n",
    "    return -np.sum(p * np.log(q))"
   ]
  },
  {
   "cell_type": "code",
   "execution_count": 256,
   "id": "bce469b6",
   "metadata": {},
   "outputs": [],
   "source": [
    "def hypothesis_function(x,theta, b):\n",
    "    z = np.dot(-x,theta) - b    # 릿지 \n",
    "    return sigmoid(z)       # 릿지 + 시그모이드\n",
    "\n",
    "def compute_cost(x,y,theta,b):\n",
    "    m = y.shape[0]  # 데이터 수\n",
    "    J = (1/m)*(cross_entropy(y,hypothesis_function(x,theta,b))+cross_entropy(1-y,1-hypothesis_function(x,theta,b)))\n",
    "    return J"
   ]
  },
  {
   "cell_type": "code",
   "execution_count": 257,
   "id": "0cde2455",
   "metadata": {},
   "outputs": [
    {
     "data": {
      "text/plain": [
       "856.6137788032179"
      ]
     },
     "execution_count": 257,
     "metadata": {},
     "output_type": "execute_result"
    }
   ],
   "source": [
    "y_train, y_test = np.array(y_train).reshape(-1), np.array(y_test).reshape(-1)\n",
    "loss = compute_cost(X_train, y_train, W, b)\n",
    "loss"
   ]
  },
  {
   "cell_type": "markdown",
   "id": "eae6e4bf",
   "metadata": {},
   "source": [
    "### 6. (d) 학습 데이터를 통해 목적 변수와 피처 사이의 관계를 로지스틱 회귀 모델로 학습하고 테스트 데이터 셋에 대해 예측 정확도를 계산하세요. (solver 옵션은 'sag', penalty 옵션은 'none',  random_state는 1234, 최대 반복횟수는 1000으로 하세요)"
   ]
  },
  {
   "cell_type": "code",
   "execution_count": 258,
   "id": "d2514260",
   "metadata": {},
   "outputs": [
    {
     "name": "stdout",
     "output_type": "stream",
     "text": [
      "테스트 데이터셋 정확도: 96.32%\n"
     ]
    },
    {
     "name": "stderr",
     "output_type": "stream",
     "text": [
      "/opt/homebrew/lib/python3.11/site-packages/sklearn/linear_model/_sag.py:350: ConvergenceWarning: The max_iter was reached which means the coef_ did not converge\n",
      "  warnings.warn(\n"
     ]
    }
   ],
   "source": [
    "from sklearn.linear_model import LogisticRegression\n",
    "\n",
    "clf = LogisticRegression(random_state=1234, max_iter=1000, solver='sag', penalty=None)   \n",
    "\n",
    "clf          = clf.fit(X_train, y_train)    # 학습\n",
    "y_pred       = clf.predict(X_test) \n",
    "print(f'테스트 데이터셋 정확도:{(y_test == y_pred).sum() / len(y_test) * 100: .2f}%')"
   ]
  },
  {
   "cell_type": "markdown",
   "id": "56710773",
   "metadata": {},
   "source": [
    "## 7. 트리모델에서 ID3 알고리즘, C4.5알고리즘, CART 알고리즘에 대해 각각 설명하세요."
   ]
  },
  {
   "cell_type": "markdown",
   "id": "55d7c82e",
   "metadata": {},
   "source": [
    "- ID3: 톱다운 방식으로 반복하여 데이터를 나누며 현재 상태에서 최적화하는 알고리즘.\n",
    "    - 분류속성은 엔트로피를 사용하여 정복이득을 계산하여 결정. 정보이득이 가장 큰 분할 속성으로 결정.\n",
    "- C4.5: ID3에서 분류속성을 결정하는 기준이었던 정보이득을 개선한 알고리즘.  \n",
    "    - 정보이득 대신 정보 이득에 속성의 그룹 엔트로피를 나눈 값을 기준으로 분할속성을 결정\n",
    "    - 이를 통해 너무 다양한 속성 값(e.g.학번)을 가지면 낮은 정보이득값을 갖게함.\n",
    "- CART: ID3에서 분류속성을 결정하는 기준을 지니지수를 채택하여 개선한 알고리즘.\n",
    "    - ID3와 달리 이진분할을 실시\n",
    "    - 지니지수 또한 불순도를 측정하는 지표로 지니지수가 작을수록 불순도가 낮고 좋은 분포를 말함."
   ]
  },
  {
   "cell_type": "markdown",
   "id": "9053e038",
   "metadata": {},
   "source": [
    "## 8. 트리 모델에서 목적변수가 연속적인 값을 갖는 변수일 경우, 이산적인 값을 갖을 때에 비해서 분기 및 예측에 있어서 어떤 점이 달라지는 지 설명하세요."
   ]
  },
  {
   "cell_type": "markdown",
   "id": "a5566463",
   "metadata": {},
   "source": [
    "목적변수가 이산적인 값을 가질 땐 해당 목적변수의 모든 종류(클래스)를 기준으로 데이터를 나눌 수 있었다.  \n",
    "\n",
    "하지만 목적변수가 연속적인 경우에 모든 데이터를 기준으로 하여 데이터를 나누면 너무 많은 기준점이 생겨 과대적합이 되는 문제가 발생한다.  \n",
    "통계적 수치로 중위값이나 4분위수를 기준점으로 나누는 방식도 제안되었지만 이렇게 분할할시엔 과소적합 문제가 발생한다.  \n",
    "\n",
    "그러므로 목적변수가 연속적인 경우엔 목적변수의 값이 변할 때를 기준점으로 삼아 분할하는 방식을 사용한다. 해당 기준점은 경계값들의 평균을 의미한다.  \n",
    "여러 기준점 중에서 각 기준점대로 분할했을 때,가장 큰 정보이득(표준화된정보이득, 지니지수)을 얻는 기준점을 찾아서 해당 기준점을 분할 속성의 기준으로 결정한다.\n"
   ]
  },
  {
   "cell_type": "markdown",
   "id": "547c61ae",
   "metadata": {},
   "source": [
    "## 9. MNIST (손글씨 데이터셋) 분석"
   ]
  },
  {
   "cell_type": "markdown",
   "id": "03ca0dbf",
   "metadata": {},
   "source": [
    "### 9. (a) 사이킷런을 통해 손글씨 데이터셋을 불러와서 훈련 데이터와 테스트 데이터 셋을 2:1의 비율로 분할 하세요. (데이터프레임 형태로 피쳐와 목적 변수를 따로 지정하고 random_state는 1234로 하세요.)"
   ]
  },
  {
   "cell_type": "code",
   "execution_count": 260,
   "id": "a28a4d20",
   "metadata": {},
   "outputs": [],
   "source": [
    "from sklearn.datasets import load_digits\n",
    "\n",
    "X, y = load_digits(return_X_y=True, as_frame=True)\n",
    "X_train, X_test, y_train, y_test = train_test_split(X,y,test_size=1/3,random_state=1234)"
   ]
  },
  {
   "cell_type": "markdown",
   "id": "e91d5d9f",
   "metadata": {},
   "source": [
    "### 9.(b) 최소최대 스케일러와 의사결정트리 함수를 통해 파이프라인 객체를 생성하세요. (의사결정트리의 분류 기준은 엔트로피, 트리의 최대깊이는 30, 잎 노드의 최소 데이터 개수는 3개, random_state는 1234로 하세요. )"
   ]
  },
  {
   "cell_type": "code",
   "execution_count": 261,
   "id": "b97bccce",
   "metadata": {},
   "outputs": [
    {
     "data": {
      "text/html": [
       "<style>#sk-container-id-13 {color: black;background-color: white;}#sk-container-id-13 pre{padding: 0;}#sk-container-id-13 div.sk-toggleable {background-color: white;}#sk-container-id-13 label.sk-toggleable__label {cursor: pointer;display: block;width: 100%;margin-bottom: 0;padding: 0.3em;box-sizing: border-box;text-align: center;}#sk-container-id-13 label.sk-toggleable__label-arrow:before {content: \"▸\";float: left;margin-right: 0.25em;color: #696969;}#sk-container-id-13 label.sk-toggleable__label-arrow:hover:before {color: black;}#sk-container-id-13 div.sk-estimator:hover label.sk-toggleable__label-arrow:before {color: black;}#sk-container-id-13 div.sk-toggleable__content {max-height: 0;max-width: 0;overflow: hidden;text-align: left;background-color: #f0f8ff;}#sk-container-id-13 div.sk-toggleable__content pre {margin: 0.2em;color: black;border-radius: 0.25em;background-color: #f0f8ff;}#sk-container-id-13 input.sk-toggleable__control:checked~div.sk-toggleable__content {max-height: 200px;max-width: 100%;overflow: auto;}#sk-container-id-13 input.sk-toggleable__control:checked~label.sk-toggleable__label-arrow:before {content: \"▾\";}#sk-container-id-13 div.sk-estimator input.sk-toggleable__control:checked~label.sk-toggleable__label {background-color: #d4ebff;}#sk-container-id-13 div.sk-label input.sk-toggleable__control:checked~label.sk-toggleable__label {background-color: #d4ebff;}#sk-container-id-13 input.sk-hidden--visually {border: 0;clip: rect(1px 1px 1px 1px);clip: rect(1px, 1px, 1px, 1px);height: 1px;margin: -1px;overflow: hidden;padding: 0;position: absolute;width: 1px;}#sk-container-id-13 div.sk-estimator {font-family: monospace;background-color: #f0f8ff;border: 1px dotted black;border-radius: 0.25em;box-sizing: border-box;margin-bottom: 0.5em;}#sk-container-id-13 div.sk-estimator:hover {background-color: #d4ebff;}#sk-container-id-13 div.sk-parallel-item::after {content: \"\";width: 100%;border-bottom: 1px solid gray;flex-grow: 1;}#sk-container-id-13 div.sk-label:hover label.sk-toggleable__label {background-color: #d4ebff;}#sk-container-id-13 div.sk-serial::before {content: \"\";position: absolute;border-left: 1px solid gray;box-sizing: border-box;top: 0;bottom: 0;left: 50%;z-index: 0;}#sk-container-id-13 div.sk-serial {display: flex;flex-direction: column;align-items: center;background-color: white;padding-right: 0.2em;padding-left: 0.2em;position: relative;}#sk-container-id-13 div.sk-item {position: relative;z-index: 1;}#sk-container-id-13 div.sk-parallel {display: flex;align-items: stretch;justify-content: center;background-color: white;position: relative;}#sk-container-id-13 div.sk-item::before, #sk-container-id-13 div.sk-parallel-item::before {content: \"\";position: absolute;border-left: 1px solid gray;box-sizing: border-box;top: 0;bottom: 0;left: 50%;z-index: -1;}#sk-container-id-13 div.sk-parallel-item {display: flex;flex-direction: column;z-index: 1;position: relative;background-color: white;}#sk-container-id-13 div.sk-parallel-item:first-child::after {align-self: flex-end;width: 50%;}#sk-container-id-13 div.sk-parallel-item:last-child::after {align-self: flex-start;width: 50%;}#sk-container-id-13 div.sk-parallel-item:only-child::after {width: 0;}#sk-container-id-13 div.sk-dashed-wrapped {border: 1px dashed gray;margin: 0 0.4em 0.5em 0.4em;box-sizing: border-box;padding-bottom: 0.4em;background-color: white;}#sk-container-id-13 div.sk-label label {font-family: monospace;font-weight: bold;display: inline-block;line-height: 1.2em;}#sk-container-id-13 div.sk-label-container {text-align: center;}#sk-container-id-13 div.sk-container {/* jupyter's `normalize.less` sets `[hidden] { display: none; }` but bootstrap.min.css set `[hidden] { display: none !important; }` so we also need the `!important` here to be able to override the default hidden behavior on the sphinx rendered scikit-learn.org. See: https://github.com/scikit-learn/scikit-learn/issues/21755 */display: inline-block !important;position: relative;}#sk-container-id-13 div.sk-text-repr-fallback {display: none;}</style><div id=\"sk-container-id-13\" class=\"sk-top-container\"><div class=\"sk-text-repr-fallback\"><pre>Pipeline(steps=[(&#x27;scaler&#x27;, MinMaxScaler()),\n",
       "                (&#x27;reg&#x27;,\n",
       "                 DecisionTreeClassifier(criterion=&#x27;entropy&#x27;, max_depth=30,\n",
       "                                        min_samples_leaf=3,\n",
       "                                        random_state=1234))])</pre><b>In a Jupyter environment, please rerun this cell to show the HTML representation or trust the notebook. <br />On GitHub, the HTML representation is unable to render, please try loading this page with nbviewer.org.</b></div><div class=\"sk-container\" hidden><div class=\"sk-item sk-dashed-wrapped\"><div class=\"sk-label-container\"><div class=\"sk-label sk-toggleable\"><input class=\"sk-toggleable__control sk-hidden--visually\" id=\"sk-estimator-id-37\" type=\"checkbox\" ><label for=\"sk-estimator-id-37\" class=\"sk-toggleable__label sk-toggleable__label-arrow\">Pipeline</label><div class=\"sk-toggleable__content\"><pre>Pipeline(steps=[(&#x27;scaler&#x27;, MinMaxScaler()),\n",
       "                (&#x27;reg&#x27;,\n",
       "                 DecisionTreeClassifier(criterion=&#x27;entropy&#x27;, max_depth=30,\n",
       "                                        min_samples_leaf=3,\n",
       "                                        random_state=1234))])</pre></div></div></div><div class=\"sk-serial\"><div class=\"sk-item\"><div class=\"sk-estimator sk-toggleable\"><input class=\"sk-toggleable__control sk-hidden--visually\" id=\"sk-estimator-id-38\" type=\"checkbox\" ><label for=\"sk-estimator-id-38\" class=\"sk-toggleable__label sk-toggleable__label-arrow\">MinMaxScaler</label><div class=\"sk-toggleable__content\"><pre>MinMaxScaler()</pre></div></div></div><div class=\"sk-item\"><div class=\"sk-estimator sk-toggleable\"><input class=\"sk-toggleable__control sk-hidden--visually\" id=\"sk-estimator-id-39\" type=\"checkbox\" ><label for=\"sk-estimator-id-39\" class=\"sk-toggleable__label sk-toggleable__label-arrow\">DecisionTreeClassifier</label><div class=\"sk-toggleable__content\"><pre>DecisionTreeClassifier(criterion=&#x27;entropy&#x27;, max_depth=30, min_samples_leaf=3,\n",
       "                       random_state=1234)</pre></div></div></div></div></div></div></div>"
      ],
      "text/plain": [
       "Pipeline(steps=[('scaler', MinMaxScaler()),\n",
       "                ('reg',\n",
       "                 DecisionTreeClassifier(criterion='entropy', max_depth=30,\n",
       "                                        min_samples_leaf=3,\n",
       "                                        random_state=1234))])"
      ]
     },
     "execution_count": 261,
     "metadata": {},
     "output_type": "execute_result"
    }
   ],
   "source": [
    "from sklearn.tree import DecisionTreeClassifier\n",
    "\n",
    "scaler = MinMaxScaler()\n",
    "reg    = DecisionTreeClassifier(criterion='entropy',\n",
    "                            random_state=1234,\n",
    "                            max_depth=30,\n",
    "                            min_samples_leaf=3)\n",
    "pipe = Pipeline(steps=[(\"scaler\", scaler), (\"reg\", reg)])\n",
    "\n",
    "pipe"
   ]
  },
  {
   "cell_type": "markdown",
   "id": "60cacb1c",
   "metadata": {},
   "source": [
    "### 9.(c) 생성한 파이프라인 객체를 학습하고, 파이프라인 객체를 통해 테스트 데이터셋을 예측하여 정확도를 계산하세요. "
   ]
  },
  {
   "cell_type": "code",
   "execution_count": 262,
   "id": "b351a0d2",
   "metadata": {},
   "outputs": [
    {
     "name": "stdout",
     "output_type": "stream",
     "text": [
      "테스트 데이터셋 정확도: 85.64%\n"
     ]
    },
    {
     "name": "stderr",
     "output_type": "stream",
     "text": [
      "/opt/homebrew/lib/python3.11/site-packages/sklearn/utils/validation.py:767: FutureWarning: is_sparse is deprecated and will be removed in a future version. Check `isinstance(dtype, pd.SparseDtype)` instead.\n",
      "  if not hasattr(array, \"sparse\") and array.dtypes.apply(is_sparse).any():\n",
      "/opt/homebrew/lib/python3.11/site-packages/sklearn/utils/validation.py:605: FutureWarning: is_sparse is deprecated and will be removed in a future version. Check `isinstance(dtype, pd.SparseDtype)` instead.\n",
      "  if is_sparse(pd_dtype):\n",
      "/opt/homebrew/lib/python3.11/site-packages/sklearn/utils/validation.py:614: FutureWarning: is_sparse is deprecated and will be removed in a future version. Check `isinstance(dtype, pd.SparseDtype)` instead.\n",
      "  if is_sparse(pd_dtype) or not is_extension_array_dtype(pd_dtype):\n",
      "/opt/homebrew/lib/python3.11/site-packages/sklearn/utils/validation.py:767: FutureWarning: is_sparse is deprecated and will be removed in a future version. Check `isinstance(dtype, pd.SparseDtype)` instead.\n",
      "  if not hasattr(array, \"sparse\") and array.dtypes.apply(is_sparse).any():\n",
      "/opt/homebrew/lib/python3.11/site-packages/sklearn/utils/validation.py:605: FutureWarning: is_sparse is deprecated and will be removed in a future version. Check `isinstance(dtype, pd.SparseDtype)` instead.\n",
      "  if is_sparse(pd_dtype):\n",
      "/opt/homebrew/lib/python3.11/site-packages/sklearn/utils/validation.py:614: FutureWarning: is_sparse is deprecated and will be removed in a future version. Check `isinstance(dtype, pd.SparseDtype)` instead.\n",
      "  if is_sparse(pd_dtype) or not is_extension_array_dtype(pd_dtype):\n",
      "/opt/homebrew/lib/python3.11/site-packages/sklearn/utils/validation.py:605: FutureWarning: is_sparse is deprecated and will be removed in a future version. Check `isinstance(dtype, pd.SparseDtype)` instead.\n",
      "  if is_sparse(pd_dtype):\n",
      "/opt/homebrew/lib/python3.11/site-packages/sklearn/utils/validation.py:614: FutureWarning: is_sparse is deprecated and will be removed in a future version. Check `isinstance(dtype, pd.SparseDtype)` instead.\n",
      "  if is_sparse(pd_dtype) or not is_extension_array_dtype(pd_dtype):\n",
      "/opt/homebrew/lib/python3.11/site-packages/sklearn/utils/validation.py:767: FutureWarning: is_sparse is deprecated and will be removed in a future version. Check `isinstance(dtype, pd.SparseDtype)` instead.\n",
      "  if not hasattr(array, \"sparse\") and array.dtypes.apply(is_sparse).any():\n",
      "/opt/homebrew/lib/python3.11/site-packages/sklearn/utils/validation.py:605: FutureWarning: is_sparse is deprecated and will be removed in a future version. Check `isinstance(dtype, pd.SparseDtype)` instead.\n",
      "  if is_sparse(pd_dtype):\n",
      "/opt/homebrew/lib/python3.11/site-packages/sklearn/utils/validation.py:614: FutureWarning: is_sparse is deprecated and will be removed in a future version. Check `isinstance(dtype, pd.SparseDtype)` instead.\n",
      "  if is_sparse(pd_dtype) or not is_extension_array_dtype(pd_dtype):\n"
     ]
    }
   ],
   "source": [
    "pipe = pipe.fit(X_train, y_train)\n",
    "\n",
    "y_pred = pipe.predict(X_test)\n",
    "print(f'테스트 데이터셋 정확도:{(y_test == y_pred).sum() / len(y_test) * 100: .2f}%')"
   ]
  },
  {
   "cell_type": "markdown",
   "id": "456cfb2e",
   "metadata": {},
   "source": [
    "### 9. (d) 생성된 트리모델을 그림으로 나타내세요."
   ]
  },
  {
   "cell_type": "code",
   "execution_count": 263,
   "id": "a3102098",
   "metadata": {},
   "outputs": [
    {
     "data": {
      "text/plain": [
       "[Text(0.5498724489795919, 0.9545454545454546, 'x[42] <= 0.469\\nentropy = 3.321\\nsamples = 1198\\nvalue = [123, 118, 119, 121, 110, 114, 124, 123, 119, 127]'),\n",
       " Text(0.32040816326530613, 0.8636363636363636, 'x[43] <= 0.219\\nentropy = 2.878\\nsamples = 649\\nvalue = [3, 76, 80, 115, 25, 108, 1, 90, 26, 125]'),\n",
       " Text(0.1663265306122449, 0.7727272727272727, 'x[26] <= 0.594\\nentropy = 2.228\\nsamples = 347\\nvalue = [3, 29, 4, 103, 7, 72, 0, 9, 1, 119]'),\n",
       " Text(0.09795918367346938, 0.6818181818181818, 'x[30] <= 0.1\\nentropy = 1.647\\nsamples = 174\\nvalue = [3, 15, 4, 100, 0, 1, 0, 3, 0, 48]'),\n",
       " Text(0.0653061224489796, 0.5909090909090909, 'x[19] <= 0.531\\nentropy = 1.205\\nsamples = 131\\nvalue = [0, 13, 4, 100, 0, 1, 0, 1, 0, 12]'),\n",
       " Text(0.0326530612244898, 0.5, 'x[29] <= 0.844\\nentropy = 0.618\\nsamples = 104\\nvalue = [0, 0, 3, 93, 0, 0, 0, 1, 0, 7]'),\n",
       " Text(0.0163265306122449, 0.4090909090909091, 'x[45] <= 0.25\\nentropy = 0.171\\nsamples = 93\\nvalue = [0, 0, 1, 91, 0, 0, 0, 1, 0, 0]'),\n",
       " Text(0.00816326530612245, 0.3181818181818182, 'entropy = 1.5\\nsamples = 4\\nvalue = [0, 0, 1, 2, 0, 0, 0, 1, 0, 0]'),\n",
       " Text(0.024489795918367346, 0.3181818181818182, 'entropy = 0.0\\nsamples = 89\\nvalue = [0, 0, 0, 89, 0, 0, 0, 0, 0, 0]'),\n",
       " Text(0.04897959183673469, 0.4090909090909091, 'x[26] <= 0.156\\nentropy = 1.309\\nsamples = 11\\nvalue = [0, 0, 2, 2, 0, 0, 0, 0, 0, 7]'),\n",
       " Text(0.04081632653061224, 0.3181818181818182, 'entropy = 1.0\\nsamples = 4\\nvalue = [0, 0, 2, 2, 0, 0, 0, 0, 0, 0]'),\n",
       " Text(0.05714285714285714, 0.3181818181818182, 'entropy = 0.0\\nsamples = 7\\nvalue = [0, 0, 0, 0, 0, 0, 0, 0, 0, 7]'),\n",
       " Text(0.09795918367346938, 0.5, 'x[46] <= 0.281\\nentropy = 1.815\\nsamples = 27\\nvalue = [0, 13, 1, 7, 0, 1, 0, 0, 0, 5]'),\n",
       " Text(0.08163265306122448, 0.4090909090909091, 'x[3] <= 0.906\\nentropy = 0.993\\nsamples = 16\\nvalue = [0, 13, 1, 1, 0, 1, 0, 0, 0, 0]'),\n",
       " Text(0.07346938775510205, 0.3181818181818182, 'entropy = 0.0\\nsamples = 12\\nvalue = [0, 12, 0, 0, 0, 0, 0, 0, 0, 0]'),\n",
       " Text(0.08979591836734693, 0.3181818181818182, 'entropy = 2.0\\nsamples = 4\\nvalue = [0, 1, 1, 1, 0, 1, 0, 0, 0, 0]'),\n",
       " Text(0.11428571428571428, 0.4090909090909091, 'x[29] <= 0.469\\nentropy = 0.994\\nsamples = 11\\nvalue = [0, 0, 0, 6, 0, 0, 0, 0, 0, 5]'),\n",
       " Text(0.10612244897959183, 0.3181818181818182, 'entropy = 0.0\\nsamples = 6\\nvalue = [0, 0, 0, 6, 0, 0, 0, 0, 0, 0]'),\n",
       " Text(0.12244897959183673, 0.3181818181818182, 'entropy = 0.0\\nsamples = 5\\nvalue = [0, 0, 0, 0, 0, 0, 0, 0, 0, 5]'),\n",
       " Text(0.1306122448979592, 0.5909090909090909, 'x[20] <= 0.031\\nentropy = 0.894\\nsamples = 43\\nvalue = [3, 2, 0, 0, 0, 0, 0, 2, 0, 36]'),\n",
       " Text(0.12244897959183673, 0.5, 'entropy = 0.971\\nsamples = 5\\nvalue = [3, 0, 0, 0, 0, 0, 0, 2, 0, 0]'),\n",
       " Text(0.13877551020408163, 0.5, 'x[27] <= 0.156\\nentropy = 0.297\\nsamples = 38\\nvalue = [0, 2, 0, 0, 0, 0, 0, 0, 0, 36]'),\n",
       " Text(0.1306122448979592, 0.4090909090909091, 'entropy = 0.918\\nsamples = 3\\nvalue = [0, 2, 0, 0, 0, 0, 0, 0, 0, 1]'),\n",
       " Text(0.1469387755102041, 0.4090909090909091, 'entropy = 0.0\\nsamples = 35\\nvalue = [0, 0, 0, 0, 0, 0, 0, 0, 0, 35]'),\n",
       " Text(0.23469387755102042, 0.6818181818181818, 'x[21] <= 0.469\\nentropy = 1.848\\nsamples = 173\\nvalue = [0, 14, 0, 3, 7, 71, 0, 6, 1, 71]'),\n",
       " Text(0.2, 0.5909090909090909, 'x[22] <= 0.375\\nentropy = 1.153\\nsamples = 83\\nvalue = [0, 2, 0, 3, 6, 67, 0, 3, 1, 1]'),\n",
       " Text(0.17959183673469387, 0.5, 'x[20] <= 0.562\\nentropy = 0.626\\nsamples = 74\\nvalue = [0, 2, 0, 3, 0, 67, 0, 0, 1, 1]'),\n",
       " Text(0.16326530612244897, 0.4090909090909091, 'x[18] <= 0.5\\nentropy = 0.113\\nsamples = 66\\nvalue = [0, 1, 0, 0, 0, 65, 0, 0, 0, 0]'),\n",
       " Text(0.15510204081632653, 0.3181818181818182, 'entropy = 0.918\\nsamples = 3\\nvalue = [0, 1, 0, 0, 0, 2, 0, 0, 0, 0]'),\n",
       " Text(0.17142857142857143, 0.3181818181818182, 'entropy = 0.0\\nsamples = 63\\nvalue = [0, 0, 0, 0, 0, 63, 0, 0, 0, 0]'),\n",
       " Text(0.19591836734693877, 0.4090909090909091, 'x[28] <= 0.812\\nentropy = 2.156\\nsamples = 8\\nvalue = [0, 1, 0, 3, 0, 2, 0, 0, 1, 1]'),\n",
       " Text(0.18775510204081633, 0.3181818181818182, 'entropy = 0.811\\nsamples = 4\\nvalue = [0, 0, 0, 3, 0, 0, 0, 0, 1, 0]'),\n",
       " Text(0.20408163265306123, 0.3181818181818182, 'entropy = 1.5\\nsamples = 4\\nvalue = [0, 1, 0, 0, 0, 2, 0, 0, 0, 1]'),\n",
       " Text(0.22040816326530613, 0.5, 'x[33] <= 0.214\\nentropy = 0.918\\nsamples = 9\\nvalue = [0, 0, 0, 0, 6, 0, 0, 3, 0, 0]'),\n",
       " Text(0.21224489795918366, 0.4090909090909091, 'entropy = 0.0\\nsamples = 3\\nvalue = [0, 0, 0, 0, 0, 0, 0, 3, 0, 0]'),\n",
       " Text(0.22857142857142856, 0.4090909090909091, 'entropy = 0.0\\nsamples = 6\\nvalue = [0, 0, 0, 0, 6, 0, 0, 0, 0, 0]'),\n",
       " Text(0.2693877551020408, 0.5909090909090909, 'x[20] <= 0.906\\nentropy = 1.105\\nsamples = 90\\nvalue = [0, 12, 0, 0, 1, 4, 0, 3, 0, 70]'),\n",
       " Text(0.2530612244897959, 0.5, 'x[28] <= 0.344\\nentropy = 0.626\\nsamples = 74\\nvalue = [0, 1, 0, 0, 1, 2, 0, 3, 0, 67]'),\n",
       " Text(0.24489795918367346, 0.4090909090909091, 'entropy = 0.811\\nsamples = 4\\nvalue = [0, 1, 0, 0, 0, 0, 0, 3, 0, 0]'),\n",
       " Text(0.2612244897959184, 0.4090909090909091, 'x[33] <= 0.179\\nentropy = 0.295\\nsamples = 70\\nvalue = [0, 0, 0, 0, 1, 2, 0, 0, 0, 67]'),\n",
       " Text(0.2530612244897959, 0.3181818181818182, 'entropy = 0.0\\nsamples = 66\\nvalue = [0, 0, 0, 0, 0, 0, 0, 0, 0, 66]'),\n",
       " Text(0.2693877551020408, 0.3181818181818182, 'entropy = 1.5\\nsamples = 4\\nvalue = [0, 0, 0, 0, 1, 2, 0, 0, 0, 1]'),\n",
       " Text(0.2857142857142857, 0.5, 'x[2] <= 0.125\\nentropy = 1.199\\nsamples = 16\\nvalue = [0, 11, 0, 0, 0, 2, 0, 0, 0, 3]'),\n",
       " Text(0.27755102040816326, 0.4090909090909091, 'entropy = 0.0\\nsamples = 11\\nvalue = [0, 11, 0, 0, 0, 0, 0, 0, 0, 0]'),\n",
       " Text(0.2938775510204082, 0.4090909090909091, 'entropy = 0.971\\nsamples = 5\\nvalue = [0, 0, 0, 0, 0, 2, 0, 0, 0, 3]'),\n",
       " Text(0.4744897959183674, 0.7727272727272727, 'x[61] <= 0.031\\nentropy = 2.658\\nsamples = 302\\nvalue = [0, 47, 76, 12, 18, 36, 1, 81, 25, 6]'),\n",
       " Text(0.37142857142857144, 0.6818181818181818, 'x[29] <= 0.219\\nentropy = 1.983\\nsamples = 147\\nvalue = [0, 9, 3, 5, 13, 31, 0, 81, 2, 3]'),\n",
       " Text(0.3183673469387755, 0.5909090909090909, 'x[20] <= 0.219\\nentropy = 1.726\\nsamples = 48\\nvalue = [0, 7, 0, 4, 1, 31, 0, 2, 2, 1]'),\n",
       " Text(0.31020408163265306, 0.5, 'entropy = 0.0\\nsamples = 29\\nvalue = [0, 0, 0, 0, 0, 29, 0, 0, 0, 0]'),\n",
       " Text(0.32653061224489793, 0.5, 'x[51] <= 0.844\\nentropy = 2.477\\nsamples = 19\\nvalue = [0, 7, 0, 4, 1, 2, 0, 2, 2, 1]'),\n",
       " Text(0.31020408163265306, 0.4090909090909091, 'x[42] <= 0.062\\nentropy = 2.122\\nsamples = 10\\nvalue = [0, 0, 0, 4, 1, 0, 0, 2, 2, 1]'),\n",
       " Text(0.3020408163265306, 0.3181818181818182, 'entropy = 0.722\\nsamples = 5\\nvalue = [0, 0, 0, 4, 0, 0, 0, 0, 0, 1]'),\n",
       " Text(0.3183673469387755, 0.3181818181818182, 'entropy = 1.522\\nsamples = 5\\nvalue = [0, 0, 0, 0, 1, 0, 0, 2, 2, 0]'),\n",
       " Text(0.34285714285714286, 0.4090909090909091, 'x[2] <= 0.094\\nentropy = 0.764\\nsamples = 9\\nvalue = [0, 7, 0, 0, 0, 2, 0, 0, 0, 0]'),\n",
       " Text(0.3346938775510204, 0.3181818181818182, 'entropy = 0.0\\nsamples = 6\\nvalue = [0, 6, 0, 0, 0, 0, 0, 0, 0, 0]'),\n",
       " Text(0.3510204081632653, 0.3181818181818182, 'entropy = 0.918\\nsamples = 3\\nvalue = [0, 1, 0, 0, 0, 2, 0, 0, 0, 0]'),\n",
       " Text(0.42448979591836733, 0.5909090909090909, 'x[26] <= 0.781\\nentropy = 1.076\\nsamples = 99\\nvalue = [0, 2, 3, 1, 12, 0, 0, 79, 0, 2]'),\n",
       " Text(0.39183673469387753, 0.5, 'x[53] <= 0.125\\nentropy = 0.503\\nsamples = 78\\nvalue = [0, 2, 3, 1, 0, 0, 0, 72, 0, 0]'),\n",
       " Text(0.37551020408163266, 0.4090909090909091, 'x[13] <= 0.094\\nentropy = 0.106\\nsamples = 72\\nvalue = [0, 1, 0, 0, 0, 0, 0, 71, 0, 0]'),\n",
       " Text(0.3673469387755102, 0.3181818181818182, 'entropy = 0.918\\nsamples = 3\\nvalue = [0, 1, 0, 0, 0, 0, 0, 2, 0, 0]'),\n",
       " Text(0.3836734693877551, 0.3181818181818182, 'entropy = 0.0\\nsamples = 69\\nvalue = [0, 0, 0, 0, 0, 0, 0, 69, 0, 0]'),\n",
       " Text(0.40816326530612246, 0.4090909090909091, 'x[35] <= 0.75\\nentropy = 1.792\\nsamples = 6\\nvalue = [0, 1, 3, 1, 0, 0, 0, 1, 0, 0]'),\n",
       " Text(0.4, 0.3181818181818182, 'entropy = 0.0\\nsamples = 3\\nvalue = [0, 0, 3, 0, 0, 0, 0, 0, 0, 0]'),\n",
       " Text(0.4163265306122449, 0.3181818181818182, 'entropy = 1.585\\nsamples = 3\\nvalue = [0, 1, 0, 1, 0, 0, 0, 1, 0, 0]'),\n",
       " Text(0.45714285714285713, 0.5, 'x[5] <= 0.25\\nentropy = 1.313\\nsamples = 21\\nvalue = [0, 0, 0, 0, 12, 0, 0, 7, 0, 2]'),\n",
       " Text(0.44081632653061226, 0.4090909090909091, 'x[29] <= 0.625\\nentropy = 0.391\\nsamples = 13\\nvalue = [0, 0, 0, 0, 12, 0, 0, 1, 0, 0]'),\n",
       " Text(0.4326530612244898, 0.3181818181818182, 'entropy = 0.918\\nsamples = 3\\nvalue = [0, 0, 0, 0, 2, 0, 0, 1, 0, 0]'),\n",
       " Text(0.4489795918367347, 0.3181818181818182, 'entropy = 0.0\\nsamples = 10\\nvalue = [0, 0, 0, 0, 10, 0, 0, 0, 0, 0]'),\n",
       " Text(0.47346938775510206, 0.4090909090909091, 'x[12] <= 0.531\\nentropy = 0.811\\nsamples = 8\\nvalue = [0, 0, 0, 0, 0, 0, 0, 6, 0, 2]'),\n",
       " Text(0.46530612244897956, 0.3181818181818182, 'entropy = 0.918\\nsamples = 3\\nvalue = [0, 0, 0, 0, 0, 0, 0, 1, 0, 2]'),\n",
       " Text(0.4816326530612245, 0.3181818181818182, 'entropy = 0.0\\nsamples = 5\\nvalue = [0, 0, 0, 0, 0, 0, 0, 5, 0, 0]'),\n",
       " Text(0.5775510204081633, 0.6818181818181818, 'x[19] <= 0.719\\nentropy = 2.096\\nsamples = 155\\nvalue = [0, 38, 73, 7, 5, 5, 1, 0, 23, 3]'),\n",
       " Text(0.5265306122448979, 0.5909090909090909, 'x[27] <= 0.531\\nentropy = 1.546\\nsamples = 103\\nvalue = [0, 0, 66, 7, 1, 4, 0, 0, 22, 3]'),\n",
       " Text(0.49795918367346936, 0.5, 'x[34] <= 0.25\\nentropy = 0.635\\nsamples = 70\\nvalue = [0, 0, 63, 0, 1, 4, 0, 0, 1, 1]'),\n",
       " Text(0.4897959183673469, 0.4090909090909091, 'entropy = 0.0\\nsamples = 63\\nvalue = [0, 0, 63, 0, 0, 0, 0, 0, 0, 0]'),\n",
       " Text(0.5061224489795918, 0.4090909090909091, 'x[26] <= 0.969\\nentropy = 1.664\\nsamples = 7\\nvalue = [0, 0, 0, 0, 1, 4, 0, 0, 1, 1]'),\n",
       " Text(0.49795918367346936, 0.3181818181818182, 'entropy = 0.0\\nsamples = 4\\nvalue = [0, 0, 0, 0, 0, 4, 0, 0, 0, 0]'),\n",
       " Text(0.5142857142857142, 0.3181818181818182, 'entropy = 1.585\\nsamples = 3\\nvalue = [0, 0, 0, 0, 1, 0, 0, 0, 1, 1]'),\n",
       " Text(0.5551020408163265, 0.5, 'x[26] <= 0.375\\nentropy = 1.449\\nsamples = 33\\nvalue = [0, 0, 3, 7, 0, 0, 0, 0, 21, 2]'),\n",
       " Text(0.5387755102040817, 0.4090909090909091, 'x[51] <= 0.781\\nentropy = 1.241\\nsamples = 11\\nvalue = [0, 0, 3, 7, 0, 0, 0, 0, 1, 0]'),\n",
       " Text(0.5306122448979592, 0.3181818181818182, 'entropy = 0.0\\nsamples = 7\\nvalue = [0, 0, 0, 7, 0, 0, 0, 0, 0, 0]'),\n",
       " Text(0.5469387755102041, 0.3181818181818182, 'entropy = 0.811\\nsamples = 4\\nvalue = [0, 0, 3, 0, 0, 0, 0, 0, 1, 0]'),\n",
       " Text(0.5714285714285714, 0.4090909090909091, 'x[20] <= 0.656\\nentropy = 0.439\\nsamples = 22\\nvalue = [0, 0, 0, 0, 0, 0, 0, 0, 20, 2]'),\n",
       " Text(0.563265306122449, 0.3181818181818182, 'entropy = 0.0\\nsamples = 19\\nvalue = [0, 0, 0, 0, 0, 0, 0, 0, 19, 0]'),\n",
       " Text(0.5795918367346938, 0.3181818181818182, 'entropy = 0.918\\nsamples = 3\\nvalue = [0, 0, 0, 0, 0, 0, 0, 0, 1, 2]'),\n",
       " Text(0.6285714285714286, 0.5909090909090909, 'x[27] <= 0.906\\nentropy = 1.334\\nsamples = 52\\nvalue = [0, 38, 7, 0, 4, 1, 1, 0, 1, 0]'),\n",
       " Text(0.6204081632653061, 0.5, 'x[50] <= 0.031\\nentropy = 2.164\\nsamples = 20\\nvalue = [0, 6, 7, 0, 4, 1, 1, 0, 1, 0]'),\n",
       " Text(0.6040816326530613, 0.4090909090909091, 'x[28] <= 0.844\\nentropy = 1.322\\nsamples = 11\\nvalue = [0, 6, 0, 0, 4, 0, 0, 0, 1, 0]'),\n",
       " Text(0.5959183673469388, 0.3181818181818182, 'entropy = 0.722\\nsamples = 5\\nvalue = [0, 0, 0, 0, 4, 0, 0, 0, 1, 0]'),\n",
       " Text(0.6122448979591837, 0.3181818181818182, 'entropy = 0.0\\nsamples = 6\\nvalue = [0, 6, 0, 0, 0, 0, 0, 0, 0, 0]'),\n",
       " Text(0.636734693877551, 0.4090909090909091, 'x[36] <= 0.875\\nentropy = 0.986\\nsamples = 9\\nvalue = [0, 0, 7, 0, 0, 1, 1, 0, 0, 0]'),\n",
       " Text(0.6285714285714286, 0.3181818181818182, 'entropy = 0.0\\nsamples = 6\\nvalue = [0, 0, 6, 0, 0, 0, 0, 0, 0, 0]'),\n",
       " Text(0.6448979591836734, 0.3181818181818182, 'entropy = 1.585\\nsamples = 3\\nvalue = [0, 0, 1, 0, 0, 1, 1, 0, 0, 0]'),\n",
       " Text(0.636734693877551, 0.5, 'entropy = 0.0\\nsamples = 32\\nvalue = [0, 32, 0, 0, 0, 0, 0, 0, 0, 0]'),\n",
       " Text(0.7793367346938775, 0.8636363636363636, 'x[36] <= 0.031\\nentropy = 2.784\\nsamples = 549\\nvalue = [120, 42, 39, 6, 85, 6, 123, 33, 93, 2]'),\n",
       " Text(0.6857142857142857, 0.7727272727272727, 'x[37] <= 0.031\\nentropy = 0.751\\nsamples = 133\\nvalue = [118, 0, 2, 0, 1, 4, 5, 0, 3, 0]'),\n",
       " Text(0.6693877551020408, 0.6818181818181818, 'x[1] <= 0.125\\nentropy = 1.868\\nsamples = 11\\nvalue = [0, 0, 1, 0, 0, 4, 3, 0, 3, 0]'),\n",
       " Text(0.6612244897959184, 0.5909090909090909, 'x[60] <= 0.625\\nentropy = 1.0\\nsamples = 6\\nvalue = [0, 0, 0, 0, 0, 0, 3, 0, 3, 0]'),\n",
       " Text(0.6530612244897959, 0.5, 'entropy = 0.0\\nsamples = 3\\nvalue = [0, 0, 0, 0, 0, 0, 0, 0, 3, 0]'),\n",
       " Text(0.6693877551020408, 0.5, 'entropy = 0.0\\nsamples = 3\\nvalue = [0, 0, 0, 0, 0, 0, 3, 0, 0, 0]'),\n",
       " Text(0.6775510204081633, 0.5909090909090909, 'entropy = 0.722\\nsamples = 5\\nvalue = [0, 0, 1, 0, 0, 4, 0, 0, 0, 0]'),\n",
       " Text(0.7020408163265306, 0.6818181818181818, 'x[13] <= 0.094\\nentropy = 0.257\\nsamples = 122\\nvalue = [118, 0, 1, 0, 1, 0, 2, 0, 0, 0]'),\n",
       " Text(0.6938775510204082, 0.5909090909090909, 'entropy = 0.918\\nsamples = 3\\nvalue = [0, 0, 0, 0, 1, 0, 2, 0, 0, 0]'),\n",
       " Text(0.710204081632653, 0.5909090909090909, 'x[62] <= 0.25\\nentropy = 0.07\\nsamples = 119\\nvalue = [118, 0, 1, 0, 0, 0, 0, 0, 0, 0]'),\n",
       " Text(0.7020408163265306, 0.5, 'entropy = 0.0\\nsamples = 116\\nvalue = [116, 0, 0, 0, 0, 0, 0, 0, 0, 0]'),\n",
       " Text(0.7183673469387755, 0.5, 'entropy = 0.918\\nsamples = 3\\nvalue = [2, 0, 1, 0, 0, 0, 0, 0, 0, 0]'),\n",
       " Text(0.8729591836734694, 0.7727272727272727, 'x[54] <= 0.094\\nentropy = 2.593\\nsamples = 416\\nvalue = [2, 42, 37, 6, 84, 2, 118, 33, 90, 2]'),\n",
       " Text(0.8153061224489796, 0.6818181818181818, 'x[38] <= 0.036\\nentropy = 2.319\\nsamples = 235\\nvalue = [2, 40, 5, 1, 84, 2, 7, 33, 60, 1]'),\n",
       " Text(0.7693877551020408, 0.5909090909090909, 'x[43] <= 0.969\\nentropy = 2.029\\nsamples = 124\\nvalue = [1, 40, 5, 1, 7, 2, 6, 2, 59, 1]'),\n",
       " Text(0.7346938775510204, 0.5, 'x[27] <= 0.469\\nentropy = 1.657\\nsamples = 79\\nvalue = [1, 4, 3, 0, 5, 2, 6, 1, 56, 1]'),\n",
       " Text(0.7142857142857143, 0.4090909090909091, 'x[37] <= 0.375\\nentropy = 2.104\\nsamples = 13\\nvalue = [1, 0, 3, 0, 4, 1, 4, 0, 0, 0]'),\n",
       " Text(0.6979591836734694, 0.3181818181818182, 'x[62] <= 0.094\\nentropy = 0.985\\nsamples = 7\\nvalue = [0, 0, 3, 0, 0, 0, 4, 0, 0, 0]'),\n",
       " Text(0.689795918367347, 0.22727272727272727, 'entropy = 0.0\\nsamples = 4\\nvalue = [0, 0, 0, 0, 0, 0, 4, 0, 0, 0]'),\n",
       " Text(0.7061224489795919, 0.22727272727272727, 'entropy = 0.0\\nsamples = 3\\nvalue = [0, 0, 3, 0, 0, 0, 0, 0, 0, 0]'),\n",
       " Text(0.7306122448979592, 0.3181818181818182, 'x[50] <= 0.219\\nentropy = 1.252\\nsamples = 6\\nvalue = [1, 0, 0, 0, 4, 1, 0, 0, 0, 0]'),\n",
       " Text(0.7224489795918367, 0.22727272727272727, 'entropy = 0.0\\nsamples = 3\\nvalue = [0, 0, 0, 0, 3, 0, 0, 0, 0, 0]'),\n",
       " Text(0.7387755102040816, 0.22727272727272727, 'entropy = 1.585\\nsamples = 3\\nvalue = [1, 0, 0, 0, 1, 1, 0, 0, 0, 0]'),\n",
       " Text(0.7551020408163265, 0.4090909090909091, 'x[21] <= 0.25\\nentropy = 0.965\\nsamples = 66\\nvalue = [0, 4, 0, 0, 1, 1, 2, 1, 56, 1]'),\n",
       " Text(0.746938775510204, 0.3181818181818182, 'entropy = 1.5\\nsamples = 4\\nvalue = [0, 0, 0, 0, 0, 1, 2, 1, 0, 0]'),\n",
       " Text(0.763265306122449, 0.3181818181818182, 'x[10] <= 0.031\\nentropy = 0.58\\nsamples = 62\\nvalue = [0, 4, 0, 0, 1, 0, 0, 0, 56, 1]'),\n",
       " Text(0.7551020408163265, 0.22727272727272727, 'entropy = 0.811\\nsamples = 4\\nvalue = [0, 3, 0, 0, 1, 0, 0, 0, 0, 0]'),\n",
       " Text(0.7714285714285715, 0.22727272727272727, 'x[44] <= 0.469\\nentropy = 0.251\\nsamples = 58\\nvalue = [0, 1, 0, 0, 0, 0, 0, 0, 56, 1]'),\n",
       " Text(0.763265306122449, 0.13636363636363635, 'x[22] <= 0.031\\nentropy = 0.986\\nsamples = 9\\nvalue = [0, 1, 0, 0, 0, 0, 0, 0, 7, 1]'),\n",
       " Text(0.7551020408163265, 0.045454545454545456, 'entropy = 1.585\\nsamples = 3\\nvalue = [0, 1, 0, 0, 0, 0, 0, 0, 1, 1]'),\n",
       " Text(0.7714285714285715, 0.045454545454545456, 'entropy = 0.0\\nsamples = 6\\nvalue = [0, 0, 0, 0, 0, 0, 0, 0, 6, 0]'),\n",
       " Text(0.7795918367346939, 0.13636363636363635, 'entropy = 0.0\\nsamples = 49\\nvalue = [0, 0, 0, 0, 0, 0, 0, 0, 49, 0]'),\n",
       " Text(0.8040816326530612, 0.5, 'x[27] <= 0.781\\nentropy = 1.161\\nsamples = 45\\nvalue = [0, 36, 2, 1, 2, 0, 0, 1, 3, 0]'),\n",
       " Text(0.7877551020408163, 0.4090909090909091, 'x[26] <= 0.688\\nentropy = 2.236\\nsamples = 7\\nvalue = [0, 0, 2, 1, 2, 0, 0, 1, 1, 0]'),\n",
       " Text(0.7795918367346939, 0.3181818181818182, 'entropy = 1.5\\nsamples = 4\\nvalue = [0, 0, 2, 1, 0, 0, 0, 1, 0, 0]'),\n",
       " Text(0.7959183673469388, 0.3181818181818182, 'entropy = 0.918\\nsamples = 3\\nvalue = [0, 0, 0, 0, 2, 0, 0, 0, 1, 0]'),\n",
       " Text(0.8204081632653061, 0.4090909090909091, 'x[34] <= 0.344\\nentropy = 0.297\\nsamples = 38\\nvalue = [0, 36, 0, 0, 0, 0, 0, 0, 2, 0]'),\n",
       " Text(0.8122448979591836, 0.3181818181818182, 'entropy = 0.971\\nsamples = 5\\nvalue = [0, 3, 0, 0, 0, 0, 0, 0, 2, 0]'),\n",
       " Text(0.8285714285714286, 0.3181818181818182, 'entropy = 0.0\\nsamples = 33\\nvalue = [0, 33, 0, 0, 0, 0, 0, 0, 0, 0]'),\n",
       " Text(0.8612244897959184, 0.5909090909090909, 'x[26] <= 0.594\\nentropy = 1.064\\nsamples = 111\\nvalue = [1, 0, 0, 0, 77, 0, 1, 31, 1, 0]'),\n",
       " Text(0.8448979591836735, 0.5, 'x[61] <= 0.094\\nentropy = 0.605\\nsamples = 35\\nvalue = [0, 0, 0, 0, 3, 0, 0, 31, 1, 0]'),\n",
       " Text(0.8367346938775511, 0.4090909090909091, 'entropy = 0.0\\nsamples = 31\\nvalue = [0, 0, 0, 0, 0, 0, 0, 31, 0, 0]'),\n",
       " Text(0.8530612244897959, 0.4090909090909091, 'entropy = 0.811\\nsamples = 4\\nvalue = [0, 0, 0, 0, 3, 0, 0, 0, 1, 0]'),\n",
       " Text(0.8775510204081632, 0.5, 'x[36] <= 0.125\\nentropy = 0.202\\nsamples = 76\\nvalue = [1, 0, 0, 0, 74, 0, 1, 0, 0, 0]'),\n",
       " Text(0.8693877551020408, 0.4090909090909091, 'entropy = 1.5\\nsamples = 4\\nvalue = [1, 0, 0, 0, 2, 0, 1, 0, 0, 0]'),\n",
       " Text(0.8857142857142857, 0.4090909090909091, 'entropy = 0.0\\nsamples = 72\\nvalue = [0, 0, 0, 0, 72, 0, 0, 0, 0, 0]'),\n",
       " Text(0.9306122448979591, 0.6818181818181818, 'x[21] <= 0.031\\nentropy = 1.561\\nsamples = 181\\nvalue = [0, 2, 32, 5, 0, 0, 111, 0, 30, 1]'),\n",
       " Text(0.9020408163265307, 0.5909090909090909, 'x[9] <= 0.2\\nentropy = 0.397\\nsamples = 117\\nvalue = [0, 0, 7, 1, 0, 0, 109, 0, 0, 0]'),\n",
       " Text(0.8938775510204081, 0.5, 'entropy = 0.0\\nsamples = 109\\nvalue = [0, 0, 0, 0, 0, 0, 109, 0, 0, 0]'),\n",
       " Text(0.9102040816326531, 0.5, 'x[34] <= 0.094\\nentropy = 0.544\\nsamples = 8\\nvalue = [0, 0, 7, 1, 0, 0, 0, 0, 0, 0]'),\n",
       " Text(0.9020408163265307, 0.4090909090909091, 'entropy = 0.918\\nsamples = 3\\nvalue = [0, 0, 2, 1, 0, 0, 0, 0, 0, 0]'),\n",
       " Text(0.9183673469387755, 0.4090909090909091, 'entropy = 0.0\\nsamples = 5\\nvalue = [0, 0, 5, 0, 0, 0, 0, 0, 0, 0]'),\n",
       " Text(0.9591836734693877, 0.5909090909090909, 'x[45] <= 0.531\\nentropy = 1.698\\nsamples = 64\\nvalue = [0, 2, 25, 4, 0, 0, 2, 0, 30, 1]'),\n",
       " Text(0.9428571428571428, 0.5, 'x[27] <= 0.844\\nentropy = 0.806\\nsamples = 28\\nvalue = [0, 2, 24, 0, 0, 0, 1, 0, 0, 1]'),\n",
       " Text(0.9346938775510204, 0.4090909090909091, 'entropy = 0.0\\nsamples = 24\\nvalue = [0, 0, 24, 0, 0, 0, 0, 0, 0, 0]'),\n",
       " Text(0.9510204081632653, 0.4090909090909091, 'entropy = 1.5\\nsamples = 4\\nvalue = [0, 2, 0, 0, 0, 0, 1, 0, 0, 1]'),\n",
       " Text(0.9755102040816327, 0.5, 'x[35] <= 0.344\\nentropy = 0.859\\nsamples = 36\\nvalue = [0, 0, 1, 4, 0, 0, 1, 0, 30, 0]'),\n",
       " Text(0.9673469387755103, 0.4090909090909091, 'entropy = 0.0\\nsamples = 4\\nvalue = [0, 0, 0, 4, 0, 0, 0, 0, 0, 0]'),\n",
       " Text(0.9836734693877551, 0.4090909090909091, 'x[46] <= 0.406\\nentropy = 0.4\\nsamples = 32\\nvalue = [0, 0, 1, 0, 0, 0, 1, 0, 30, 0]'),\n",
       " Text(0.9755102040816327, 0.3181818181818182, 'entropy = 0.0\\nsamples = 29\\nvalue = [0, 0, 0, 0, 0, 0, 0, 0, 29, 0]'),\n",
       " Text(0.9918367346938776, 0.3181818181818182, 'entropy = 1.585\\nsamples = 3\\nvalue = [0, 0, 1, 0, 0, 0, 1, 0, 1, 0]')]"
      ]
     },
     "execution_count": 263,
     "metadata": {},
     "output_type": "execute_result"
    },
    {
     "data": {
      "image/png": "[encoded data removed]",
      "text/plain": [
       "<Figure size 640x480 with 1 Axes>"
      ]
     },
     "metadata": {},
     "output_type": "display_data"
    }
   ],
   "source": [
    "from sklearn import tree\n",
    "\n",
    "tree.plot_tree(reg)"
   ]
  }
 ],
 "metadata": {
  "kernelspec": {
   "display_name": "Python 3",
   "language": "python",
   "name": "python3"
  },
  "language_info": {
   "codemirror_mode": {
    "name": "ipython",
    "version": 3
   },
   "file_extension": ".py",
   "mimetype": "text/x-python",
   "name": "python",
   "nbconvert_exporter": "python",
   "pygments_lexer": "ipython3",
   "version": "3.11.6"
  }
 },
 "nbformat": 4,
 "nbformat_minor": 5
}
