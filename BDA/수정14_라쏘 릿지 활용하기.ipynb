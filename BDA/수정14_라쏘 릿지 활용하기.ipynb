{
 "cells": [
  {
   "cell_type": "markdown",
   "metadata": {},
   "source": [
    "## Lasso 클래스 사용하기"
   ]
  },
  {
   "cell_type": "code",
   "execution_count": 4,
   "metadata": {},
   "outputs": [
    {
     "data": {
      "text/html": [
       "<div>\n",
       "<style scoped>\n",
       "    .dataframe tbody tr th:only-of-type {\n",
       "        vertical-align: middle;\n",
       "    }\n",
       "\n",
       "    .dataframe tbody tr th {\n",
       "        vertical-align: top;\n",
       "    }\n",
       "\n",
       "    .dataframe thead th {\n",
       "        text-align: right;\n",
       "    }\n",
       "</style>\n",
       "<table border=\"1\" class=\"dataframe\">\n",
       "  <thead>\n",
       "    <tr style=\"text-align: right;\">\n",
       "      <th></th>\n",
       "      <th>age</th>\n",
       "      <th>sex</th>\n",
       "      <th>bmi</th>\n",
       "      <th>bp</th>\n",
       "      <th>s1</th>\n",
       "      <th>s2</th>\n",
       "      <th>s3</th>\n",
       "      <th>s4</th>\n",
       "      <th>s5</th>\n",
       "      <th>s6</th>\n",
       "    </tr>\n",
       "  </thead>\n",
       "  <tbody>\n",
       "    <tr>\n",
       "      <th>221</th>\n",
       "      <td>-0.045472</td>\n",
       "      <td>-0.044642</td>\n",
       "      <td>-0.038540</td>\n",
       "      <td>-0.026328</td>\n",
       "      <td>-0.015328</td>\n",
       "      <td>0.000878</td>\n",
       "      <td>-0.032356</td>\n",
       "      <td>-0.002592</td>\n",
       "      <td>0.001148</td>\n",
       "      <td>-0.038357</td>\n",
       "    </tr>\n",
       "    <tr>\n",
       "      <th>176</th>\n",
       "      <td>0.045341</td>\n",
       "      <td>0.050680</td>\n",
       "      <td>0.019662</td>\n",
       "      <td>0.039087</td>\n",
       "      <td>0.020446</td>\n",
       "      <td>0.025930</td>\n",
       "      <td>0.008142</td>\n",
       "      <td>-0.002592</td>\n",
       "      <td>-0.003301</td>\n",
       "      <td>0.019633</td>\n",
       "    </tr>\n",
       "    <tr>\n",
       "      <th>227</th>\n",
       "      <td>0.067136</td>\n",
       "      <td>0.050680</td>\n",
       "      <td>-0.029918</td>\n",
       "      <td>0.057437</td>\n",
       "      <td>-0.000193</td>\n",
       "      <td>-0.015719</td>\n",
       "      <td>0.074412</td>\n",
       "      <td>-0.050564</td>\n",
       "      <td>-0.038460</td>\n",
       "      <td>0.007207</td>\n",
       "    </tr>\n",
       "    <tr>\n",
       "      <th>434</th>\n",
       "      <td>0.016281</td>\n",
       "      <td>-0.044642</td>\n",
       "      <td>0.001339</td>\n",
       "      <td>0.008101</td>\n",
       "      <td>0.005311</td>\n",
       "      <td>0.010899</td>\n",
       "      <td>0.030232</td>\n",
       "      <td>-0.039493</td>\n",
       "      <td>-0.045424</td>\n",
       "      <td>0.032059</td>\n",
       "    </tr>\n",
       "    <tr>\n",
       "      <th>110</th>\n",
       "      <td>0.041708</td>\n",
       "      <td>0.050680</td>\n",
       "      <td>-0.032073</td>\n",
       "      <td>-0.022885</td>\n",
       "      <td>-0.049727</td>\n",
       "      <td>-0.040144</td>\n",
       "      <td>0.030232</td>\n",
       "      <td>-0.039493</td>\n",
       "      <td>-0.126097</td>\n",
       "      <td>0.015491</td>\n",
       "    </tr>\n",
       "  </tbody>\n",
       "</table>\n",
       "</div>"
      ],
      "text/plain": [
       "          age       sex       bmi        bp        s1        s2        s3  \\\n",
       "221 -0.045472 -0.044642 -0.038540 -0.026328 -0.015328  0.000878 -0.032356   \n",
       "176  0.045341  0.050680  0.019662  0.039087  0.020446  0.025930  0.008142   \n",
       "227  0.067136  0.050680 -0.029918  0.057437 -0.000193 -0.015719  0.074412   \n",
       "434  0.016281 -0.044642  0.001339  0.008101  0.005311  0.010899  0.030232   \n",
       "110  0.041708  0.050680 -0.032073 -0.022885 -0.049727 -0.040144  0.030232   \n",
       "\n",
       "           s4        s5        s6  \n",
       "221 -0.002592  0.001148 -0.038357  \n",
       "176 -0.002592 -0.003301  0.019633  \n",
       "227 -0.050564 -0.038460  0.007207  \n",
       "434 -0.039493 -0.045424  0.032059  \n",
       "110 -0.039493 -0.126097  0.015491  "
      ]
     },
     "execution_count": 4,
     "metadata": {},
     "output_type": "execute_result"
    }
   ],
   "source": [
    "from sklearn.datasets import load_diabetes\n",
    "from sklearn.linear_model import Lasso\n",
    "from sklearn.linear_model import LinearRegression\n",
    "from sklearn.linear_model import SGDRegressor\n",
    "from sklearn.linear_model import Ridge\n",
    "from sklearn.model_selection import train_test_split\n",
    "from sklearn.preprocessing import StandardScaler\n",
    "from sklearn.pipeline import Pipeline\n",
    "import numpy as np\n",
    "\n",
    "X, y = load_diabetes(return_X_y=True, as_frame=True)\n",
    "X_train, X_test, y_train, y_test = train_test_split(X, \n",
    "                                                    y,\n",
    "                                                    test_size=0.33, \n",
    "                                                    random_state=1234)\n",
    "\n",
    "X_train.head()"
   ]
  },
  {
   "cell_type": "code",
   "execution_count": 7,
   "metadata": {},
   "outputs": [
    {
     "name": "stdout",
     "output_type": "stream",
     "text": [
      "학습 데이터셋 MAE: 47.475\n",
      "테스트 데이터셋 MAE: 46.139\n"
     ]
    }
   ],
   "source": [
    "scaler = StandardScaler()\n",
    "reg = Lasso(alpha=10, random_state=1234)\n",
    "\n",
    "pipe = Pipeline(steps=[(\"scaler\", scaler), (\"reg\", reg)])\n",
    "pipe = pipe.fit(X_train, y_train)\n",
    "\n",
    "y_train_pred = pipe.predict(X_train)\n",
    "y_pred = pipe.predict(X_test)\n",
    "\n",
    "print(f'학습 데이터셋 MAE:{np.abs(y_train_pred - y_train).mean(): .3f}')\n",
    "print(f'테스트 데이터셋 MAE:{np.abs(y_pred - y_test).mean(): .3f}')"
   ]
  },
  {
   "cell_type": "code",
   "execution_count": 8,
   "metadata": {},
   "outputs": [
    {
     "name": "stdout",
     "output_type": "stream",
     "text": [
      "추정 파라미터의 값:\n",
      " [ 0.         -0.         22.14741042  7.25438995 -0.         -0.\n",
      " -4.43633143  0.         18.8046418   0.        ]\n"
     ]
    }
   ],
   "source": [
    "print('추정 파라미터의 값:\\n', reg.coef_)  #피처개수"
   ]
  },
  {
   "cell_type": "code",
   "execution_count": 8,
   "metadata": {},
   "outputs": [
    {
     "name": "stdout",
     "output_type": "stream",
     "text": [
      "추정 절편의 값:\n",
      " 150.9527027027027\n"
     ]
    }
   ],
   "source": [
    "print('추정 절편의 값:\\n', reg.intercept_)"
   ]
  },
  {
   "cell_type": "markdown",
   "metadata": {},
   "source": [
    "## 스케일링과 LassoCV 파이프라인"
   ]
  },
  {
   "cell_type": "code",
   "execution_count": 32,
   "metadata": {},
   "outputs": [],
   "source": [
    "from sklearn.datasets import load_diabetes\n",
    "from sklearn.linear_model import LassoCV\n",
    "from sklearn.linear_model import LinearRegression\n",
    "from sklearn.linear_model import SGDRegressor\n",
    "from sklearn.linear_model import Ridge\n",
    "from sklearn.model_selection import train_test_split\n",
    "from sklearn.preprocessing import StandardScaler\n",
    "from sklearn.pipeline import Pipeline\n",
    "import numpy as np\n",
    "\n",
    "X, y = load_diabetes(return_X_y=True, as_frame=True)\n",
    "X_train, X_test, y_train, y_test = train_test_split(X, \n",
    "                                                    y, \n",
    "                                                    test_size=0.33, \n",
    "                                                    random_state=1234)"
   ]
  },
  {
   "cell_type": "code",
   "execution_count": 36,
   "metadata": {},
   "outputs": [
    {
     "name": "stdout",
     "output_type": "stream",
     "text": [
      "최적의 alpha: 1.0\n",
      "계수: [ -0.         -11.51737805  23.99135346  14.40671787  -5.33712387\n",
      "  -0.          -9.7359812    2.29157958  23.67450824   3.04281307]\n",
      "MAE: 63.786\n"
     ]
    },
    {
     "name": "stderr",
     "output_type": "stream",
     "text": [
      "C:\\Users\\jinhyun\\anaconda3\\lib\\site-packages\\sklearn\\base.py:413: UserWarning: X has feature names, but StandardScaler was fitted without feature names\n",
      "  warnings.warn(\n"
     ]
    }
   ],
   "source": [
    "lassoCV = LassoCV(alphas=[0.01, 0.1, 1, 10, 100], cv=10) \n",
    "scaler=StandardScaler()\n",
    "pipeline = Pipeline(steps=[(\"scaler\", scaler), (\"reg\", lassoCV)]).fit(X_train, y_train)\n",
    "y_pred = reg.predict(X_test)\n",
    "\n",
    "print('최적의 alpha:', lassoCV.alpha_)\n",
    "print(f'계수: {lassoCV.coef_}')\n",
    "print(f'MAE:{(np.abs(y_pred - y_test)).mean(): .3f}')"
   ]
  },
  {
   "cell_type": "markdown",
   "metadata": {},
   "source": [
    "## 불필요한 피처가 많은 상황에서 선형 모델 비교하기"
   ]
  },
  {
   "cell_type": "code",
   "execution_count": 37,
   "metadata": {},
   "outputs": [],
   "source": [
    "from sklearn.datasets import make_regression\n",
    "from sklearn.model_selection import train_test_split\n",
    "from sklearn.linear_model import LinearRegression, Lasso\n",
    "\n",
    "X, y = make_regression(n_samples=300, \n",
    "                       n_features=400, \n",
    "                       n_informative=50, \n",
    "                       n_targets=1, \n",
    "                       bias=0.0, \n",
    "                       noise=10.0, \n",
    "                       random_state=1234)\n",
    "X_train, X_test, y_train, y_test = train_test_split(X, \n",
    "                                                    y, \n",
    "                                                    test_size=0.33, \n",
    "                                                    random_state=1234)"
   ]
  },
  {
   "cell_type": "code",
   "execution_count": 38,
   "metadata": {},
   "outputs": [
    {
     "name": "stdout",
     "output_type": "stream",
     "text": [
      "학습 데이터셋 기준 OLS 모델의 MSE: 0.00\n",
      "테스트 데이터셋 기준 OLS 모델의 MSE: 66401.28\n"
     ]
    }
   ],
   "source": [
    "reg1 = LinearRegression()\n",
    "reg1 = reg1.fit(X_train, y_train)\n",
    "y_train_pred = reg1.predict(X_train)\n",
    "print(f'학습 데이터셋 기준 OLS 모델의 MSE:{((y_train - y_train_pred)**2).mean(): .2f}')\n",
    "\n",
    "y_test_pred = reg1.predict(X_test)\n",
    "print(f'테스트 데이터셋 기준 OLS 모델의 MSE:{((y_test - y_test_pred)**2).mean(): .2f}')"
   ]
  },
  {
   "cell_type": "code",
   "execution_count": 39,
   "metadata": {},
   "outputs": [
    {
     "name": "stdout",
     "output_type": "stream",
     "text": [
      "학습 데이터셋 기준 LASSO 모델의 MSE: 130.41\n",
      "테스트 데이터셋 기준 LASSO 모델의 MSE: 457.40\n"
     ]
    }
   ],
   "source": [
    "reg2 = Lasso()\n",
    "reg2 = reg2.fit(X_train, y_train)\n",
    "y_train_pred = reg2.predict(X_train)\n",
    "print(f'학습 데이터셋 기준 LASSO 모델의 MSE:{((y_train - y_train_pred)**2).mean(): .2f}')\n",
    "\n",
    "y_test_pred = reg2.predict(X_test)\n",
    "print(f'테스트 데이터셋 기준 LASSO 모델의 MSE:{((y_test - y_test_pred)**2).mean(): .2f}')"
   ]
  },
  {
   "cell_type": "code",
   "execution_count": 40,
   "metadata": {},
   "outputs": [
    {
     "name": "stdout",
     "output_type": "stream",
     "text": [
      "학습 데이터셋 기준 LASSO 모델의 MSE: 11.23\n",
      "테스트 데이터셋 기준 LASSO 모델의 MSE: 403.33\n"
     ]
    }
   ],
   "source": [
    "reg3 = LassoCV()\n",
    "reg3 = reg3.fit(X_train, y_train)\n",
    "y_train_pred = reg3.predict(X_train)\n",
    "print(f'학습 데이터셋 기준 LASSO 모델의 MSE:{((y_train - y_train_pred)**2).mean(): .2f}')\n",
    "\n",
    "y_test_pred = reg3.predict(X_test)\n",
    "print(f'테스트 데이터셋 기준 LASSO 모델의 MSE:{((y_test - y_test_pred)**2).mean(): .2f}')"
   ]
  },
  {
   "cell_type": "markdown",
   "metadata": {},
   "source": [
    "#### LassoCV 의 경우 alpha와 cv를 따로 적지 않으면 3번의 교차검증을 통해, 자동으로 세팅된 후보군 안에서 최적화된 alpha를 찾아낸다."
   ]
  },
  {
   "cell_type": "markdown",
   "metadata": {},
   "source": []
  },
  {
   "cell_type": "code",
   "execution_count": null,
   "metadata": {},
   "outputs": [],
   "source": []
  },
  {
   "cell_type": "code",
   "execution_count": null,
   "metadata": {},
   "outputs": [],
   "source": []
  },
  {
   "cell_type": "code",
   "execution_count": null,
   "metadata": {},
   "outputs": [],
   "source": []
  },
  {
   "cell_type": "code",
   "execution_count": null,
   "metadata": {},
   "outputs": [],
   "source": []
  },
  {
   "cell_type": "markdown",
   "metadata": {},
   "source": [
    "## Ridge 클래스 및 RidgeCV 활용하기"
   ]
  },
  {
   "cell_type": "code",
   "execution_count": 52,
   "metadata": {},
   "outputs": [],
   "source": [
    "from sklearn.linear_model import Ridge\n",
    "from sklearn.linear_model import RidgeCV\n",
    "from sklearn.datasets import load_diabetes\n",
    "from sklearn.model_selection import train_test_split\n",
    "import numpy as np\n",
    "\n",
    "X, y = load_diabetes(return_X_y=True, as_frame=True)\n",
    "X_train, X_test, y_train, y_test = train_test_split(X,\n",
    "                                                    y,\n",
    "                                                    test_size=0.33,\n",
    "                                                    random_state=1234)"
   ]
  },
  {
   "cell_type": "code",
   "execution_count": 53,
   "metadata": {},
   "outputs": [
    {
     "name": "stdout",
     "output_type": "stream",
     "text": [
      "alpha 값이 0.05일 경우:\n",
      "학습 데이터셋 MAE: 43.699\n",
      "테스트 데이터셋 MAE: 43.034\n",
      "\n",
      "alpha 값이 0.1일 경우:\n",
      "학습 데이터셋 MAE: 43.928\n",
      "테스트 데이터셋 MAE: 43.366\n",
      "\n",
      "alpha 값이 1일 경우:\n",
      "학습 데이터셋 MAE: 48.966\n",
      "테스트 데이터셋 MAE: 49.582\n",
      "\n"
     ]
    }
   ],
   "source": [
    "alphas = [0.05, 0.1, 1]\n",
    "\n",
    "for alpha in alphas:\n",
    "    reg = Ridge(alpha=alpha)\n",
    "    reg = reg.fit(X_train, y_train)\n",
    "\n",
    "    y_pred_train = reg.predict(X_train)\n",
    "    print(f'alpha 값이 {alpha}일 경우:')\n",
    "    print(f'학습 데이터셋 MAE:{np.abs(y_pred_train - y_train).mean(): .3f}')\n",
    "    y_pred = reg.predict(X_test)\n",
    "    print(f'테스트 데이터셋 MAE:{np.abs(y_pred - y_test).mean(): .3f}\\n')"
   ]
  },
  {
   "cell_type": "code",
   "execution_count": 54,
   "metadata": {},
   "outputs": [
    {
     "name": "stdout",
     "output_type": "stream",
     "text": [
      "학습 데이터셋 MAE: 43.699\n",
      "테스트 데이터셋 MAE: 43.034\n",
      "\n"
     ]
    }
   ],
   "source": [
    "alphas = [0.05, 0.1, 1]\n",
    "\n",
    "reg = RidgeCV(alphas=alphas)\n",
    "reg = reg.fit(X_train, y_train)\n",
    "\n",
    "y_pred_train = reg.predict(X_train)\n",
    "print(f'학습 데이터셋 MAE:{np.abs(y_pred_train - y_train).mean(): .3f}')\n",
    "y_pred = reg.predict(X_test)\n",
    "print(f'테스트 데이터셋 MAE:{np.abs(y_pred - y_test).mean(): .3f}\\n')"
   ]
  },
  {
   "cell_type": "markdown",
   "metadata": {},
   "source": [
    "### 비선형 문제에 선형회귀,Ridge, Lasso 적용하기"
   ]
  },
  {
   "cell_type": "code",
   "execution_count": 46,
   "metadata": {},
   "outputs": [
    {
     "data": {
      "text/html": [
       "<div>\n",
       "<style scoped>\n",
       "    .dataframe tbody tr th:only-of-type {\n",
       "        vertical-align: middle;\n",
       "    }\n",
       "\n",
       "    .dataframe tbody tr th {\n",
       "        vertical-align: top;\n",
       "    }\n",
       "\n",
       "    .dataframe thead th {\n",
       "        text-align: right;\n",
       "    }\n",
       "</style>\n",
       "<table border=\"1\" class=\"dataframe\">\n",
       "  <thead>\n",
       "    <tr style=\"text-align: right;\">\n",
       "      <th></th>\n",
       "      <th>y</th>\n",
       "      <th>X1</th>\n",
       "      <th>X2</th>\n",
       "      <th>X3</th>\n",
       "      <th>X4</th>\n",
       "      <th>X5</th>\n",
       "    </tr>\n",
       "  </thead>\n",
       "  <tbody>\n",
       "    <tr>\n",
       "      <th>206</th>\n",
       "      <td>-1043.525008</td>\n",
       "      <td>0.854545</td>\n",
       "      <td>0.980386</td>\n",
       "      <td>1.084388</td>\n",
       "      <td>1.052588</td>\n",
       "      <td>1</td>\n",
       "    </tr>\n",
       "    <tr>\n",
       "      <th>2436</th>\n",
       "      <td>783.900028</td>\n",
       "      <td>0.742729</td>\n",
       "      <td>1.102032</td>\n",
       "      <td>0.776963</td>\n",
       "      <td>1.049194</td>\n",
       "      <td>0</td>\n",
       "    </tr>\n",
       "    <tr>\n",
       "      <th>1201</th>\n",
       "      <td>909.283251</td>\n",
       "      <td>0.958107</td>\n",
       "      <td>1.159922</td>\n",
       "      <td>1.071176</td>\n",
       "      <td>1.151493</td>\n",
       "      <td>0</td>\n",
       "    </tr>\n",
       "    <tr>\n",
       "      <th>1486</th>\n",
       "      <td>832.806098</td>\n",
       "      <td>1.066110</td>\n",
       "      <td>0.975990</td>\n",
       "      <td>0.939312</td>\n",
       "      <td>0.992746</td>\n",
       "      <td>0</td>\n",
       "    </tr>\n",
       "    <tr>\n",
       "      <th>1786</th>\n",
       "      <td>-1101.601106</td>\n",
       "      <td>0.940846</td>\n",
       "      <td>1.111162</td>\n",
       "      <td>0.959809</td>\n",
       "      <td>1.058676</td>\n",
       "      <td>1</td>\n",
       "    </tr>\n",
       "    <tr>\n",
       "      <th>...</th>\n",
       "      <td>...</td>\n",
       "      <td>...</td>\n",
       "      <td>...</td>\n",
       "      <td>...</td>\n",
       "      <td>...</td>\n",
       "      <td>...</td>\n",
       "    </tr>\n",
       "    <tr>\n",
       "      <th>664</th>\n",
       "      <td>842.658338</td>\n",
       "      <td>1.176910</td>\n",
       "      <td>1.054615</td>\n",
       "      <td>1.047532</td>\n",
       "      <td>0.941769</td>\n",
       "      <td>0</td>\n",
       "    </tr>\n",
       "    <tr>\n",
       "      <th>776</th>\n",
       "      <td>-1209.189849</td>\n",
       "      <td>1.125480</td>\n",
       "      <td>1.030696</td>\n",
       "      <td>1.174190</td>\n",
       "      <td>1.024031</td>\n",
       "      <td>1</td>\n",
       "    </tr>\n",
       "    <tr>\n",
       "      <th>1318</th>\n",
       "      <td>878.704510</td>\n",
       "      <td>1.140897</td>\n",
       "      <td>1.047285</td>\n",
       "      <td>0.954595</td>\n",
       "      <td>1.047294</td>\n",
       "      <td>0</td>\n",
       "    </tr>\n",
       "    <tr>\n",
       "      <th>723</th>\n",
       "      <td>877.670564</td>\n",
       "      <td>0.948883</td>\n",
       "      <td>1.220475</td>\n",
       "      <td>1.123088</td>\n",
       "      <td>1.077942</td>\n",
       "      <td>0</td>\n",
       "    </tr>\n",
       "    <tr>\n",
       "      <th>363</th>\n",
       "      <td>-1135.383281</td>\n",
       "      <td>1.050324</td>\n",
       "      <td>1.203564</td>\n",
       "      <td>0.798109</td>\n",
       "      <td>0.895300</td>\n",
       "      <td>1</td>\n",
       "    </tr>\n",
       "  </tbody>\n",
       "</table>\n",
       "<p>5000 rows × 6 columns</p>\n",
       "</div>"
      ],
      "text/plain": [
       "                y        X1        X2        X3        X4  X5\n",
       "206  -1043.525008  0.854545  0.980386  1.084388  1.052588   1\n",
       "2436   783.900028  0.742729  1.102032  0.776963  1.049194   0\n",
       "1201   909.283251  0.958107  1.159922  1.071176  1.151493   0\n",
       "1486   832.806098  1.066110  0.975990  0.939312  0.992746   0\n",
       "1786 -1101.601106  0.940846  1.111162  0.959809  1.058676   1\n",
       "...           ...       ...       ...       ...       ...  ..\n",
       "664    842.658338  1.176910  1.054615  1.047532  0.941769   0\n",
       "776  -1209.189849  1.125480  1.030696  1.174190  1.024031   1\n",
       "1318   878.704510  1.140897  1.047285  0.954595  1.047294   0\n",
       "723    877.670564  0.948883  1.220475  1.123088  1.077942   0\n",
       "363  -1135.383281  1.050324  1.203564  0.798109  0.895300   1\n",
       "\n",
       "[5000 rows x 6 columns]"
      ]
     },
     "execution_count": 46,
     "metadata": {},
     "output_type": "execute_result"
    }
   ],
   "source": [
    "import numpy as np\n",
    "import pandas as pd\n",
    "\n",
    "n1, n2, n_train = 2500, 2500, 4000\n",
    "m, v = 1, 0.1\n",
    "\n",
    "np.random.seed(1234)\n",
    "X1 = np.random.normal(m, v, size=n1)\n",
    "X2 = np.random.normal(m, v, size=n1)\n",
    "X3 = np.random.normal(m, v, size=n1)\n",
    "X4 = np.random.normal(m, v, size=n1)\n",
    "y = X1*200 + X2*30 + X3*100 + X4*500\n",
    "df1 = pd.DataFrame({'y': y, 'X1': X1, 'X2': X2, 'X3': X3, 'X4': X4})\n",
    "df1['X5'] = 0\n",
    "\n",
    "X1 = np.random.normal(m, v, size=n2)\n",
    "X2 = np.random.normal(m, v, size=n2)\n",
    "X3 = np.random.normal(m, v, size=n2)\n",
    "X4 = np.random.normal(m, v, size=n2)\n",
    "y = -X1*500 - X2*300 - X3*200 - X4*100\n",
    "df2 = pd.DataFrame({'y': y, 'X1': X1, 'X2': X2, 'X3': X3, 'X4': X4})\n",
    "df2['X5'] = 1\n",
    "\n",
    "df = pd.concat([df1, df2])\n",
    "df = df.sample(frac=1, random_state=1234)\n",
    "df"
   ]
  },
  {
   "cell_type": "code",
   "execution_count": 44,
   "metadata": {},
   "outputs": [],
   "source": [
    "train, test = df.iloc[:n_train, :], df.iloc[n_train:, :]\n",
    "\n",
    "X_train, y_train = train.iloc[:, 1:], train.iloc[:, 0]\n",
    "X_test, y_test = test.iloc[:, 1:], test.iloc[:, 0]"
   ]
  },
  {
   "cell_type": "code",
   "execution_count": 50,
   "metadata": {},
   "outputs": [
    {
     "name": "stdout",
     "output_type": "stream",
     "text": [
      "OLS 모델의 MAE: 42.62\n",
      "LASSO 모델의 MAE: 51.79\n",
      "릿지 회귀 모델의 MAE: 49.58\n",
      "LASSOCV 모델의 MAE: 42.90\n",
      "릿지CV 모델의 MAE: 43.37\n"
     ]
    }
   ],
   "source": [
    "from sklearn.linear_model import LinearRegression, Lasso, Ridge\n",
    "\n",
    "reg1 = LinearRegression()\n",
    "y_pred = reg1.fit(X_train, y_train).predict(X_test)\n",
    "print(f'OLS 모델의 MAE:{(np.abs(y_pred - y_test)).mean(): .2f}')\n",
    "\n",
    "reg2 = Lasso()\n",
    "y_pred = reg2.fit(X_train, y_train).predict(X_test)\n",
    "((y_pred - y_test)**2).mean()\n",
    "print(f'LASSO 모델의 MAE:{(np.abs(y_pred - y_test)).mean(): .2f}')\n",
    "\n",
    "reg3 = Ridge()\n",
    "y_pred = reg3.fit(X_train, y_train).predict(X_test)\n",
    "((y_pred - y_test)**2).mean()\n",
    "print(f'릿지 회귀 모델의 MAE:{(np.abs(y_pred - y_test)).mean(): .2f}')\n",
    "\n",
    "reg4 = LassoCV()\n",
    "y_pred = reg4.fit(X_train, y_train).predict(X_test)\n",
    "((y_pred - y_test)**2).mean()\n",
    "print(f'LASSOCV 모델의 MAE:{(np.abs(y_pred - y_test)).mean(): .2f}')\n",
    "\n",
    "reg5 = RidgeCV()\n",
    "y_pred = reg5.fit(X_train, y_train).predict(X_test)\n",
    "((y_pred - y_test)**2).mean()\n",
    "print(f'릿지CV 모델의 MAE:{(np.abs(y_pred - y_test)).mean(): .2f}')"
   ]
  },
  {
   "cell_type": "code",
   "execution_count": null,
   "metadata": {},
   "outputs": [],
   "source": []
  }
 ],
 "metadata": {
  "kernelspec": {
   "display_name": "Python 3 (ipykernel)",
   "language": "python",
   "name": "python3"
  },
  "language_info": {
   "codemirror_mode": {
    "name": "ipython",
    "version": 3
   },
   "file_extension": ".py",
   "mimetype": "text/x-python",
   "name": "python",
   "nbconvert_exporter": "python",
   "pygments_lexer": "ipython3",
   "version": "3.10.9"
  }
 },
 "nbformat": 4,
 "nbformat_minor": 2
}
