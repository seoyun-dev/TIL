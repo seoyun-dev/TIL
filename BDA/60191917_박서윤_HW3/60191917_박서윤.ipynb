{
 "cells": [
  {
   "cell_type": "markdown",
   "id": "68742b40",
   "metadata": {},
   "source": [
    "## 선형회귀 (목적변수는 Sales)"
   ]
  },
  {
   "cell_type": "markdown",
   "id": "35a3ea88",
   "metadata": {},
   "source": [
    "### 1 (a). advertising1.csv와 advertising2.csv를 pd.read_csv를 통해서 load하여  advertising1, advertising2의 이름으로 할당하세요. "
   ]
  },
  {
   "cell_type": "code",
   "execution_count": 449,
   "metadata": {},
   "outputs": [],
   "source": [
    "import pandas as pd"
   ]
  },
  {
   "cell_type": "code",
   "execution_count": 450,
   "metadata": {},
   "outputs": [],
   "source": [
    "advertising1 = pd.read_csv('advertising/advertising1.csv')\n",
    "advertising2 = pd.read_csv('advertising/advertising2.csv')"
   ]
  },
  {
   "cell_type": "markdown",
   "id": "411f40f3",
   "metadata": {},
   "source": [
    "### 1.(b) 두 데이터를 advertising의 이름으로 병합하세요, 병합 시에 ignore_index 옵션을 활용하여, 0~199까지 되게 하세요."
   ]
  },
  {
   "cell_type": "code",
   "execution_count": 451,
   "metadata": {},
   "outputs": [
    {
     "data": {
      "text/html": [
       "<div>\n",
       "<style scoped>\n",
       "    .dataframe tbody tr th:only-of-type {\n",
       "        vertical-align: middle;\n",
       "    }\n",
       "\n",
       "    .dataframe tbody tr th {\n",
       "        vertical-align: top;\n",
       "    }\n",
       "\n",
       "    .dataframe thead th {\n",
       "        text-align: right;\n",
       "    }\n",
       "</style>\n",
       "<table border=\"1\" class=\"dataframe\">\n",
       "  <thead>\n",
       "    <tr style=\"text-align: right;\">\n",
       "      <th></th>\n",
       "      <th>TV</th>\n",
       "      <th>Radio</th>\n",
       "      <th>Newspaper</th>\n",
       "      <th>Sales</th>\n",
       "    </tr>\n",
       "  </thead>\n",
       "  <tbody>\n",
       "    <tr>\n",
       "      <th>0</th>\n",
       "      <td>230.1</td>\n",
       "      <td>37.8</td>\n",
       "      <td>69.2</td>\n",
       "      <td>22.1</td>\n",
       "    </tr>\n",
       "    <tr>\n",
       "      <th>1</th>\n",
       "      <td>44.5</td>\n",
       "      <td>39.3</td>\n",
       "      <td>45.1</td>\n",
       "      <td>10.4</td>\n",
       "    </tr>\n",
       "    <tr>\n",
       "      <th>2</th>\n",
       "      <td>17.2</td>\n",
       "      <td>45.9</td>\n",
       "      <td>69.3</td>\n",
       "      <td>12.0</td>\n",
       "    </tr>\n",
       "    <tr>\n",
       "      <th>3</th>\n",
       "      <td>151.5</td>\n",
       "      <td>41.3</td>\n",
       "      <td>58.5</td>\n",
       "      <td>16.5</td>\n",
       "    </tr>\n",
       "    <tr>\n",
       "      <th>4</th>\n",
       "      <td>180.8</td>\n",
       "      <td>10.8</td>\n",
       "      <td>58.4</td>\n",
       "      <td>17.9</td>\n",
       "    </tr>\n",
       "    <tr>\n",
       "      <th>...</th>\n",
       "      <td>...</td>\n",
       "      <td>...</td>\n",
       "      <td>...</td>\n",
       "      <td>...</td>\n",
       "    </tr>\n",
       "    <tr>\n",
       "      <th>195</th>\n",
       "      <td>38.2</td>\n",
       "      <td>3.7</td>\n",
       "      <td>13.8</td>\n",
       "      <td>7.6</td>\n",
       "    </tr>\n",
       "    <tr>\n",
       "      <th>196</th>\n",
       "      <td>94.2</td>\n",
       "      <td>4.9</td>\n",
       "      <td>8.1</td>\n",
       "      <td>14.0</td>\n",
       "    </tr>\n",
       "    <tr>\n",
       "      <th>197</th>\n",
       "      <td>177.0</td>\n",
       "      <td>9.3</td>\n",
       "      <td>6.4</td>\n",
       "      <td>14.8</td>\n",
       "    </tr>\n",
       "    <tr>\n",
       "      <th>198</th>\n",
       "      <td>283.6</td>\n",
       "      <td>42.0</td>\n",
       "      <td>66.2</td>\n",
       "      <td>25.5</td>\n",
       "    </tr>\n",
       "    <tr>\n",
       "      <th>199</th>\n",
       "      <td>232.1</td>\n",
       "      <td>8.6</td>\n",
       "      <td>8.7</td>\n",
       "      <td>18.4</td>\n",
       "    </tr>\n",
       "  </tbody>\n",
       "</table>\n",
       "<p>200 rows × 4 columns</p>\n",
       "</div>"
      ],
      "text/plain": [
       "        TV  Radio  Newspaper  Sales\n",
       "0    230.1   37.8       69.2   22.1\n",
       "1     44.5   39.3       45.1   10.4\n",
       "2     17.2   45.9       69.3   12.0\n",
       "3    151.5   41.3       58.5   16.5\n",
       "4    180.8   10.8       58.4   17.9\n",
       "..     ...    ...        ...    ...\n",
       "195   38.2    3.7       13.8    7.6\n",
       "196   94.2    4.9        8.1   14.0\n",
       "197  177.0    9.3        6.4   14.8\n",
       "198  283.6   42.0       66.2   25.5\n",
       "199  232.1    8.6        8.7   18.4\n",
       "\n",
       "[200 rows x 4 columns]"
      ]
     },
     "execution_count": 451,
     "metadata": {},
     "output_type": "execute_result"
    }
   ],
   "source": [
    "advertising = pd.concat([advertising1, advertising2], ignore_index=True)\n",
    "advertising"
   ]
  },
  {
   "cell_type": "markdown",
   "id": "7b4599d2",
   "metadata": {},
   "source": [
    "### 1.(c) advertising의 각 피처가 표준정규분포를 따르도록, 정규화를하세요."
   ]
  },
  {
   "cell_type": "code",
   "execution_count": 452,
   "metadata": {},
   "outputs": [
    {
     "name": "stderr",
     "output_type": "stream",
     "text": [
      "/opt/homebrew/lib/python3.11/site-packages/sklearn/utils/validation.py:767: FutureWarning: is_sparse is deprecated and will be removed in a future version. Check `isinstance(dtype, pd.SparseDtype)` instead.\n",
      "  if not hasattr(array, \"sparse\") and array.dtypes.apply(is_sparse).any():\n",
      "/opt/homebrew/lib/python3.11/site-packages/sklearn/utils/validation.py:605: FutureWarning: is_sparse is deprecated and will be removed in a future version. Check `isinstance(dtype, pd.SparseDtype)` instead.\n",
      "  if is_sparse(pd_dtype):\n",
      "/opt/homebrew/lib/python3.11/site-packages/sklearn/utils/validation.py:614: FutureWarning: is_sparse is deprecated and will be removed in a future version. Check `isinstance(dtype, pd.SparseDtype)` instead.\n",
      "  if is_sparse(pd_dtype) or not is_extension_array_dtype(pd_dtype):\n",
      "/opt/homebrew/lib/python3.11/site-packages/sklearn/utils/validation.py:767: FutureWarning: is_sparse is deprecated and will be removed in a future version. Check `isinstance(dtype, pd.SparseDtype)` instead.\n",
      "  if not hasattr(array, \"sparse\") and array.dtypes.apply(is_sparse).any():\n",
      "/opt/homebrew/lib/python3.11/site-packages/sklearn/utils/validation.py:605: FutureWarning: is_sparse is deprecated and will be removed in a future version. Check `isinstance(dtype, pd.SparseDtype)` instead.\n",
      "  if is_sparse(pd_dtype):\n",
      "/opt/homebrew/lib/python3.11/site-packages/sklearn/utils/validation.py:614: FutureWarning: is_sparse is deprecated and will be removed in a future version. Check `isinstance(dtype, pd.SparseDtype)` instead.\n",
      "  if is_sparse(pd_dtype) or not is_extension_array_dtype(pd_dtype):\n"
     ]
    },
    {
     "data": {
      "text/plain": [
       "array([[ 9.69852266e-01,  9.81522472e-01,  1.77894547e+00],\n",
       "       [-1.19737623e+00,  1.08280781e+00,  6.69578760e-01],\n",
       "       [-1.51615499e+00,  1.52846331e+00,  1.78354865e+00],\n",
       "       [ 5.20496822e-02,  1.21785493e+00,  1.28640506e+00],\n",
       "       [ 3.94182198e-01, -8.41613655e-01,  1.28180188e+00],\n",
       "       [-1.61540845e+00,  1.73103399e+00,  2.04592999e+00],\n",
       "       [-1.04557682e+00,  6.43904671e-01, -3.24708413e-01],\n",
       "       [-3.13436589e-01, -2.47406325e-01, -8.72486994e-01],\n",
       "       [-1.61657614e+00, -1.42906863e+00, -1.36042422e+00],\n",
       "       [ 6.16042873e-01, -1.39530685e+00, -4.30581584e-01],\n",
       "       [-9.45155670e-01, -1.17923146e+00, -2.92486143e-01],\n",
       "       [ 7.90028350e-01,  4.96973404e-02, -1.22232878e+00],\n",
       "       [-1.43908760e+00,  7.99208859e-01,  1.62704048e+00],\n",
       "       [-5.78501712e-01, -1.05768905e+00, -1.07502697e+00],\n",
       "       [ 6.66253447e-01,  6.50657027e-01,  7.11007392e-01],\n",
       "       [ 5.64664612e-01,  1.65000572e+00,  1.02862691e+00],\n",
       "       [-9.25304978e-01,  9.00494200e-01,  3.84117072e+00],\n",
       "       [ 1.56887609e+00,  1.10306488e+00,  1.16211917e+00],\n",
       "       [-9.08957349e-01, -1.86635121e-01, -5.64073843e-01],\n",
       "       [ 3.00679600e-03,  4.29449843e-02, -5.27248393e-01],\n",
       "       [ 8.33232798e-01,  2.99534513e-01,  1.05164281e+00],\n",
       "       [ 1.05509347e+00, -1.22649795e+00, -3.24708413e-01],\n",
       "       [-1.56286250e+00, -4.97243498e-01,  8.76721921e-01],\n",
       "       [ 9.48833887e-01, -4.29719938e-01, -2.00422516e-01],\n",
       "       [-9.89527805e-01, -7.20071247e-01, -5.64073843e-01],\n",
       "       [ 1.35285385e+00, -1.33453565e+00, -5.08835667e-01],\n",
       "       [-4.83714657e-02,  4.07572210e-01, -8.26455181e-01],\n",
       "       [ 1.08662104e+00, -4.43224650e-01, -3.52327501e-01],\n",
       "       [ 1.18820988e+00,  2.59020377e-01, -3.52327501e-01],\n",
       "       [-8.92609721e-01, -4.90491142e-01,  4.71641962e-01],\n",
       "       [ 1.70316018e+00,  3.40048650e-01,  5.82118314e-01],\n",
       "       [-3.98677796e-01, -3.95958157e-01,  3.70371972e-01],\n",
       "       [-5.82004775e-01, -1.46958277e+00, -2.55016247e-02],\n",
       "       [ 1.38438142e+00, -2.20396901e-01, -1.39264649e+00],\n",
       "       [-5.99520091e-01, -1.47633512e+00, -1.06582061e+00],\n",
       "       [ 1.67747105e+00, -1.29402151e+00, -1.01518562e+00],\n",
       "       [ 1.39956136e+00,  1.38666383e+00, -1.17629696e+00],\n",
       "       [-8.44734522e-01,  1.76479577e+00,  6.97197848e-01],\n",
       "       [-1.21372386e+00,  2.32010953e-01,  2.09260624e-01],\n",
       "       [ 9.45330823e-01,  9.74770116e-01,  6.65620024e-02],\n",
       "       [ 6.47570443e-01, -6.50927121e-02,  4.81492770e-02],\n",
       "       [ 3.49810063e-01,  6.84418807e-01,  3.74975153e-01],\n",
       "       [ 1.71133400e+00,  2.99534513e-01, -1.32359877e+00],\n",
       "       [ 6.98948705e-01, -1.00367020e+00, -1.91216154e-01],\n",
       "       [-1.42390765e+00,  1.64487393e-01,  5.86721496e-01],\n",
       "       [ 3.27623995e-01, -5.15880000e-02,  4.35460956e-02],\n",
       "       [-6.69581357e-01, -9.02384859e-01,  2.36879713e-01],\n",
       "       [ 1.08428567e+00,  1.23135965e+00, -5.54867481e-01],\n",
       "       [ 9.35989321e-01, -5.03995854e-01,  8.90531465e-01],\n",
       "       [-9.35814168e-01, -7.80842451e-01,  2.87514708e-01],\n",
       "       [ 6.16042873e-01, -1.36154507e+00,  1.86244718e-01],\n",
       "       [-5.44638766e-01, -9.22641928e-01, -1.24074150e+00],\n",
       "       [ 8.09879042e-01,  1.24486436e+00,  4.16403786e-01],\n",
       "       [ 4.15200577e-01,  1.54872038e+00,  1.29561142e+00],\n",
       "       [ 1.35051848e+00,  3.73810430e-01, -6.74550196e-01],\n",
       "       [ 6.05533683e-01,  1.76479577e+00,  1.35545278e+00],\n",
       "       [-1.63175608e+00,  3.26543937e-01,  4.99261050e-01],\n",
       "       [-1.26606546e-01, -2.74415749e-01, -6.42327927e-01],\n",
       "       [ 7.44488528e-01,  1.77830048e+00,  3.28943340e-01],\n",
       "       [ 7.43320840e-01,  4.21076922e-01, -9.78360166e-01],\n",
       "       [-1.09228433e+00, -1.43582099e+00, -4.21375221e-01],\n",
       "       [ 1.33417085e+00,  1.31238792e+00,  1.11148417e+00],\n",
       "       [ 1.07727954e+00, -5.24252922e-01, -1.49787521e-01],\n",
       "       [-5.17781948e-01,  4.27829278e-01, -1.01978880e+00],\n",
       "       [-1.86158622e-01,  1.31914027e+00, -7.61366196e-02],\n",
       "       [-9.11292725e-01, -9.42898996e-01, -1.36502740e+00],\n",
       "       [-1.34917564e+00,  9.02114765e-02, -1.30518604e+00],\n",
       "       [-9.04082253e-02, -5.91776482e-01, -9.36931533e-01],\n",
       "       [ 1.05509347e+00,  2.86029801e-01, -9.00106083e-01],\n",
       "       [ 8.14549794e-01,  1.39341619e+00, -1.54390703e-01],\n",
       "       [ 6.07869059e-01,  4.95352838e-01,  3.74975153e-01],\n",
       "       [-4.34876116e-01, -6.05281194e-01,  5.27524584e-02],\n",
       "       [-1.40405696e+00,  6.57409383e-01, -5.18042030e-01],\n",
       "       [-2.06009314e-01, -1.18598381e+00,  3.43397329e-02],\n",
       "       [ 7.74848409e-01,  9.02114765e-02, -8.03439274e-01],\n",
       "       [-1.51965805e+00,  1.37991148e+00,  2.70878810e+00],\n",
       "       [-1.39588315e+00, -1.46283041e+00, -4.53597491e-01],\n",
       "       [-3.09933525e-01,  3.53553362e-01, -7.52804279e-01],\n",
       "       [-1.65394214e+00,  4.48086346e-01, -9.73756984e-01],\n",
       "       [-3.62479475e-01, -1.05093669e+00, -3.43121138e-01],\n",
       "       [-8.24883830e-01,  2.32010953e-01, -3.79946589e-01],\n",
       "       [ 1.08311798e+00, -1.29402151e+00,  2.92117889e-01],\n",
       "       [-8.37728396e-01, -2.00139833e-01,  8.95779092e-02],\n",
       "       [-9.18298852e-01,  1.43393033e+00,  2.32276531e-01],\n",
       "       [ 7.76016097e-01,  1.33264499e+00,  1.49419267e-01],\n",
       "       [ 5.38975481e-01, -3.28434597e-01,  1.61783412e+00],\n",
       "       [-8.26051518e-01,  2.86029801e-01, -6.69947015e-01],\n",
       "       [-4.24366926e-01,  1.17058844e+00,  1.50275459e+00],\n",
       "       [-6.85928986e-01,  1.50982681e-01,  1.97227908e+00],\n",
       "       [-4.34876116e-01,  1.65675807e+00,  9.59579186e-01],\n",
       "       [-1.48792614e-01, -1.24000266e+00, -9.78360166e-01],\n",
       "       [-1.38303858e+00, -1.46958277e+00,  1.12593816e-01],\n",
       "       [ 8.25058983e-01,  6.91171163e-01,  1.30942097e+00],\n",
       "       [ 1.21273132e+00,  8.93741844e-01,  1.92164409e+00],\n",
       "       [-4.62900623e-01, -6.25538262e-01, -9.04709264e-01],\n",
       "       [ 1.89836839e-01,  5.62876398e-01,  1.02862691e+00],\n",
       "       [ 5.90353742e-01, -1.33453565e+00, -1.13486833e+00],\n",
       "       [ 4.42057396e-01, -1.52873340e-01, -3.93756133e-01],\n",
       "       [ 1.66579418e+00,  1.28537849e+00,  9.50372823e-01],\n",
       "       [-1.38283424e-01,  1.24486436e+00,  7.06404211e-01],\n",
       "       [ 8.79940308e-01, -1.28051680e+00,  8.85928284e-01],\n",
       "       [ 1.74402926e+00,  8.80237132e-01,  3.23815396e+00],\n",
       "       [ 1.55486384e+00, -8.88880147e-01, -4.21375221e-01],\n",
       "       [ 4.77088029e-01, -4.09462869e-01, -5.82486569e-01],\n",
       "       [ 1.06443498e+00,  7.45190011e-01, -1.16248742e+00],\n",
       "       [-1.06755854e-01,  1.56222509e+00,  1.30942097e+00],\n",
       "       [-1.42507534e+00, -8.28108943e-01, -3.93111688e-02],\n",
       "       [-6.61407543e-01, -1.55061104e+00, -3.38517957e-01],\n",
       "       [-1.56403019e+00, -1.54385868e+00, -2.28041604e-01],\n",
       "       [ 1.26527727e+00,  2.45515665e-01, -1.15328106e+00],\n",
       "       [ 9.19641692e-01, -1.01717491e+00,  1.19434143e+00],\n",
       "       [ 1.10530405e+00,  9.95027184e-01, -3.38517957e-01],\n",
       "       [ 3.34630122e-01, -5.31005278e-01, -1.29597968e+00],\n",
       "       [ 7.30476274e-01, -1.79882765e-01, -9.13915627e-01],\n",
       "       [-8.03865450e-01,  1.58923451e+00,  1.81641536e-01],\n",
       "       [-8.40063771e-01,  7.92456503e-01,  1.01942054e+00],\n",
       "       [-9.15759131e-02, -6.05281194e-01, -2.28041604e-01],\n",
       "       [-8.24883830e-01, -1.51684926e+00, -7.25185191e-01],\n",
       "       [-2.49213762e-01,  9.20751268e-01,  2.23926360e+00],\n",
       "       [-1.49046586e+00, -4.90491142e-01, -3.79946589e-01],\n",
       "       [-6.70544700e-02,  2.38763309e-01,  7.20213755e-01],\n",
       "       [-1.49747198e+00, -1.05606848e-01,  9.13547372e-01],\n",
       "       [ 8.98623313e-01, -1.40881156e+00, -6.88359740e-01],\n",
       "       [-2.79573643e-01,  7.65447079e-01, -8.35661544e-01],\n",
       "       [ 9.62846140e-01,  6.10142891e-01,  2.00910454e+00],\n",
       "       [-6.98773552e-01, -7.74090095e-01, -2.14232060e-01],\n",
       "       [-1.62591764e+00,  1.05579839e+00,  9.22753735e-01],\n",
       "       [-7.80511695e-01, -1.57086811e+00, -9.82963347e-01],\n",
       "       [ 8.55418865e-01,  1.73778635e+00, -1.25915423e+00],\n",
       "       [-1.02105537e+00, -7.60585383e-01,  5.77515133e-01],\n",
       "       [-1.70882347e+00,  1.10306488e+00, -1.00597925e+00],\n",
       "       [ 1.37971067e+00, -1.37504978e+00,  5.72911952e-01],\n",
       "       [-1.61891151e+00,  2.65772733e-01, -1.30978922e+00],\n",
       "       [ 8.49580427e-01,  6.91171163e-01,  6.69578760e-01],\n",
       "       [-1.28612050e+00,  1.03554132e+00,  1.61323094e+00],\n",
       "       [-1.15300409e+00,  1.60273923e+00, -1.01518562e+00],\n",
       "       [-1.41806922e+00,  1.06255074e+00, -9.78360166e-01],\n",
       "       [ 1.47896413e+00,  3.80562786e-01,  1.34164324e+00],\n",
       "       [-1.21489154e+00,  1.77992105e-01, -4.62803854e-01],\n",
       "       [ 4.42057396e-01,  1.39341619e+00, -1.32820195e+00],\n",
       "       [-8.59914463e-01, -4.22967582e-01, -8.12645637e-01],\n",
       "       [ 5.44813920e-01,  8.19465927e-01,  2.07354907e+00],\n",
       "       [ 8.57754241e-01,  6.70914095e-01,  3.38149702e-01],\n",
       "       [-4.95595880e-01, -1.18598381e+00,  1.77038355e-01],\n",
       "       [-5.93681653e-01, -5.71519414e-01,  3.84181516e-01],\n",
       "       [-7.87313476e-02, -1.44257334e+00, -9.92169710e-01],\n",
       "       [ 1.08662104e+00, -1.07794612e+00, -1.00597925e+00],\n",
       "       [ 1.12281936e+00,  1.73778635e+00,  6.32753309e-01],\n",
       "       [-1.27327593e+00,  1.15033137e+00, -8.58677450e-01],\n",
       "       [-1.19504085e+00,  1.71239749e-01, -4.58200672e-01],\n",
       "       [ 1.56070228e+00, -6.32290618e-01,  2.96721070e-01],\n",
       "       [-3.04095087e-01, -1.00367020e+00,  8.35293289e-01],\n",
       "       [ 5.90353742e-01,  2.43084817e-03, -7.52804279e-01],\n",
       "       [ 2.83251860e-01,  1.10981724e+00,  3.28943340e-01],\n",
       "       [ 4.75920341e-01, -1.46120984e-01, -9.69153803e-01],\n",
       "       [-1.66912209e+00, -7.87594807e-01, -1.14407469e+00],\n",
       "       [-6.20538471e-01,  1.36640677e+00,  9.18150553e-01],\n",
       "       [ 3.21989902e-02, -1.48308748e+00, -2.87882962e-01],\n",
       "       [-1.58037782e+00,  9.20751268e-01,  6.74181942e-01],\n",
       "       [-1.79152496e-01, -3.28434597e-01,  1.86244718e-01],\n",
       "       [ 2.97264113e-01, -3.48691665e-01,  6.72064478e-03],\n",
       "       [-7.16288868e-01,  8.46475352e-01,  8.62912377e-01],\n",
       "       [ 4.82926468e-01, -3.48691665e-01, -2.28041604e-01],\n",
       "       [ 1.92172214e-01,  9.13998912e-01, -1.06582061e+00],\n",
       "       [-3.48467222e-01, -5.78271770e-01, -1.15788424e+00],\n",
       "       [ 1.02123053e+00, -1.34128800e+00,  2.49704176e+00],\n",
       "       [-1.50798117e+00,  9.68017760e-01, -4.12168859e-01],\n",
       "       [ 6.97781017e-01, -1.21974559e+00, -5.13438849e-01],\n",
       "       [ 7.98202165e-01,  2.26879163e-02,  1.24497643e+00],\n",
       "       [ 1.60273904e+00, -8.55118367e-01, -1.11185242e+00],\n",
       "       [-1.13315340e+00, -7.87594807e-01, -5.59470662e-01],\n",
       "       [ 2.03849092e-01, -1.59625696e-01,  7.75451931e-01],\n",
       "       [-1.48813048e+00, -2.13644545e-01, -6.23915201e-01],\n",
       "       [ 2.49388915e-01, -1.09145083e+00, -8.17248818e-01],\n",
       "       [ 8.79940308e-01, -1.34128800e+00, -8.03439274e-01],\n",
       "       [ 1.51633014e+00,  1.73103399e+00,  5.17673775e-01],\n",
       "       [ 1.18353913e+00,  4.68343414e-01, -4.72010216e-01],\n",
       "       [ 2.70407294e-01, -1.04418434e+00,  2.13863806e-01],\n",
       "       [ 1.51399477e+00, -1.41556392e+00, -3.15502050e-01],\n",
       "       [ 2.16693657e-01, -8.95632503e-01, -5.96296113e-01],\n",
       "       [ 1.11601758e-01, -1.39530685e+00, -1.02439198e+00],\n",
       "       [ 8.34400486e-01, -1.20624088e+00, -1.45184340e-01],\n",
       "       [-1.06075676e+00, -1.18598381e+00, -3.93111688e-02],\n",
       "       [ 1.64127273e+00,  1.33264499e+00,  1.89862818e+00],\n",
       "       [ 1.24659427e+00, -1.32616272e-01, -2.55016247e-02],\n",
       "       [ 6.76762637e-01,  1.47444446e+00, -5.04232486e-01],\n",
       "       [-8.80728498e-02, -1.42906863e+00, -1.82009791e-01],\n",
       "       [ 5.14454038e-01,  3.67058074e-01, -5.68677025e-01],\n",
       "       [ 1.62258973e+00, -6.32290618e-01, -1.23613832e+00],\n",
       "       [-1.49863967e+00, -7.53833027e-01, -3.29311594e-01],\n",
       "       [-1.25576062e+00,  1.20435022e+00, -1.13947151e+00],\n",
       "       [-8.35393020e-01, -8.41613655e-01, -1.13026515e+00],\n",
       "       [-1.51615499e+00, -1.29402151e+00,  4.81492770e-02],\n",
       "       [ 2.30705910e-01,  1.26512143e+00, -1.24074150e+00],\n",
       "       [ 3.10313024e-02,  8.32970639e-01, -1.13026515e+00],\n",
       "       [-1.27094056e+00, -1.32103093e+00, -7.71217005e-01],\n",
       "       [-6.17035408e-01, -1.24000266e+00, -1.03359834e+00],\n",
       "       [ 3.49810063e-01, -9.42898996e-01, -1.11185242e+00],\n",
       "       [ 1.59456522e+00,  1.26512143e+00,  1.64085003e+00],\n",
       "       [ 9.93206022e-01, -9.90165488e-01, -1.00597925e+00]])"
      ]
     },
     "execution_count": 452,
     "metadata": {},
     "output_type": "execute_result"
    }
   ],
   "source": [
    "from sklearn.preprocessing import StandardScaler\n",
    "import numpy as np\n",
    "\n",
    "# 표준 스케일링 (표준정규분포 따르도록)\n",
    "scaler = StandardScaler()\n",
    "\n",
    "sales = np.array(advertising.loc[:,\"Sales\"])\n",
    "advertising = advertising.loc[:,[\"TV\", \"Radio\", \"Newspaper\"]]\n",
    "\n",
    "advertising = scaler.fit_transform(advertising)\n",
    "advertising"
   ]
  },
  {
   "cell_type": "markdown",
   "id": "9b138e8f",
   "metadata": {},
   "source": [
    "### 1.(d) 학습데이터와 테스트데이터를 4:1로 나누세요"
   ]
  },
  {
   "cell_type": "code",
   "execution_count": 453,
   "metadata": {},
   "outputs": [
    {
     "data": {
      "text/plain": [
       "(160,)"
      ]
     },
     "execution_count": 453,
     "metadata": {},
     "output_type": "execute_result"
    }
   ],
   "source": [
    "from sklearn.model_selection import train_test_split\n",
    "import numpy as np\n",
    "\n",
    "X_train, X_test, y_train, y_test = train_test_split(advertising, sales,test_size=0.2,random_state=1234)\n",
    "y_train.shape"
   ]
  },
  {
   "cell_type": "markdown",
   "id": "4d92508b",
   "metadata": {},
   "source": [
    "### 2.(a) 학습데이터를 통해 정규방정식를 통한 선형회귀를 수행하세요. "
   ]
  },
  {
   "cell_type": "code",
   "execution_count": 454,
   "id": "8c99208a",
   "metadata": {},
   "outputs": [
    {
     "data": {
      "text/plain": [
       "array([18.66276778, 10.34126748, 17.02664714, 16.53536081, 12.4448438 ,\n",
       "       21.15644462, 19.57058564, 10.92073978, 14.73445112, 17.55464266,\n",
       "       24.36509075, 18.93682852,  9.99557176,  7.96016874, 17.08331696,\n",
       "       14.27483165, 16.13836967, 21.26621204, 18.17506307, 19.66636447,\n",
       "       17.07481581,  8.9629038 , 17.31511818,  9.73770068,  8.81449982,\n",
       "       23.57297916, 12.08349484,  6.59841865, 19.70811591, 21.82033987,\n",
       "       18.26502449,  8.5192422 , 16.55604477, 21.1090306 , 13.12045908,\n",
       "       23.61947622, 13.88427134, 23.79324685, 20.90793983, 14.20646514,\n",
       "       10.79987667, 13.87711788, 11.96770598,  9.79592311,  9.87928983,\n",
       "       19.14739303, 23.17593416, 20.46275103,  9.50325694,  8.88644885,\n",
       "        5.43730355,  7.51366978,  8.14651027,  7.27250528,  7.34565127,\n",
       "       18.16033009, 12.70349327, 16.67093431, 12.53210915,  9.85220322,\n",
       "       11.07783718, 21.40544245, 17.43785449, 11.32596333, 10.93930709,\n",
       "       20.31585088, 16.35438753, 20.95477009, 13.95092498,  9.39335946,\n",
       "       20.55976007, 12.32757493, 18.35197363, 18.27718639, 21.3050117 ,\n",
       "       12.6324403 , 25.07323221, 21.4289868 , 17.20873481, 12.41343947,\n",
       "       13.61725845, 19.51909649,  8.16668206, 20.22163954,  6.23091488,\n",
       "        8.09700873, 13.24494399, 20.85379337,  7.26942774, 16.83981364,\n",
       "       11.04707709, 15.96685388, 21.19060829,  9.04937408, 14.89247865,\n",
       "       20.59412449, 11.6621342 , 20.33632254, 12.16477474, 24.7686082 ,\n",
       "       21.46269416, 21.4708061 , 17.44039296, 10.67704251, 18.3559039 ,\n",
       "       11.76195639, 18.88570314,  9.61997673, 17.95825353, 12.60240683,\n",
       "       16.72725989, 20.90404814, 15.78165771, 18.34162107, 17.31840461,\n",
       "       15.94252832, 10.43285188, 10.88199685, 15.15213411, 18.43570029,\n",
       "       14.47448748, 12.66861826,  7.96567838, 19.42010442,  9.8211804 ,\n",
       "       12.59762801, 10.5327981 , 15.29756767, 10.59281157, 17.43718114,\n",
       "       17.36320146, 10.43439692, 21.75953807, 19.30205736,  9.60553054,\n",
       "       10.15946465, 13.99913306,  6.49951091, 16.13644812, 25.00047506,\n",
       "        9.17714251, 11.71179368, 21.14919391, 15.92919708, 15.36888149,\n",
       "       15.66372656, 15.57514594, 20.861713  ,  9.28922808, 16.04889507,\n",
       "       23.80580678, 17.19405056, 19.05374613, 14.99234592, 11.18700193,\n",
       "       17.97078631, 13.91256106, 19.63399568,  9.93991541, 22.13718592])"
      ]
     },
     "execution_count": 454,
     "metadata": {},
     "output_type": "execute_result"
    }
   ],
   "source": [
    "n_train, n_test = X_train.shape[0], X_test.shape[0]\n",
    "\n",
    "X_train = np.append(np.ones((n_train, 1)), X_train, axis=1)\n",
    "w = np.linalg.inv(X_train.T @ X_train) @ X_train.T @ y_train     \n",
    "\n",
    "y_pred_train = X_train @ w\n",
    "y_pred_train "
   ]
  },
  {
   "cell_type": "markdown",
   "id": "a692b4af",
   "metadata": {},
   "source": [
    "### 2.(b) 테스트 데이터 셋에 대해 mean_absolute_error와 mean_squared_error를 계산하세요."
   ]
  },
  {
   "cell_type": "code",
   "execution_count": 455,
   "metadata": {},
   "outputs": [
    {
     "name": "stdout",
     "output_type": "stream",
     "text": [
      "테스트 데이터셋 MAE: 1.2825361296036224\n",
      "테스트 데이터셋 MSE: 3.025876484301782\n"
     ]
    }
   ],
   "source": [
    "import numpy as np  \n",
    "\n",
    "X_test = np.append(np.ones((n_test, 1)), X_test, axis=1)\n",
    "y_pred = X_test @ w    # 테스트 데이터의 예측값\n",
    "# MAE\n",
    "print('테스트 데이터셋 MAE:',np.abs(y_pred - y_test).mean())\n",
    "# MSE\n",
    "print('테스트 데이터셋 MSE:',((y_pred - y_test)**2).mean())"
   ]
  },
  {
   "cell_type": "markdown",
   "id": "faed9715",
   "metadata": {},
   "source": [
    "### 2.(c) 학습데이터를 통해 경사하강법을 통한 선형회귀를 수행하세요. "
   ]
  },
  {
   "cell_type": "code",
   "execution_count": 456,
   "metadata": {},
   "outputs": [
    {
     "data": {
      "text/plain": [
       "array([15.26480382,  4.68737506,  1.4924404 ,  0.08615097])"
      ]
     },
     "execution_count": 456,
     "metadata": {},
     "output_type": "execute_result"
    }
   ],
   "source": [
    "from sklearn.linear_model import SGDRegressor\n",
    "\n",
    "def gradient_descent(x, y, theta, alpha, numIterations):\n",
    "    xTrans    = x.transpose()   \n",
    "    cost_list = []\n",
    "    for i in range(0, numIterations): \n",
    "        hypothesis = np.dot(x, theta)   # 가설함수로 예측값 구하기\n",
    "        diff       = hypothesis - y     # 예측값과 실제값의 차이\n",
    "        loss       = np.sum(diff ** 2) / x.shape[0] # 손실함수\n",
    "        gradient   = np.dot(xTrans, diff)*2  / x.shape[0] # 그래디언트=손실함수의 미분(2, 1)\n",
    "\n",
    "        # 경사하강법으로 계수 업데이트\n",
    "        theta      = theta -alpha * gradient  # 경사하강법으로 계수 업데이트\n",
    "        if i% 250 == 0: \n",
    "            cost_list.append(loss)\n",
    "    return theta, cost_list     # 하이퍼파라미터, 손실값 리턴\n",
    "\n",
    "\n",
    "numIterations = 10000    # 하이퍼파라미터 업데이트 횟수 (많을수록 훈련데이터의 답 정확하게 예측)\n",
    "alpha         = 0.01  # 스텝 사이즈\n",
    "theta         = np.ones(X_train.shape[1]) # 초기 하이퍼 파라미터 (w)\n",
    "theta, cost_list = gradient_descent(X_train, y_train, theta, alpha, numIterations)\n",
    "theta"
   ]
  },
  {
   "cell_type": "markdown",
   "id": "6ef85720",
   "metadata": {},
   "source": [
    "### 2.(d) 테스트 데이터 셋에 대해 mean_absolute_error와 mean_squared_error를 계산하세요."
   ]
  },
  {
   "cell_type": "code",
   "execution_count": 457,
   "id": "7909c042",
   "metadata": {},
   "outputs": [
    {
     "name": "stdout",
     "output_type": "stream",
     "text": [
      "테스트 데이터셋 MAE: 1.2825361296036224\n",
      "테스트 데이터셋 MSE: 3.025876484301782\n"
     ]
    }
   ],
   "source": [
    "y_predict = np.dot(X_test, theta) # 테스트 데이터의 예측값\n",
    "\n",
    "print('테스트 데이터셋 MAE:', np.abs(y_pred - y_test).mean())\n",
    "print('테스트 데이터셋 MSE:',((y_pred - y_test)**2).mean())"
   ]
  },
  {
   "cell_type": "markdown",
   "id": "cb9d65f5",
   "metadata": {},
   "source": [
    "## 로지스틱 회귀 (survivied가 목적변수)"
   ]
  },
  {
   "cell_type": "markdown",
   "id": "88417f67",
   "metadata": {},
   "source": [
    "### 3.(a) train1.csv~train4.csv를 결합하세요. "
   ]
  },
  {
   "cell_type": "code",
   "execution_count": 458,
   "id": "7c6b82a9",
   "metadata": {},
   "outputs": [
    {
     "data": {
      "text/html": [
       "<div>\n",
       "<style scoped>\n",
       "    .dataframe tbody tr th:only-of-type {\n",
       "        vertical-align: middle;\n",
       "    }\n",
       "\n",
       "    .dataframe tbody tr th {\n",
       "        vertical-align: top;\n",
       "    }\n",
       "\n",
       "    .dataframe thead th {\n",
       "        text-align: right;\n",
       "    }\n",
       "</style>\n",
       "<table border=\"1\" class=\"dataframe\">\n",
       "  <thead>\n",
       "    <tr style=\"text-align: right;\">\n",
       "      <th></th>\n",
       "      <th>PassengerId</th>\n",
       "      <th>Survived</th>\n",
       "      <th>Pclass</th>\n",
       "      <th>Name</th>\n",
       "      <th>Sex</th>\n",
       "      <th>Age</th>\n",
       "      <th>SibSp</th>\n",
       "      <th>Parch</th>\n",
       "      <th>Ticket</th>\n",
       "      <th>Fare</th>\n",
       "      <th>Cabin</th>\n",
       "      <th>Embarked</th>\n",
       "    </tr>\n",
       "  </thead>\n",
       "  <tbody>\n",
       "    <tr>\n",
       "      <th>0</th>\n",
       "      <td>1</td>\n",
       "      <td>0.0</td>\n",
       "      <td>3.0</td>\n",
       "      <td>Braund, Mr. Owen Harris</td>\n",
       "      <td>male</td>\n",
       "      <td>22.0</td>\n",
       "      <td>1.0</td>\n",
       "      <td>NaN</td>\n",
       "      <td>NaN</td>\n",
       "      <td>NaN</td>\n",
       "      <td>NaN</td>\n",
       "      <td>NaN</td>\n",
       "    </tr>\n",
       "    <tr>\n",
       "      <th>1</th>\n",
       "      <td>2</td>\n",
       "      <td>1.0</td>\n",
       "      <td>1.0</td>\n",
       "      <td>Cumings, Mrs. John Bradley (Florence Briggs Th...</td>\n",
       "      <td>female</td>\n",
       "      <td>38.0</td>\n",
       "      <td>1.0</td>\n",
       "      <td>NaN</td>\n",
       "      <td>NaN</td>\n",
       "      <td>NaN</td>\n",
       "      <td>NaN</td>\n",
       "      <td>NaN</td>\n",
       "    </tr>\n",
       "    <tr>\n",
       "      <th>2</th>\n",
       "      <td>3</td>\n",
       "      <td>1.0</td>\n",
       "      <td>3.0</td>\n",
       "      <td>Heikkinen, Miss. Laina</td>\n",
       "      <td>female</td>\n",
       "      <td>26.0</td>\n",
       "      <td>0.0</td>\n",
       "      <td>NaN</td>\n",
       "      <td>NaN</td>\n",
       "      <td>NaN</td>\n",
       "      <td>NaN</td>\n",
       "      <td>NaN</td>\n",
       "    </tr>\n",
       "    <tr>\n",
       "      <th>3</th>\n",
       "      <td>4</td>\n",
       "      <td>1.0</td>\n",
       "      <td>1.0</td>\n",
       "      <td>Futrelle, Mrs. Jacques Heath (Lily May Peel)</td>\n",
       "      <td>female</td>\n",
       "      <td>35.0</td>\n",
       "      <td>1.0</td>\n",
       "      <td>NaN</td>\n",
       "      <td>NaN</td>\n",
       "      <td>NaN</td>\n",
       "      <td>NaN</td>\n",
       "      <td>NaN</td>\n",
       "    </tr>\n",
       "    <tr>\n",
       "      <th>4</th>\n",
       "      <td>5</td>\n",
       "      <td>0.0</td>\n",
       "      <td>3.0</td>\n",
       "      <td>Allen, Mr. William Henry</td>\n",
       "      <td>male</td>\n",
       "      <td>35.0</td>\n",
       "      <td>0.0</td>\n",
       "      <td>NaN</td>\n",
       "      <td>NaN</td>\n",
       "      <td>NaN</td>\n",
       "      <td>NaN</td>\n",
       "      <td>NaN</td>\n",
       "    </tr>\n",
       "    <tr>\n",
       "      <th>...</th>\n",
       "      <td>...</td>\n",
       "      <td>...</td>\n",
       "      <td>...</td>\n",
       "      <td>...</td>\n",
       "      <td>...</td>\n",
       "      <td>...</td>\n",
       "      <td>...</td>\n",
       "      <td>...</td>\n",
       "      <td>...</td>\n",
       "      <td>...</td>\n",
       "      <td>...</td>\n",
       "      <td>...</td>\n",
       "    </tr>\n",
       "    <tr>\n",
       "      <th>1777</th>\n",
       "      <td>887</td>\n",
       "      <td>NaN</td>\n",
       "      <td>NaN</td>\n",
       "      <td>NaN</td>\n",
       "      <td>NaN</td>\n",
       "      <td>NaN</td>\n",
       "      <td>NaN</td>\n",
       "      <td>0.0</td>\n",
       "      <td>211536</td>\n",
       "      <td>13.00</td>\n",
       "      <td>NaN</td>\n",
       "      <td>S</td>\n",
       "    </tr>\n",
       "    <tr>\n",
       "      <th>1778</th>\n",
       "      <td>888</td>\n",
       "      <td>NaN</td>\n",
       "      <td>NaN</td>\n",
       "      <td>NaN</td>\n",
       "      <td>NaN</td>\n",
       "      <td>NaN</td>\n",
       "      <td>NaN</td>\n",
       "      <td>0.0</td>\n",
       "      <td>112053</td>\n",
       "      <td>30.00</td>\n",
       "      <td>B42</td>\n",
       "      <td>S</td>\n",
       "    </tr>\n",
       "    <tr>\n",
       "      <th>1779</th>\n",
       "      <td>889</td>\n",
       "      <td>NaN</td>\n",
       "      <td>NaN</td>\n",
       "      <td>NaN</td>\n",
       "      <td>NaN</td>\n",
       "      <td>NaN</td>\n",
       "      <td>NaN</td>\n",
       "      <td>2.0</td>\n",
       "      <td>W./C. 6607</td>\n",
       "      <td>NaN</td>\n",
       "      <td>NaN</td>\n",
       "      <td>S</td>\n",
       "    </tr>\n",
       "    <tr>\n",
       "      <th>1780</th>\n",
       "      <td>890</td>\n",
       "      <td>NaN</td>\n",
       "      <td>NaN</td>\n",
       "      <td>NaN</td>\n",
       "      <td>NaN</td>\n",
       "      <td>NaN</td>\n",
       "      <td>NaN</td>\n",
       "      <td>0.0</td>\n",
       "      <td>111369</td>\n",
       "      <td>30.00</td>\n",
       "      <td>C148</td>\n",
       "      <td>C</td>\n",
       "    </tr>\n",
       "    <tr>\n",
       "      <th>1781</th>\n",
       "      <td>891</td>\n",
       "      <td>NaN</td>\n",
       "      <td>NaN</td>\n",
       "      <td>NaN</td>\n",
       "      <td>NaN</td>\n",
       "      <td>NaN</td>\n",
       "      <td>NaN</td>\n",
       "      <td>0.0</td>\n",
       "      <td>370376</td>\n",
       "      <td>7.75</td>\n",
       "      <td>NaN</td>\n",
       "      <td>Q</td>\n",
       "    </tr>\n",
       "  </tbody>\n",
       "</table>\n",
       "<p>1782 rows × 12 columns</p>\n",
       "</div>"
      ],
      "text/plain": [
       "      PassengerId  Survived  Pclass  \\\n",
       "0               1       0.0     3.0   \n",
       "1               2       1.0     1.0   \n",
       "2               3       1.0     3.0   \n",
       "3               4       1.0     1.0   \n",
       "4               5       0.0     3.0   \n",
       "...           ...       ...     ...   \n",
       "1777          887       NaN     NaN   \n",
       "1778          888       NaN     NaN   \n",
       "1779          889       NaN     NaN   \n",
       "1780          890       NaN     NaN   \n",
       "1781          891       NaN     NaN   \n",
       "\n",
       "                                                   Name     Sex   Age  SibSp  \\\n",
       "0                               Braund, Mr. Owen Harris    male  22.0    1.0   \n",
       "1     Cumings, Mrs. John Bradley (Florence Briggs Th...  female  38.0    1.0   \n",
       "2                                Heikkinen, Miss. Laina  female  26.0    0.0   \n",
       "3          Futrelle, Mrs. Jacques Heath (Lily May Peel)  female  35.0    1.0   \n",
       "4                              Allen, Mr. William Henry    male  35.0    0.0   \n",
       "...                                                 ...     ...   ...    ...   \n",
       "1777                                                NaN     NaN   NaN    NaN   \n",
       "1778                                                NaN     NaN   NaN    NaN   \n",
       "1779                                                NaN     NaN   NaN    NaN   \n",
       "1780                                                NaN     NaN   NaN    NaN   \n",
       "1781                                                NaN     NaN   NaN    NaN   \n",
       "\n",
       "      Parch      Ticket   Fare Cabin Embarked  \n",
       "0       NaN         NaN    NaN   NaN      NaN  \n",
       "1       NaN         NaN    NaN   NaN      NaN  \n",
       "2       NaN         NaN    NaN   NaN      NaN  \n",
       "3       NaN         NaN    NaN   NaN      NaN  \n",
       "4       NaN         NaN    NaN   NaN      NaN  \n",
       "...     ...         ...    ...   ...      ...  \n",
       "1777    0.0      211536  13.00   NaN        S  \n",
       "1778    0.0      112053  30.00   B42        S  \n",
       "1779    2.0  W./C. 6607    NaN   NaN        S  \n",
       "1780    0.0      111369  30.00  C148        C  \n",
       "1781    0.0      370376   7.75   NaN        Q  \n",
       "\n",
       "[1782 rows x 12 columns]"
      ]
     },
     "execution_count": 458,
     "metadata": {},
     "output_type": "execute_result"
    }
   ],
   "source": [
    "train1 = pd.read_csv('titanic/train1.csv')\n",
    "train2 = pd.read_csv('titanic/train2.csv')\n",
    "train3 = pd.read_csv('titanic/train3.csv')\n",
    "train4 = pd.read_csv('titanic/train4.csv')\n",
    "\n",
    "train = pd.concat([train1, train2, train3, train4], ignore_index=True)\n",
    "train"
   ]
  },
  {
   "attachments": {},
   "cell_type": "markdown",
   "id": "f8c6e42a",
   "metadata": {},
   "source": [
    "### 3.(b) cabin 피처는 삭제, Age의 결측치는 다른 Age의 평균값으로 대체,  Embarked의 결측치는 S로 대체, 피처중에서 object 타입의 피처는 삭제하세요."
   ]
  },
  {
   "cell_type": "code",
   "execution_count": 459,
   "id": "c9567df2",
   "metadata": {},
   "outputs": [
    {
     "name": "stdout",
     "output_type": "stream",
     "text": [
      "Name\n",
      "Sex\n",
      "Ticket\n",
      "Embarked\n"
     ]
    },
    {
     "data": {
      "text/html": [
       "<div>\n",
       "<style scoped>\n",
       "    .dataframe tbody tr th:only-of-type {\n",
       "        vertical-align: middle;\n",
       "    }\n",
       "\n",
       "    .dataframe tbody tr th {\n",
       "        vertical-align: top;\n",
       "    }\n",
       "\n",
       "    .dataframe thead th {\n",
       "        text-align: right;\n",
       "    }\n",
       "</style>\n",
       "<table border=\"1\" class=\"dataframe\">\n",
       "  <thead>\n",
       "    <tr style=\"text-align: right;\">\n",
       "      <th></th>\n",
       "      <th>PassengerId</th>\n",
       "      <th>Survived</th>\n",
       "      <th>Pclass</th>\n",
       "      <th>Age</th>\n",
       "      <th>SibSp</th>\n",
       "      <th>Parch</th>\n",
       "      <th>Fare</th>\n",
       "    </tr>\n",
       "  </thead>\n",
       "  <tbody>\n",
       "    <tr>\n",
       "      <th>0</th>\n",
       "      <td>1</td>\n",
       "      <td>0.0</td>\n",
       "      <td>3.0</td>\n",
       "      <td>22.000000</td>\n",
       "      <td>1.0</td>\n",
       "      <td>NaN</td>\n",
       "      <td>NaN</td>\n",
       "    </tr>\n",
       "    <tr>\n",
       "      <th>1</th>\n",
       "      <td>2</td>\n",
       "      <td>1.0</td>\n",
       "      <td>1.0</td>\n",
       "      <td>38.000000</td>\n",
       "      <td>1.0</td>\n",
       "      <td>NaN</td>\n",
       "      <td>NaN</td>\n",
       "    </tr>\n",
       "    <tr>\n",
       "      <th>2</th>\n",
       "      <td>3</td>\n",
       "      <td>1.0</td>\n",
       "      <td>3.0</td>\n",
       "      <td>26.000000</td>\n",
       "      <td>0.0</td>\n",
       "      <td>NaN</td>\n",
       "      <td>NaN</td>\n",
       "    </tr>\n",
       "    <tr>\n",
       "      <th>3</th>\n",
       "      <td>4</td>\n",
       "      <td>1.0</td>\n",
       "      <td>1.0</td>\n",
       "      <td>35.000000</td>\n",
       "      <td>1.0</td>\n",
       "      <td>NaN</td>\n",
       "      <td>NaN</td>\n",
       "    </tr>\n",
       "    <tr>\n",
       "      <th>4</th>\n",
       "      <td>5</td>\n",
       "      <td>0.0</td>\n",
       "      <td>3.0</td>\n",
       "      <td>35.000000</td>\n",
       "      <td>0.0</td>\n",
       "      <td>NaN</td>\n",
       "      <td>NaN</td>\n",
       "    </tr>\n",
       "    <tr>\n",
       "      <th>...</th>\n",
       "      <td>...</td>\n",
       "      <td>...</td>\n",
       "      <td>...</td>\n",
       "      <td>...</td>\n",
       "      <td>...</td>\n",
       "      <td>...</td>\n",
       "      <td>...</td>\n",
       "    </tr>\n",
       "    <tr>\n",
       "      <th>1777</th>\n",
       "      <td>887</td>\n",
       "      <td>NaN</td>\n",
       "      <td>NaN</td>\n",
       "      <td>29.699118</td>\n",
       "      <td>NaN</td>\n",
       "      <td>0.0</td>\n",
       "      <td>13.00</td>\n",
       "    </tr>\n",
       "    <tr>\n",
       "      <th>1778</th>\n",
       "      <td>888</td>\n",
       "      <td>NaN</td>\n",
       "      <td>NaN</td>\n",
       "      <td>29.699118</td>\n",
       "      <td>NaN</td>\n",
       "      <td>0.0</td>\n",
       "      <td>30.00</td>\n",
       "    </tr>\n",
       "    <tr>\n",
       "      <th>1779</th>\n",
       "      <td>889</td>\n",
       "      <td>NaN</td>\n",
       "      <td>NaN</td>\n",
       "      <td>29.699118</td>\n",
       "      <td>NaN</td>\n",
       "      <td>2.0</td>\n",
       "      <td>NaN</td>\n",
       "    </tr>\n",
       "    <tr>\n",
       "      <th>1780</th>\n",
       "      <td>890</td>\n",
       "      <td>NaN</td>\n",
       "      <td>NaN</td>\n",
       "      <td>29.699118</td>\n",
       "      <td>NaN</td>\n",
       "      <td>0.0</td>\n",
       "      <td>30.00</td>\n",
       "    </tr>\n",
       "    <tr>\n",
       "      <th>1781</th>\n",
       "      <td>891</td>\n",
       "      <td>NaN</td>\n",
       "      <td>NaN</td>\n",
       "      <td>29.699118</td>\n",
       "      <td>NaN</td>\n",
       "      <td>0.0</td>\n",
       "      <td>7.75</td>\n",
       "    </tr>\n",
       "  </tbody>\n",
       "</table>\n",
       "<p>1782 rows × 7 columns</p>\n",
       "</div>"
      ],
      "text/plain": [
       "      PassengerId  Survived  Pclass        Age  SibSp  Parch   Fare\n",
       "0               1       0.0     3.0  22.000000    1.0    NaN    NaN\n",
       "1               2       1.0     1.0  38.000000    1.0    NaN    NaN\n",
       "2               3       1.0     3.0  26.000000    0.0    NaN    NaN\n",
       "3               4       1.0     1.0  35.000000    1.0    NaN    NaN\n",
       "4               5       0.0     3.0  35.000000    0.0    NaN    NaN\n",
       "...           ...       ...     ...        ...    ...    ...    ...\n",
       "1777          887       NaN     NaN  29.699118    NaN    0.0  13.00\n",
       "1778          888       NaN     NaN  29.699118    NaN    0.0  30.00\n",
       "1779          889       NaN     NaN  29.699118    NaN    2.0    NaN\n",
       "1780          890       NaN     NaN  29.699118    NaN    0.0  30.00\n",
       "1781          891       NaN     NaN  29.699118    NaN    0.0   7.75\n",
       "\n",
       "[1782 rows x 7 columns]"
      ]
     },
     "execution_count": 459,
     "metadata": {},
     "output_type": "execute_result"
    }
   ],
   "source": [
    "train = train.drop(columns=['Cabin'])\n",
    "train['Age'] = train['Age'].fillna(train['Age'].mean())\n",
    "train['Embarked'] = train['Embarked'].fillna('S')\n",
    "\n",
    "for col in train.columns:\n",
    "    if train[col].dtype == 'object':\n",
    "        print(col)\n",
    "        train = train.drop(columns=[col])\n",
    "\n",
    "train"
   ]
  },
  {
   "cell_type": "markdown",
   "id": "f95901f4",
   "metadata": {},
   "source": [
    "### 3. (c) Survived, Pclass, SibSP는 결측치를 갖는 데이터를 제거하고 Parch와 Fare 피처는 제거하세요."
   ]
  },
  {
   "cell_type": "code",
   "execution_count": 460,
   "id": "be9a8b17",
   "metadata": {},
   "outputs": [
    {
     "name": "stdout",
     "output_type": "stream",
     "text": [
      "Index([ 891,  892,  893,  894,  895,  896,  897,  898,  899,  900,\n",
      "       ...\n",
      "       1772, 1773, 1774, 1775, 1776, 1777, 1778, 1779, 1780, 1781],\n",
      "      dtype='int64', length=891)\n"
     ]
    },
    {
     "data": {
      "text/html": [
       "<div>\n",
       "<style scoped>\n",
       "    .dataframe tbody tr th:only-of-type {\n",
       "        vertical-align: middle;\n",
       "    }\n",
       "\n",
       "    .dataframe tbody tr th {\n",
       "        vertical-align: top;\n",
       "    }\n",
       "\n",
       "    .dataframe thead th {\n",
       "        text-align: right;\n",
       "    }\n",
       "</style>\n",
       "<table border=\"1\" class=\"dataframe\">\n",
       "  <thead>\n",
       "    <tr style=\"text-align: right;\">\n",
       "      <th></th>\n",
       "      <th>PassengerId</th>\n",
       "      <th>Survived</th>\n",
       "      <th>Pclass</th>\n",
       "      <th>Age</th>\n",
       "      <th>SibSp</th>\n",
       "    </tr>\n",
       "  </thead>\n",
       "  <tbody>\n",
       "    <tr>\n",
       "      <th>0</th>\n",
       "      <td>1</td>\n",
       "      <td>0.0</td>\n",
       "      <td>3.0</td>\n",
       "      <td>22.000000</td>\n",
       "      <td>1.0</td>\n",
       "    </tr>\n",
       "    <tr>\n",
       "      <th>1</th>\n",
       "      <td>2</td>\n",
       "      <td>1.0</td>\n",
       "      <td>1.0</td>\n",
       "      <td>38.000000</td>\n",
       "      <td>1.0</td>\n",
       "    </tr>\n",
       "    <tr>\n",
       "      <th>2</th>\n",
       "      <td>3</td>\n",
       "      <td>1.0</td>\n",
       "      <td>3.0</td>\n",
       "      <td>26.000000</td>\n",
       "      <td>0.0</td>\n",
       "    </tr>\n",
       "    <tr>\n",
       "      <th>3</th>\n",
       "      <td>4</td>\n",
       "      <td>1.0</td>\n",
       "      <td>1.0</td>\n",
       "      <td>35.000000</td>\n",
       "      <td>1.0</td>\n",
       "    </tr>\n",
       "    <tr>\n",
       "      <th>4</th>\n",
       "      <td>5</td>\n",
       "      <td>0.0</td>\n",
       "      <td>3.0</td>\n",
       "      <td>35.000000</td>\n",
       "      <td>0.0</td>\n",
       "    </tr>\n",
       "    <tr>\n",
       "      <th>...</th>\n",
       "      <td>...</td>\n",
       "      <td>...</td>\n",
       "      <td>...</td>\n",
       "      <td>...</td>\n",
       "      <td>...</td>\n",
       "    </tr>\n",
       "    <tr>\n",
       "      <th>886</th>\n",
       "      <td>887</td>\n",
       "      <td>0.0</td>\n",
       "      <td>2.0</td>\n",
       "      <td>27.000000</td>\n",
       "      <td>0.0</td>\n",
       "    </tr>\n",
       "    <tr>\n",
       "      <th>887</th>\n",
       "      <td>888</td>\n",
       "      <td>1.0</td>\n",
       "      <td>1.0</td>\n",
       "      <td>19.000000</td>\n",
       "      <td>0.0</td>\n",
       "    </tr>\n",
       "    <tr>\n",
       "      <th>888</th>\n",
       "      <td>889</td>\n",
       "      <td>0.0</td>\n",
       "      <td>3.0</td>\n",
       "      <td>29.699118</td>\n",
       "      <td>1.0</td>\n",
       "    </tr>\n",
       "    <tr>\n",
       "      <th>889</th>\n",
       "      <td>890</td>\n",
       "      <td>1.0</td>\n",
       "      <td>1.0</td>\n",
       "      <td>26.000000</td>\n",
       "      <td>0.0</td>\n",
       "    </tr>\n",
       "    <tr>\n",
       "      <th>890</th>\n",
       "      <td>891</td>\n",
       "      <td>0.0</td>\n",
       "      <td>3.0</td>\n",
       "      <td>32.000000</td>\n",
       "      <td>0.0</td>\n",
       "    </tr>\n",
       "  </tbody>\n",
       "</table>\n",
       "<p>891 rows × 5 columns</p>\n",
       "</div>"
      ],
      "text/plain": [
       "     PassengerId  Survived  Pclass        Age  SibSp\n",
       "0              1       0.0     3.0  22.000000    1.0\n",
       "1              2       1.0     1.0  38.000000    1.0\n",
       "2              3       1.0     3.0  26.000000    0.0\n",
       "3              4       1.0     1.0  35.000000    1.0\n",
       "4              5       0.0     3.0  35.000000    0.0\n",
       "..           ...       ...     ...        ...    ...\n",
       "886          887       0.0     2.0  27.000000    0.0\n",
       "887          888       1.0     1.0  19.000000    0.0\n",
       "888          889       0.0     3.0  29.699118    1.0\n",
       "889          890       1.0     1.0  26.000000    0.0\n",
       "890          891       0.0     3.0  32.000000    0.0\n",
       "\n",
       "[891 rows x 5 columns]"
      ]
     },
     "execution_count": 460,
     "metadata": {},
     "output_type": "execute_result"
    }
   ],
   "source": [
    "train = train.drop(columns=['Parch', 'Fare'])\n",
    "\n",
    "missing_rows = train[train['Survived'].isnull() | train['Pclass'].isnull() | train['SibSp'].isnull()].index\n",
    "print(missing_rows)\n",
    "\n",
    "train = train.drop(missing_rows)\n",
    "train"
   ]
  },
  {
   "cell_type": "markdown",
   "id": "668caf7a",
   "metadata": {},
   "source": [
    "### 4.(a) 학습 데이터와 테스트 데이터를 3:1로 나누세요."
   ]
  },
  {
   "cell_type": "code",
   "execution_count": 461,
   "id": "ac881143",
   "metadata": {},
   "outputs": [
    {
     "data": {
      "text/plain": [
       "((891,), (891, 4))"
      ]
     },
     "execution_count": 461,
     "metadata": {},
     "output_type": "execute_result"
    }
   ],
   "source": [
    "survived = np.array(train.loc[:,\"Survived\"])\n",
    "train = train.drop(columns=\"Survived\")\n",
    "survived.shape, train.shape"
   ]
  },
  {
   "cell_type": "code",
   "execution_count": 462,
   "id": "317474bd",
   "metadata": {},
   "outputs": [
    {
     "data": {
      "text/plain": [
       "(668, 4)"
      ]
     },
     "execution_count": 462,
     "metadata": {},
     "output_type": "execute_result"
    }
   ],
   "source": [
    "X_train, X_test, y_train, y_test = train_test_split(train, survived,test_size=0.25,random_state=1234)\n",
    "# reshape 필수 (클래스 사용 안할 경우)\n",
    "y_train, y_test = y_train.reshape(-1, 1), y_test.reshape(-1, 1)\n",
    "X_train.shape"
   ]
  },
  {
   "cell_type": "markdown",
   "id": "1094c924",
   "metadata": {},
   "source": [
    "### 4.(b) survived에 대해 로지스틱 회귀를 적용하세요."
   ]
  },
  {
   "cell_type": "code",
   "execution_count": 463,
   "id": "ec0e6a75",
   "metadata": {},
   "outputs": [
    {
     "name": "stderr",
     "output_type": "stream",
     "text": [
      "/opt/homebrew/lib/python3.11/site-packages/sklearn/utils/validation.py:767: FutureWarning: is_sparse is deprecated and will be removed in a future version. Check `isinstance(dtype, pd.SparseDtype)` instead.\n",
      "  if not hasattr(array, \"sparse\") and array.dtypes.apply(is_sparse).any():\n",
      "/opt/homebrew/lib/python3.11/site-packages/sklearn/utils/validation.py:605: FutureWarning: is_sparse is deprecated and will be removed in a future version. Check `isinstance(dtype, pd.SparseDtype)` instead.\n",
      "  if is_sparse(pd_dtype):\n",
      "/opt/homebrew/lib/python3.11/site-packages/sklearn/utils/validation.py:614: FutureWarning: is_sparse is deprecated and will be removed in a future version. Check `isinstance(dtype, pd.SparseDtype)` instead.\n",
      "  if is_sparse(pd_dtype) or not is_extension_array_dtype(pd_dtype):\n",
      "/opt/homebrew/lib/python3.11/site-packages/sklearn/utils/validation.py:1143: DataConversionWarning: A column-vector y was passed when a 1d array was expected. Please change the shape of y to (n_samples, ), for example using ravel().\n",
      "  y = column_or_1d(y, warn=True)\n",
      "/opt/homebrew/lib/python3.11/site-packages/sklearn/utils/validation.py:767: FutureWarning: is_sparse is deprecated and will be removed in a future version. Check `isinstance(dtype, pd.SparseDtype)` instead.\n",
      "  if not hasattr(array, \"sparse\") and array.dtypes.apply(is_sparse).any():\n",
      "/opt/homebrew/lib/python3.11/site-packages/sklearn/utils/validation.py:605: FutureWarning: is_sparse is deprecated and will be removed in a future version. Check `isinstance(dtype, pd.SparseDtype)` instead.\n",
      "  if is_sparse(pd_dtype):\n",
      "/opt/homebrew/lib/python3.11/site-packages/sklearn/utils/validation.py:614: FutureWarning: is_sparse is deprecated and will be removed in a future version. Check `isinstance(dtype, pd.SparseDtype)` instead.\n",
      "  if is_sparse(pd_dtype) or not is_extension_array_dtype(pd_dtype):\n"
     ]
    },
    {
     "data": {
      "text/plain": [
       "array([1., 0., 0., 0., 1., 0., 1., 0., 0., 0., 0., 0., 0., 0., 0., 0., 0.,\n",
       "       0., 0., 0., 0., 1., 1., 0., 0., 0., 0., 1., 0., 0., 0., 1., 0., 1.,\n",
       "       1., 1., 0., 0., 0., 0., 0., 1., 1., 0., 0., 1., 0., 0., 0., 1., 1.,\n",
       "       0., 0., 0., 0., 1., 0., 0., 1., 0., 0., 0., 1., 0., 0., 1., 0., 0.,\n",
       "       0., 0., 0., 0., 0., 0., 0., 0., 1., 0., 0., 0., 0., 0., 0., 0., 0.,\n",
       "       1., 0., 0., 1., 0., 0., 0., 1., 0., 1., 0., 0., 1., 0., 0., 0., 1.,\n",
       "       0., 0., 0., 0., 0., 0., 1., 1., 0., 0., 0., 0., 0., 1., 0., 1., 0.,\n",
       "       1., 0., 0., 0., 1., 0., 0., 0., 0., 1., 0., 0., 0., 0., 0., 0., 0.,\n",
       "       0., 0., 1., 0., 1., 0., 0., 0., 0., 0., 0., 0., 0., 1., 0., 1., 0.,\n",
       "       0., 1., 0., 0., 0., 1., 0., 0., 1., 0., 1., 0., 0., 1., 0., 0., 0.,\n",
       "       0., 0., 1., 0., 0., 0., 0., 0., 0., 0., 1., 0., 0., 0., 0., 1., 0.,\n",
       "       1., 0., 0., 0., 0., 0., 0., 0., 0., 0., 0., 0., 1., 0., 0., 0., 0.,\n",
       "       0., 0., 1., 1., 0., 0., 0., 0., 0., 0., 1., 1., 0., 1., 1., 0., 0.,\n",
       "       1., 1.])"
      ]
     },
     "execution_count": 463,
     "metadata": {},
     "output_type": "execute_result"
    }
   ],
   "source": [
    "from sklearn.linear_model import LogisticRegression\n",
    "\n",
    "############ logisticregression으로 학습 및 예측\n",
    "\n",
    "clf = LogisticRegression()\n",
    "clf = clf.fit(X_train, y_train)\n",
    "\n",
    "y_pred = clf.predict(X_test)\n",
    "y_pred"
   ]
  },
  {
   "cell_type": "markdown",
   "id": "ebcefa5f",
   "metadata": {},
   "source": [
    "### 4.(c) 테스트 데이터셋에 대해 예측 정확도를 계산하세요."
   ]
  },
  {
   "cell_type": "code",
   "execution_count": 464,
   "id": "9782c93d",
   "metadata": {},
   "outputs": [
    {
     "name": "stdout",
     "output_type": "stream",
     "text": [
      "정확도: 54.66%\n"
     ]
    },
    {
     "name": "stderr",
     "output_type": "stream",
     "text": [
      "/opt/homebrew/lib/python3.11/site-packages/sklearn/utils/validation.py:767: FutureWarning: is_sparse is deprecated and will be removed in a future version. Check `isinstance(dtype, pd.SparseDtype)` instead.\n",
      "  if not hasattr(array, \"sparse\") and array.dtypes.apply(is_sparse).any():\n",
      "/opt/homebrew/lib/python3.11/site-packages/sklearn/utils/validation.py:605: FutureWarning: is_sparse is deprecated and will be removed in a future version. Check `isinstance(dtype, pd.SparseDtype)` instead.\n",
      "  if is_sparse(pd_dtype):\n",
      "/opt/homebrew/lib/python3.11/site-packages/sklearn/utils/validation.py:614: FutureWarning: is_sparse is deprecated and will be removed in a future version. Check `isinstance(dtype, pd.SparseDtype)` instead.\n",
      "  if is_sparse(pd_dtype) or not is_extension_array_dtype(pd_dtype):\n"
     ]
    }
   ],
   "source": [
    "y_pred = clf.predict(X_test)\n",
    "\n",
    "print(f'정확도:{(y_test == y_pred).mean() * 100: .2f}%')"
   ]
  },
  {
   "cell_type": "markdown",
   "id": "83d703e1",
   "metadata": {},
   "source": [
    "### 4.(d) 선형 모델의 계수들과 절편값을 확인하세요."
   ]
  },
  {
   "cell_type": "code",
   "execution_count": 465,
   "id": "e718c7f0",
   "metadata": {},
   "outputs": [
    {
     "name": "stdout",
     "output_type": "stream",
     "text": [
      "절편: 3.306289882021942\n",
      "계수: [-9.47140734e-05 -1.10316878e+00 -4.14196723e-02 -1.33671079e-01]\n"
     ]
    }
   ],
   "source": [
    "print(f'절편: {clf.intercept_[0]}')\n",
    "print(f'계수: {clf.coef_[0]}')"
   ]
  },
  {
   "cell_type": "markdown",
   "id": "3dff6606",
   "metadata": {},
   "source": [
    "## 라쏘회귀 (당뇨데이터 활용, diabete)"
   ]
  },
  {
   "cell_type": "code",
   "execution_count": 466,
   "id": "40adb501",
   "metadata": {},
   "outputs": [],
   "source": [
    "from sklearn.linear_model import LassoCV, Lasso\n",
    "from sklearn.pipeline import Pipeline"
   ]
  },
  {
   "cell_type": "markdown",
   "id": "8ced7f18",
   "metadata": {},
   "source": [
    "### 5.(a) 당뇨 데이터를 데이터프레임 형태로 불러와서, 2:1로 학습데이터와 테스트 데이터로 나누세요."
   ]
  },
  {
   "cell_type": "code",
   "execution_count": 467,
   "id": "27196b47",
   "metadata": {},
   "outputs": [],
   "source": [
    "from sklearn.datasets import load_diabetes\n",
    "\n",
    "X, y = load_diabetes(as_frame=True, return_X_y=True)\n",
    "\n",
    "X_train, X_test, y_train, y_test = train_test_split(X, y, test_size=1/3,random_state=1234)"
   ]
  },
  {
   "cell_type": "markdown",
   "id": "41171ba7",
   "metadata": {},
   "source": [
    "### 5.(b) Standardscaler와 LassoCV를 pipeline 객체로 생성하세요. (LassoCV의 교차검증은 5회, alpha 값은 1이상 100 이하의 정수들로 하세요.)"
   ]
  },
  {
   "cell_type": "code",
   "execution_count": 468,
   "id": "f640314c",
   "metadata": {},
   "outputs": [
    {
     "data": {
      "text/html": [
       "<style>#sk-container-id-2 {color: black;background-color: white;}#sk-container-id-2 pre{padding: 0;}#sk-container-id-2 div.sk-toggleable {background-color: white;}#sk-container-id-2 label.sk-toggleable__label {cursor: pointer;display: block;width: 100%;margin-bottom: 0;padding: 0.3em;box-sizing: border-box;text-align: center;}#sk-container-id-2 label.sk-toggleable__label-arrow:before {content: \"▸\";float: left;margin-right: 0.25em;color: #696969;}#sk-container-id-2 label.sk-toggleable__label-arrow:hover:before {color: black;}#sk-container-id-2 div.sk-estimator:hover label.sk-toggleable__label-arrow:before {color: black;}#sk-container-id-2 div.sk-toggleable__content {max-height: 0;max-width: 0;overflow: hidden;text-align: left;background-color: #f0f8ff;}#sk-container-id-2 div.sk-toggleable__content pre {margin: 0.2em;color: black;border-radius: 0.25em;background-color: #f0f8ff;}#sk-container-id-2 input.sk-toggleable__control:checked~div.sk-toggleable__content {max-height: 200px;max-width: 100%;overflow: auto;}#sk-container-id-2 input.sk-toggleable__control:checked~label.sk-toggleable__label-arrow:before {content: \"▾\";}#sk-container-id-2 div.sk-estimator input.sk-toggleable__control:checked~label.sk-toggleable__label {background-color: #d4ebff;}#sk-container-id-2 div.sk-label input.sk-toggleable__control:checked~label.sk-toggleable__label {background-color: #d4ebff;}#sk-container-id-2 input.sk-hidden--visually {border: 0;clip: rect(1px 1px 1px 1px);clip: rect(1px, 1px, 1px, 1px);height: 1px;margin: -1px;overflow: hidden;padding: 0;position: absolute;width: 1px;}#sk-container-id-2 div.sk-estimator {font-family: monospace;background-color: #f0f8ff;border: 1px dotted black;border-radius: 0.25em;box-sizing: border-box;margin-bottom: 0.5em;}#sk-container-id-2 div.sk-estimator:hover {background-color: #d4ebff;}#sk-container-id-2 div.sk-parallel-item::after {content: \"\";width: 100%;border-bottom: 1px solid gray;flex-grow: 1;}#sk-container-id-2 div.sk-label:hover label.sk-toggleable__label {background-color: #d4ebff;}#sk-container-id-2 div.sk-serial::before {content: \"\";position: absolute;border-left: 1px solid gray;box-sizing: border-box;top: 0;bottom: 0;left: 50%;z-index: 0;}#sk-container-id-2 div.sk-serial {display: flex;flex-direction: column;align-items: center;background-color: white;padding-right: 0.2em;padding-left: 0.2em;position: relative;}#sk-container-id-2 div.sk-item {position: relative;z-index: 1;}#sk-container-id-2 div.sk-parallel {display: flex;align-items: stretch;justify-content: center;background-color: white;position: relative;}#sk-container-id-2 div.sk-item::before, #sk-container-id-2 div.sk-parallel-item::before {content: \"\";position: absolute;border-left: 1px solid gray;box-sizing: border-box;top: 0;bottom: 0;left: 50%;z-index: -1;}#sk-container-id-2 div.sk-parallel-item {display: flex;flex-direction: column;z-index: 1;position: relative;background-color: white;}#sk-container-id-2 div.sk-parallel-item:first-child::after {align-self: flex-end;width: 50%;}#sk-container-id-2 div.sk-parallel-item:last-child::after {align-self: flex-start;width: 50%;}#sk-container-id-2 div.sk-parallel-item:only-child::after {width: 0;}#sk-container-id-2 div.sk-dashed-wrapped {border: 1px dashed gray;margin: 0 0.4em 0.5em 0.4em;box-sizing: border-box;padding-bottom: 0.4em;background-color: white;}#sk-container-id-2 div.sk-label label {font-family: monospace;font-weight: bold;display: inline-block;line-height: 1.2em;}#sk-container-id-2 div.sk-label-container {text-align: center;}#sk-container-id-2 div.sk-container {/* jupyter's `normalize.less` sets `[hidden] { display: none; }` but bootstrap.min.css set `[hidden] { display: none !important; }` so we also need the `!important` here to be able to override the default hidden behavior on the sphinx rendered scikit-learn.org. See: https://github.com/scikit-learn/scikit-learn/issues/21755 */display: inline-block !important;position: relative;}#sk-container-id-2 div.sk-text-repr-fallback {display: none;}</style><div id=\"sk-container-id-2\" class=\"sk-top-container\"><div class=\"sk-text-repr-fallback\"><pre>Pipeline(steps=[(&#x27;scaler&#x27;, StandardScaler()),\n",
       "                (&#x27;reg&#x27;,\n",
       "                 LassoCV(alphas=array([  1,   2,   3,   4,   5,   6,   7,   8,   9,  10,  11,  12,  13,\n",
       "        14,  15,  16,  17,  18,  19,  20,  21,  22,  23,  24,  25,  26,\n",
       "        27,  28,  29,  30,  31,  32,  33,  34,  35,  36,  37,  38,  39,\n",
       "        40,  41,  42,  43,  44,  45,  46,  47,  48,  49,  50,  51,  52,\n",
       "        53,  54,  55,  56,  57,  58,  59,  60,  61,  62,  63,  64,  65,\n",
       "        66,  67,  68,  69,  70,  71,  72,  73,  74,  75,  76,  77,  78,\n",
       "        79,  80,  81,  82,  83,  84,  85,  86,  87,  88,  89,  90,  91,\n",
       "        92,  93,  94,  95,  96,  97,  98,  99, 100]),\n",
       "                         cv=5))])</pre><b>In a Jupyter environment, please rerun this cell to show the HTML representation or trust the notebook. <br />On GitHub, the HTML representation is unable to render, please try loading this page with nbviewer.org.</b></div><div class=\"sk-container\" hidden><div class=\"sk-item sk-dashed-wrapped\"><div class=\"sk-label-container\"><div class=\"sk-label sk-toggleable\"><input class=\"sk-toggleable__control sk-hidden--visually\" id=\"sk-estimator-id-4\" type=\"checkbox\" ><label for=\"sk-estimator-id-4\" class=\"sk-toggleable__label sk-toggleable__label-arrow\">Pipeline</label><div class=\"sk-toggleable__content\"><pre>Pipeline(steps=[(&#x27;scaler&#x27;, StandardScaler()),\n",
       "                (&#x27;reg&#x27;,\n",
       "                 LassoCV(alphas=array([  1,   2,   3,   4,   5,   6,   7,   8,   9,  10,  11,  12,  13,\n",
       "        14,  15,  16,  17,  18,  19,  20,  21,  22,  23,  24,  25,  26,\n",
       "        27,  28,  29,  30,  31,  32,  33,  34,  35,  36,  37,  38,  39,\n",
       "        40,  41,  42,  43,  44,  45,  46,  47,  48,  49,  50,  51,  52,\n",
       "        53,  54,  55,  56,  57,  58,  59,  60,  61,  62,  63,  64,  65,\n",
       "        66,  67,  68,  69,  70,  71,  72,  73,  74,  75,  76,  77,  78,\n",
       "        79,  80,  81,  82,  83,  84,  85,  86,  87,  88,  89,  90,  91,\n",
       "        92,  93,  94,  95,  96,  97,  98,  99, 100]),\n",
       "                         cv=5))])</pre></div></div></div><div class=\"sk-serial\"><div class=\"sk-item\"><div class=\"sk-estimator sk-toggleable\"><input class=\"sk-toggleable__control sk-hidden--visually\" id=\"sk-estimator-id-5\" type=\"checkbox\" ><label for=\"sk-estimator-id-5\" class=\"sk-toggleable__label sk-toggleable__label-arrow\">StandardScaler</label><div class=\"sk-toggleable__content\"><pre>StandardScaler()</pre></div></div></div><div class=\"sk-item\"><div class=\"sk-estimator sk-toggleable\"><input class=\"sk-toggleable__control sk-hidden--visually\" id=\"sk-estimator-id-6\" type=\"checkbox\" ><label for=\"sk-estimator-id-6\" class=\"sk-toggleable__label sk-toggleable__label-arrow\">LassoCV</label><div class=\"sk-toggleable__content\"><pre>LassoCV(alphas=array([  1,   2,   3,   4,   5,   6,   7,   8,   9,  10,  11,  12,  13,\n",
       "        14,  15,  16,  17,  18,  19,  20,  21,  22,  23,  24,  25,  26,\n",
       "        27,  28,  29,  30,  31,  32,  33,  34,  35,  36,  37,  38,  39,\n",
       "        40,  41,  42,  43,  44,  45,  46,  47,  48,  49,  50,  51,  52,\n",
       "        53,  54,  55,  56,  57,  58,  59,  60,  61,  62,  63,  64,  65,\n",
       "        66,  67,  68,  69,  70,  71,  72,  73,  74,  75,  76,  77,  78,\n",
       "        79,  80,  81,  82,  83,  84,  85,  86,  87,  88,  89,  90,  91,\n",
       "        92,  93,  94,  95,  96,  97,  98,  99, 100]),\n",
       "        cv=5)</pre></div></div></div></div></div></div></div>"
      ],
      "text/plain": [
       "Pipeline(steps=[('scaler', StandardScaler()),\n",
       "                ('reg',\n",
       "                 LassoCV(alphas=array([  1,   2,   3,   4,   5,   6,   7,   8,   9,  10,  11,  12,  13,\n",
       "        14,  15,  16,  17,  18,  19,  20,  21,  22,  23,  24,  25,  26,\n",
       "        27,  28,  29,  30,  31,  32,  33,  34,  35,  36,  37,  38,  39,\n",
       "        40,  41,  42,  43,  44,  45,  46,  47,  48,  49,  50,  51,  52,\n",
       "        53,  54,  55,  56,  57,  58,  59,  60,  61,  62,  63,  64,  65,\n",
       "        66,  67,  68,  69,  70,  71,  72,  73,  74,  75,  76,  77,  78,\n",
       "        79,  80,  81,  82,  83,  84,  85,  86,  87,  88,  89,  90,  91,\n",
       "        92,  93,  94,  95,  96,  97,  98,  99, 100]),\n",
       "                         cv=5))])"
      ]
     },
     "execution_count": 468,
     "metadata": {},
     "output_type": "execute_result"
    }
   ],
   "source": [
    "scaler = StandardScaler()\n",
    "reg    = LassoCV(alphas=np.arange(1,101),cv=5)\n",
    "pipe   = Pipeline(steps=[(\"scaler\", scaler), (\"reg\", reg)])\n",
    "pipe"
   ]
  },
  {
   "cell_type": "markdown",
   "id": "a4c5f8b2",
   "metadata": {},
   "source": [
    "### 6.(a) 당뇨데이터의 age,sex,bmi,bp 피처에 대해서만, pipeline 객체를 통해서 라쏘회귀를 진행하세요."
   ]
  },
  {
   "cell_type": "code",
   "execution_count": 469,
   "id": "58a12de5",
   "metadata": {},
   "outputs": [
    {
     "name": "stderr",
     "output_type": "stream",
     "text": [
      "/opt/homebrew/lib/python3.11/site-packages/sklearn/utils/validation.py:767: FutureWarning: is_sparse is deprecated and will be removed in a future version. Check `isinstance(dtype, pd.SparseDtype)` instead.\n",
      "  if not hasattr(array, \"sparse\") and array.dtypes.apply(is_sparse).any():\n",
      "/opt/homebrew/lib/python3.11/site-packages/sklearn/utils/validation.py:605: FutureWarning: is_sparse is deprecated and will be removed in a future version. Check `isinstance(dtype, pd.SparseDtype)` instead.\n",
      "  if is_sparse(pd_dtype):\n",
      "/opt/homebrew/lib/python3.11/site-packages/sklearn/utils/validation.py:614: FutureWarning: is_sparse is deprecated and will be removed in a future version. Check `isinstance(dtype, pd.SparseDtype)` instead.\n",
      "  if is_sparse(pd_dtype) or not is_extension_array_dtype(pd_dtype):\n",
      "/opt/homebrew/lib/python3.11/site-packages/sklearn/utils/validation.py:767: FutureWarning: is_sparse is deprecated and will be removed in a future version. Check `isinstance(dtype, pd.SparseDtype)` instead.\n",
      "  if not hasattr(array, \"sparse\") and array.dtypes.apply(is_sparse).any():\n",
      "/opt/homebrew/lib/python3.11/site-packages/sklearn/utils/validation.py:605: FutureWarning: is_sparse is deprecated and will be removed in a future version. Check `isinstance(dtype, pd.SparseDtype)` instead.\n",
      "  if is_sparse(pd_dtype):\n",
      "/opt/homebrew/lib/python3.11/site-packages/sklearn/utils/validation.py:614: FutureWarning: is_sparse is deprecated and will be removed in a future version. Check `isinstance(dtype, pd.SparseDtype)` instead.\n",
      "  if is_sparse(pd_dtype) or not is_extension_array_dtype(pd_dtype):\n",
      "/opt/homebrew/lib/python3.11/site-packages/sklearn/utils/validation.py:605: FutureWarning: is_sparse is deprecated and will be removed in a future version. Check `isinstance(dtype, pd.SparseDtype)` instead.\n",
      "  if is_sparse(pd_dtype):\n",
      "/opt/homebrew/lib/python3.11/site-packages/sklearn/utils/validation.py:614: FutureWarning: is_sparse is deprecated and will be removed in a future version. Check `isinstance(dtype, pd.SparseDtype)` instead.\n",
      "  if is_sparse(pd_dtype) or not is_extension_array_dtype(pd_dtype):\n",
      "/opt/homebrew/lib/python3.11/site-packages/sklearn/utils/validation.py:767: FutureWarning: is_sparse is deprecated and will be removed in a future version. Check `isinstance(dtype, pd.SparseDtype)` instead.\n",
      "  if not hasattr(array, \"sparse\") and array.dtypes.apply(is_sparse).any():\n",
      "/opt/homebrew/lib/python3.11/site-packages/sklearn/utils/validation.py:605: FutureWarning: is_sparse is deprecated and will be removed in a future version. Check `isinstance(dtype, pd.SparseDtype)` instead.\n",
      "  if is_sparse(pd_dtype):\n",
      "/opt/homebrew/lib/python3.11/site-packages/sklearn/utils/validation.py:614: FutureWarning: is_sparse is deprecated and will be removed in a future version. Check `isinstance(dtype, pd.SparseDtype)` instead.\n",
      "  if is_sparse(pd_dtype) or not is_extension_array_dtype(pd_dtype):\n"
     ]
    },
    {
     "data": {
      "text/plain": [
       "array([146.51110715, 162.25824225, 111.52429588, 261.08438646,\n",
       "       223.27018304, 149.5733413 , 137.8512549 , 197.9512194 ,\n",
       "        93.64610555, 106.28214438,  89.90299159, 150.20306183,\n",
       "       186.12465241, 244.37923541, 131.33909484, 208.73634573,\n",
       "       131.35412116, 146.09983484, 113.36738545,  95.19295913,\n",
       "       190.45542104, 191.52694809, 147.90344997, 143.40426157,\n",
       "       175.82394564, 227.85503077, 192.83850313, 177.71294113,\n",
       "       159.94958772, 125.55511156, 102.28011033,  45.13934815,\n",
       "        88.8925844 , 206.28598608,  77.13106907, 122.853301  ,\n",
       "       124.57362831, 105.48905282, 150.59541109, 163.27601583,\n",
       "       138.43563371,  78.61516292,  72.88088532,  98.33507709,\n",
       "       129.48461119, 185.10539672, 111.84772808, 174.35610697,\n",
       "       112.42596656, 115.38583317, 121.07499767, 229.04657201,\n",
       "        65.09377982, 117.94534034, 164.09208104,  98.22181403,\n",
       "       140.1017913 ,  65.78205452, 205.31079741, 165.05127994,\n",
       "       178.90437083, 224.75939686, 139.63635972, 122.59726625,\n",
       "       119.5011963 , 146.33586017, 141.92462304, 146.50387764,\n",
       "       172.97661008, 101.34846963, 153.50532399, 142.0407002 ,\n",
       "       167.13373286,  95.23918954, 112.58834016, 137.77057827,\n",
       "       179.87227612, 159.67517953, 117.64419249, 146.00408637,\n",
       "       103.28612434, 172.2352712 , 121.46455332, 153.93601058,\n",
       "       183.9026237 , 139.35554057, 231.40564202,  80.51073198,\n",
       "       110.91872431, 137.04533267,  79.86914423, 126.87139606,\n",
       "       170.8466774 , 140.52754554, 182.60371169, 237.14164735,\n",
       "       162.83416309, 146.03070966, 137.81575739, 134.88907065,\n",
       "       234.42979318, 139.07255802, 122.35332733, 172.92579231,\n",
       "       118.26761493, 163.77237736, 175.54942107,  91.84097081,\n",
       "       255.83414663, 256.86456325, 159.47826385, 187.31723972,\n",
       "       224.48259737, 151.29032538, 141.4352454 , 231.54948551,\n",
       "       219.86685305, 101.4717558 , 222.21693768, 148.59245147,\n",
       "        70.29272835, 173.76320416, 242.06737102, 157.88536225,\n",
       "       135.43340209,  86.21326632, 175.18860696, 126.23917548,\n",
       "        92.06742084, 127.01507695, 136.72476532, 186.43544157,\n",
       "        75.85303016,  51.34076456, 137.79177103, 131.55467471,\n",
       "       178.98784105, 136.71642372, 284.23228126, 159.82531761,\n",
       "       122.28320122, 112.68823339, 110.52523201, 127.78054429,\n",
       "       152.04858022, 167.1010804 , 213.62509851, 124.72976984,\n",
       "       154.57612424, 188.68033932,  98.80510125, 127.06339989,\n",
       "       139.87690639, 204.39843934, 160.89514265, 110.76846985,\n",
       "       177.68795383, 221.10575379, 103.52897166, 177.46409036,\n",
       "       153.43207976, 198.71400429, 175.5069449 , 178.59731018,\n",
       "       115.03275023, 224.63197115,  85.95361942, 127.08761137,\n",
       "       209.45158872, 134.81673562, 246.31746303, 117.2863801 ,\n",
       "       117.76445994, 264.07638685, 195.72953569, 164.86155104,\n",
       "        59.55250699, 141.40764167, 205.20067818,  69.97518321,\n",
       "       223.31038428, 179.16911198, 106.07797869,  86.10794256,\n",
       "        98.98800817,  95.57890265,  82.67798056, 147.00146   ,\n",
       "       171.68618178, 106.68506987, 270.13706985, 232.44151488,\n",
       "       120.08257339, 107.97452297, 112.06626454, 237.82801192,\n",
       "       180.74988921, 263.91864574, 104.34348874, 201.6067931 ,\n",
       "       144.60230514, 123.5424849 , 151.46759365, 152.30197805,\n",
       "        99.3828662 , 158.78769722, 165.80571451, 130.13300043,\n",
       "       183.10161856, 119.27008282, 138.43433399, 140.46072101,\n",
       "        95.32839016,  84.66850527, 117.0297064 , 179.98499479,\n",
       "        76.76361537, 163.35699123, 127.53244884, 186.63387687,\n",
       "       140.77373958, 122.61236381, 250.93807369, 135.74549098,\n",
       "       214.26156629, 134.29766172,  98.43555502,  66.90985559,\n",
       "        70.32656414, 125.79677555, 137.32240281, 184.9790626 ,\n",
       "        59.5449582 , 211.27618849, 131.72669484,  85.11149512,\n",
       "       111.90991489, 226.9944709 , 227.77922087, 183.26197087,\n",
       "       177.78582055, 174.3224793 , 220.74432925, 121.88427839,\n",
       "       209.779634  , 116.15812249, 156.11158025, 157.62289603,\n",
       "       114.7238712 , 132.75763013, 174.10375521, 159.14819206,\n",
       "       111.93049723, 141.60346576, 109.47278469, 133.28088908,\n",
       "        92.70618927, 111.02050194, 130.97441494,  98.08738393,\n",
       "       227.96140099, 142.65841313, 171.7783181 , 216.59310381,\n",
       "       235.45022348, 196.88513161, 258.67991222, 231.95548396,\n",
       "       158.42935742, 107.28959499, 119.62146375, 209.32677422,\n",
       "       172.61820427, 153.93999274, 165.98462265, 102.71648109,\n",
       "       151.69640648, 202.51737793, 177.89684898,  77.65919086,\n",
       "        80.93666862, 184.29991054, 160.00388559, 166.02645988,\n",
       "       128.79770745, 168.81897017, 158.34704481, 174.12993107,\n",
       "       120.87353492, 163.44021304, 174.32045278, 119.42282033,\n",
       "       196.01140092, 224.16216689])"
      ]
     },
     "execution_count": 469,
     "metadata": {},
     "output_type": "execute_result"
    }
   ],
   "source": [
    "X_train, X_test = X_train.loc[:,[\"age\",\"sex\",\"bmi\",\"bp\"]], X_test.loc[:,[\"age\",\"sex\",\"bmi\",\"bp\"]]\n",
    "pipe = pipe.fit(X_train, y_train)\n",
    "\n",
    "y_train_pred = pipe.predict(X_train)\n",
    "y_train_pred"
   ]
  },
  {
   "cell_type": "markdown",
   "id": "f64526d7",
   "metadata": {},
   "source": [
    "### 6.(b) 테스트 데이터 셋의 mean_absolute_error를 나타내세요."
   ]
  },
  {
   "cell_type": "code",
   "execution_count": 470,
   "id": "48c36c28",
   "metadata": {},
   "outputs": [
    {
     "name": "stdout",
     "output_type": "stream",
     "text": [
      "MAE: 48.549\n"
     ]
    },
    {
     "name": "stderr",
     "output_type": "stream",
     "text": [
      "/opt/homebrew/lib/python3.11/site-packages/sklearn/utils/validation.py:767: FutureWarning: is_sparse is deprecated and will be removed in a future version. Check `isinstance(dtype, pd.SparseDtype)` instead.\n",
      "  if not hasattr(array, \"sparse\") and array.dtypes.apply(is_sparse).any():\n",
      "/opt/homebrew/lib/python3.11/site-packages/sklearn/utils/validation.py:605: FutureWarning: is_sparse is deprecated and will be removed in a future version. Check `isinstance(dtype, pd.SparseDtype)` instead.\n",
      "  if is_sparse(pd_dtype):\n",
      "/opt/homebrew/lib/python3.11/site-packages/sklearn/utils/validation.py:614: FutureWarning: is_sparse is deprecated and will be removed in a future version. Check `isinstance(dtype, pd.SparseDtype)` instead.\n",
      "  if is_sparse(pd_dtype) or not is_extension_array_dtype(pd_dtype):\n"
     ]
    }
   ],
   "source": [
    "y_pred = pipe.predict(X_test)\n",
    "print(f'MAE:{(np.abs(y_pred - y_test)).mean(): .3f}')"
   ]
  },
  {
   "cell_type": "markdown",
   "id": "34bf9125",
   "metadata": {},
   "source": [
    "### 6.(c) 결과로 얻은 선형모델 계수들과 절편의 값을 확인하세요."
   ]
  },
  {
   "cell_type": "code",
   "execution_count": 471,
   "id": "23986bc8",
   "metadata": {},
   "outputs": [
    {
     "name": "stdout",
     "output_type": "stream",
     "text": [
      "절편: 150.85714285714286\n",
      "계수: [ 0.16801308 -5.93123842 36.61337794 20.13401954]\n"
     ]
    }
   ],
   "source": [
    "print(f'절편: {reg.intercept_}')\n",
    "print(f'계수: {reg.coef_}')"
   ]
  },
  {
   "cell_type": "markdown",
   "id": "36194582",
   "metadata": {},
   "source": [
    "### 6.(d) 가장 좋은 성능을 보이는 alpha값을 얻으세요."
   ]
  },
  {
   "cell_type": "code",
   "execution_count": 472,
   "id": "1228a2dc",
   "metadata": {},
   "outputs": [
    {
     "name": "stdout",
     "output_type": "stream",
     "text": [
      "최적의 alpha: 1\n"
     ]
    }
   ],
   "source": [
    "print('최적의 alpha:', reg.alpha_)"
   ]
  }
 ],
 "metadata": {
  "kernelspec": {
   "display_name": "Python 3 (ipykernel)",
   "language": "python",
   "name": "python3"
  },
  "language_info": {
   "codemirror_mode": {
    "name": "ipython",
    "version": 3
   },
   "file_extension": ".py",
   "mimetype": "text/x-python",
   "name": "python",
   "nbconvert_exporter": "python",
   "pygments_lexer": "ipython3",
   "version": "3.11.6"
  }
 },
 "nbformat": 4,
 "nbformat_minor": 5
}
