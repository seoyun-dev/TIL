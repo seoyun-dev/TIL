{
 "cells": [
  {
   "cell_type": "code",
   "execution_count": 1,
   "id": "8ef2e0e5",
   "metadata": {},
   "outputs": [
    {
     "name": "stdout",
     "output_type": "stream",
     "text": [
      "Requirement already satisfied: Korpora in /opt/homebrew/lib/python3.11/site-packages (0.2.0)\n",
      "Requirement already satisfied: sentencepiece in /opt/homebrew/lib/python3.11/site-packages (0.2.0)\n",
      "Requirement already satisfied: dataclasses>=0.6 in /opt/homebrew/lib/python3.11/site-packages (from Korpora) (0.6)\n",
      "Requirement already satisfied: numpy>=1.18.0 in /opt/homebrew/lib/python3.11/site-packages (from Korpora) (1.26.1)\n",
      "Requirement already satisfied: tqdm>=4.46.0 in /opt/homebrew/lib/python3.11/site-packages (from Korpora) (4.66.2)\n",
      "Requirement already satisfied: requests>=2.20.0 in /opt/homebrew/lib/python3.11/site-packages (from Korpora) (2.30.0)\n",
      "Requirement already satisfied: xlrd>=1.2.0 in /opt/homebrew/lib/python3.11/site-packages (from Korpora) (2.0.1)\n",
      "Requirement already satisfied: charset-normalizer<4,>=2 in /opt/homebrew/lib/python3.11/site-packages (from requests>=2.20.0->Korpora) (3.1.0)\n",
      "Requirement already satisfied: idna<4,>=2.5 in /opt/homebrew/lib/python3.11/site-packages (from requests>=2.20.0->Korpora) (3.4)\n",
      "Requirement already satisfied: urllib3<3,>=1.21.1 in /opt/homebrew/lib/python3.11/site-packages (from requests>=2.20.0->Korpora) (1.26.15)\n",
      "Requirement already satisfied: certifi>=2017.4.17 in /opt/homebrew/lib/python3.11/site-packages (from requests>=2.20.0->Korpora) (2023.5.7)\n",
      "\n",
      "\u001b[1m[\u001b[0m\u001b[34;49mnotice\u001b[0m\u001b[1;39;49m]\u001b[0m\u001b[39;49m A new release of pip is available: \u001b[0m\u001b[31;49m23.3.2\u001b[0m\u001b[39;49m -> \u001b[0m\u001b[32;49m24.0\u001b[0m\n",
      "\u001b[1m[\u001b[0m\u001b[34;49mnotice\u001b[0m\u001b[1;39;49m]\u001b[0m\u001b[39;49m To update, run: \u001b[0m\u001b[32;49mpython3.11 -m pip install --upgrade pip\u001b[0m\n"
     ]
    }
   ],
   "source": [
    "!pip install Korpora sentencepiece"
   ]
  },
  {
   "cell_type": "code",
   "execution_count": 3,
   "id": "8e2d6d57-69dd-41e8-9deb-46adcb8498c9",
   "metadata": {},
   "outputs": [
    {
     "name": "stdout",
     "output_type": "stream",
     "text": [
      "\n",
      "    Korpora 는 다른 분들이 연구 목적으로 공유해주신 말뭉치들을\n",
      "    손쉽게 다운로드, 사용할 수 있는 기능만을 제공합니다.\n",
      "\n",
      "    말뭉치들을 공유해 주신 분들에게 감사드리며, 각 말뭉치 별 설명과 라이센스를 공유 드립니다.\n",
      "    해당 말뭉치에 대해 자세히 알고 싶으신 분은 아래의 description 을 참고,\n",
      "    해당 말뭉치를 연구/상용의 목적으로 이용하실 때에는 아래의 라이센스를 참고해 주시기 바랍니다.\n",
      "\n",
      "    # Description\n",
      "    Author : Hyunjoong Kim lovit@github\n",
      "    Repository : https://github.com/lovit/petitions_archive\n",
      "    References :\n",
      "\n",
      "    청와대 국민청원 게시판의 데이터를 월별로 수집한 것입니다.\n",
      "    청원은 게시판에 글을 올린 뒤, 한달 간 청원이 진행됩니다.\n",
      "    수집되는 데이터는 청원종료가 된 이후의 데이터이며, 청원 내 댓글은 수집되지 않습니다.\n",
      "    단 청원의 동의 개수는 수집됩니다.\n",
      "    자세한 내용은 위의 repository를 참고하세요.\n",
      "\n",
      "    # License\n",
      "    CC0 1.0 Universal (CC0 1.0) Public Domain Dedication\n",
      "    Details in https://creativecommons.org/publicdomain/zero/1.0/\n",
      "\n",
      "[Korpora] Corpus `korean_petitions` is already installed at /Users/seoyun/Korpora/korean_petitions/petitions_2017-08\n",
      "[Korpora] Corpus `korean_petitions` is already installed at /Users/seoyun/Korpora/korean_petitions/petitions_2017-09\n",
      "[Korpora] Corpus `korean_petitions` is already installed at /Users/seoyun/Korpora/korean_petitions/petitions_2017-10\n",
      "[Korpora] Corpus `korean_petitions` is already installed at /Users/seoyun/Korpora/korean_petitions/petitions_2017-11\n",
      "[Korpora] Corpus `korean_petitions` is already installed at /Users/seoyun/Korpora/korean_petitions/petitions_2017-12\n",
      "[Korpora] Corpus `korean_petitions` is already installed at /Users/seoyun/Korpora/korean_petitions/petitions_2018-01\n",
      "[Korpora] Corpus `korean_petitions` is already installed at /Users/seoyun/Korpora/korean_petitions/petitions_2018-02\n",
      "[Korpora] Corpus `korean_petitions` is already installed at /Users/seoyun/Korpora/korean_petitions/petitions_2018-03\n",
      "[Korpora] Corpus `korean_petitions` is already installed at /Users/seoyun/Korpora/korean_petitions/petitions_2018-04\n",
      "[Korpora] Corpus `korean_petitions` is already installed at /Users/seoyun/Korpora/korean_petitions/petitions_2018-05\n",
      "[Korpora] Corpus `korean_petitions` is already installed at /Users/seoyun/Korpora/korean_petitions/petitions_2018-06\n",
      "[Korpora] Corpus `korean_petitions` is already installed at /Users/seoyun/Korpora/korean_petitions/petitions_2018-07\n",
      "[Korpora] Corpus `korean_petitions` is already installed at /Users/seoyun/Korpora/korean_petitions/petitions_2018-08\n",
      "[Korpora] Corpus `korean_petitions` is already installed at /Users/seoyun/Korpora/korean_petitions/petitions_2018-09\n",
      "[Korpora] Corpus `korean_petitions` is already installed at /Users/seoyun/Korpora/korean_petitions/petitions_2018-10\n",
      "[Korpora] Corpus `korean_petitions` is already installed at /Users/seoyun/Korpora/korean_petitions/petitions_2018-11\n",
      "[Korpora] Corpus `korean_petitions` is already installed at /Users/seoyun/Korpora/korean_petitions/petitions_2018-12\n",
      "[Korpora] Corpus `korean_petitions` is already installed at /Users/seoyun/Korpora/korean_petitions/petitions_2019-01\n",
      "[Korpora] Corpus `korean_petitions` is already installed at /Users/seoyun/Korpora/korean_petitions/petitions_2019-02\n",
      "[Korpora] Corpus `korean_petitions` is already installed at /Users/seoyun/Korpora/korean_petitions/petitions_2019-03\n",
      "청원 시작일 : 2017-08-25\n",
      "청원 종료일 : 2017-09-24\n",
      "청원 동의 수 : 88\n",
      "청원 범주 : 육아/교육\n",
      "청원 제목 : 학교는 인력센터, 취업센터가 아닙니다. 정말 간곡히 부탁드립니다.\n",
      "청원 본문 : 안녕하세요. 현재 사대, 교대 등 교원양성학교들의 예비\n"
     ]
    }
   ],
   "source": [
    "from Korpora import Korpora\n",
    "\n",
    "\n",
    "corpus = Korpora.load(\"korean_petitions\")\n",
    "dataset = corpus.train\n",
    "petition = dataset[0]\n",
    "\n",
    "print(\"청원 시작일 :\", petition.begin)\n",
    "print(\"청원 종료일 :\", petition.end)\n",
    "print(\"청원 동의 수 :\", petition.num_agree)\n",
    "print(\"청원 범주 :\", petition.category)\n",
    "print(\"청원 제목 :\", petition.title)\n",
    "print(\"청원 본문 :\", petition.text[:30])"
   ]
  }
 ],
 "metadata": {
  "kernelspec": {
   "display_name": "Python 3 (ipykernel)",
   "language": "python",
   "name": "python3"
  },
  "language_info": {
   "codemirror_mode": {
    "name": "ipython",
    "version": 3
   },
   "file_extension": ".py",
   "mimetype": "text/x-python",
   "name": "python",
   "nbconvert_exporter": "python",
   "pygments_lexer": "ipython3",
   "version": "3.11.6"
  }
 },
 "nbformat": 4,
 "nbformat_minor": 5
}
