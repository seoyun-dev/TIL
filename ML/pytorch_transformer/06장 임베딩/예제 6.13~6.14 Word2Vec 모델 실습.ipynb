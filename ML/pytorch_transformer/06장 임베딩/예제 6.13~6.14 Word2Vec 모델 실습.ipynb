{
 "cells": [
  {
   "cell_type": "code",
   "execution_count": 1,
   "id": "a49f8cc3",
   "metadata": {},
   "outputs": [
    {
     "name": "stdout",
     "output_type": "stream",
     "text": [
      "\n",
      "    Korpora 는 다른 분들이 연구 목적으로 공유해주신 말뭉치들을\n",
      "    손쉽게 다운로드, 사용할 수 있는 기능만을 제공합니다.\n",
      "\n",
      "    말뭉치들을 공유해 주신 분들에게 감사드리며, 각 말뭉치 별 설명과 라이센스를 공유 드립니다.\n",
      "    해당 말뭉치에 대해 자세히 알고 싶으신 분은 아래의 description 을 참고,\n",
      "    해당 말뭉치를 연구/상용의 목적으로 이용하실 때에는 아래의 라이센스를 참고해 주시기 바랍니다.\n",
      "\n",
      "    # Description\n",
      "    Author : e9t@github\n",
      "    Repository : https://github.com/e9t/nsmc\n",
      "    References : www.lucypark.kr/docs/2015-pyconkr/#39\n",
      "\n",
      "    Naver sentiment movie corpus v1.0\n",
      "    This is a movie review dataset in the Korean language.\n",
      "    Reviews were scraped from Naver Movies.\n",
      "\n",
      "    The dataset construction is based on the method noted in\n",
      "    [Large movie review dataset][^1] from Maas et al., 2011.\n",
      "\n",
      "    [^1]: http://ai.stanford.edu/~amaas/data/sentiment/\n",
      "\n",
      "    # License\n",
      "    CC0 1.0 Universal (CC0 1.0) Public Domain Dedication\n",
      "    Details in https://creativecommons.org/publicdomain/zero/1.0/\n",
      "\n",
      "[Korpora] Corpus `nsmc` is already installed at /Users/seoyun/Korpora/nsmc/ratings_train.txt\n",
      "[Korpora] Corpus `nsmc` is already installed at /Users/seoyun/Korpora/nsmc/ratings_test.txt\n"
     ]
    }
   ],
   "source": [
    "import pandas as pd\n",
    "from Korpora import Korpora\n",
    "from konlpy.tag import Okt\n",
    "\n",
    "\n",
    "corpus = Korpora.load(\"nsmc\")\n",
    "corpus = pd.DataFrame(corpus.test)"
   ]
  },
  {
   "cell_type": "code",
   "execution_count": 4,
   "id": "cd387120",
   "metadata": {},
   "outputs": [],
   "source": [
    "tokenizer = Okt()\n",
    "tokens = [tokenizer.morphs(review) for review in corpus.text]"
   ]
  },
  {
   "cell_type": "code",
   "execution_count": 3,
   "id": "65202158",
   "metadata": {},
   "outputs": [
    {
     "name": "stdout",
     "output_type": "stream",
     "text": [
      "Collecting gensim\n",
      "  Downloading gensim-4.3.2-cp311-cp311-macosx_11_0_arm64.whl.metadata (8.3 kB)\n",
      "Requirement already satisfied: numpy>=1.18.5 in /opt/homebrew/lib/python3.11/site-packages (from gensim) (1.26.1)\n",
      "Requirement already satisfied: scipy>=1.7.0 in /opt/homebrew/lib/python3.11/site-packages (from gensim) (1.10.1)\n",
      "Requirement already satisfied: smart-open>=1.8.1 in /opt/homebrew/lib/python3.11/site-packages (from gensim) (6.4.0)\n",
      "Downloading gensim-4.3.2-cp311-cp311-macosx_11_0_arm64.whl (24.0 MB)\n",
      "\u001b[2K   \u001b[38;2;114;156;31m━━━━━━━━━━━━━━━━━━━━━━━━━━━━━━━━━━━━━━━━\u001b[0m \u001b[32m24.0/24.0 MB\u001b[0m \u001b[31m32.8 MB/s\u001b[0m eta \u001b[36m0:00:00\u001b[0mm eta \u001b[36m0:00:01\u001b[0m[36m0:00:01\u001b[0m\n",
      "\u001b[?25hInstalling collected packages: gensim\n",
      "Successfully installed gensim-4.3.2\n",
      "\n",
      "\u001b[1m[\u001b[0m\u001b[34;49mnotice\u001b[0m\u001b[1;39;49m]\u001b[0m\u001b[39;49m A new release of pip is available: \u001b[0m\u001b[31;49m23.3.2\u001b[0m\u001b[39;49m -> \u001b[0m\u001b[32;49m24.0\u001b[0m\n",
      "\u001b[1m[\u001b[0m\u001b[34;49mnotice\u001b[0m\u001b[1;39;49m]\u001b[0m\u001b[39;49m To update, run: \u001b[0m\u001b[32;49mpython3.11 -m pip install --upgrade pip\u001b[0m\n"
     ]
    }
   ],
   "source": [
    "!pip install gensim"
   ]
  },
  {
   "cell_type": "code",
   "execution_count": 5,
   "id": "c121d6cd",
   "metadata": {},
   "outputs": [],
   "source": [
    "from gensim.models import Word2Vec\n",
    "\n",
    "\n",
    "word2vec = Word2Vec(\n",
    "    sentences       = tokens,  # 학습데이터\n",
    "    vector_size     = 128,     # 임베딩 차원 수\n",
    "    window          = 5,       # 학습 데이터 생성 윈도우 크기\n",
    "    min_count       = 1,       # 학습에 사용할 단어의 최소 빈도\n",
    "    sg              = 1,       # 1이면 Skip-gram, 0이면 CBow\n",
    "    epochs          = 3,       # 학습 에폭 수\n",
    "    max_final_vocab = 10000    # 단어 사전의 최대 크기\n",
    ")"
   ]
  },
  {
   "cell_type": "code",
   "execution_count": 6,
   "id": "89b83369",
   "metadata": {},
   "outputs": [],
   "source": [
    "word2vec.save(\"../models/word2vec.model\")\n",
    "word2vec = Word2Vec.load(\"../models/word2vec.model\")"
   ]
  },
  {
   "cell_type": "code",
   "execution_count": 7,
   "id": "82db1c00",
   "metadata": {},
   "outputs": [
    {
     "name": "stdout",
     "output_type": "stream",
     "text": [
      "[-0.3728424  -0.3059944   0.1073349   0.33961332 -0.16485156  0.19318162\n",
      " -0.05802752 -0.15797806 -0.4745372   0.56659    -0.07656703 -0.32899734\n",
      " -0.12844089 -0.04173035  0.18129689  0.13720469 -0.2873036   0.40556794\n",
      " -0.12663823  0.22857913  0.5948716   0.3111243  -0.2623473  -0.19177423\n",
      " -0.22839937  0.11152785 -0.44417664  0.13860033  0.17573626 -0.18770155\n",
      " -0.48042253  0.08620604  0.3920393  -0.17473288  0.01215664 -0.18735501\n",
      " -0.02148124 -0.08064957 -0.1398762  -0.12170913  0.06167692 -0.11149889\n",
      " -0.37877363 -0.24969974 -0.32530063  0.06695173 -0.43365893 -0.10954545\n",
      "  0.12269335  0.12253109  0.32246697  0.32329962  0.19633196  0.15793423\n",
      " -0.41486996  0.0762997  -0.10714152  0.26707825 -0.19457549  0.10655718\n",
      "  0.0380015  -0.20903255  0.1549314   0.2251599  -0.19782175  0.11537534\n",
      " -0.10564011  0.20541956  0.26685137 -0.31579024 -0.46168402 -0.23234172\n",
      " -0.326914    0.27806604  0.10039242 -0.3321773  -0.24411361 -0.16458413\n",
      " -0.04823921  0.14901452 -0.23453222 -0.12711324  0.25399724  0.6978102\n",
      "  0.26058155  0.12174913  0.11337767 -0.45841348  0.046403   -0.14063358\n",
      " -0.36088526 -0.02024348  0.05216685  0.11598304  0.19481128  0.2594429\n",
      " -0.0374314  -0.56145465 -0.08508494 -0.8185347  -0.50348073  0.07188549\n",
      "  0.2994269  -0.48156428  0.08550855  0.1878023   0.57529175 -0.08152081\n",
      "  0.02405016 -0.2952397   0.47568122 -0.28978226 -0.14904071  0.28339943\n",
      "  0.20741332 -0.43901882  0.38007513  0.43607098 -0.11316396  0.46159104\n",
      " -0.1763847  -0.26241603  0.09354202  0.06351002  0.05142573 -0.10781024\n",
      " -0.5340933  -0.22623311] 128\n",
      "[('연기력', 0.8013089895248413), ('캐스팅', 0.7454773187637329), ('연기자', 0.7263932824134827), ('조연', 0.7120985388755798), ('몸매', 0.7048244476318359)]\n",
      "0.80130893\n"
     ]
    }
   ],
   "source": [
    "### 임베딩 추출 및 유사도 계산\n",
    "\n",
    "word = \"연기\"\n",
    "print(word2vec.wv[word], len(word2vec.wv[word]))\n",
    "# most_similar : 가장 유사한 단어 n개\n",
    "print(word2vec.wv.most_similar(word, topn=5))\n",
    "# similarity : 두 단어 간의 유사도\n",
    "print(word2vec.wv.similarity(w1=word, w2=\"연기력\"))"
   ]
  }
 ],
 "metadata": {
  "kernelspec": {
   "display_name": "Python 3 (ipykernel)",
   "language": "python",
   "name": "python3"
  },
  "language_info": {
   "codemirror_mode": {
    "name": "ipython",
    "version": 3
   },
   "file_extension": ".py",
   "mimetype": "text/x-python",
   "name": "python",
   "nbconvert_exporter": "python",
   "pygments_lexer": "ipython3",
   "version": "3.11.6"
  }
 },
 "nbformat": 4,
 "nbformat_minor": 5
}
