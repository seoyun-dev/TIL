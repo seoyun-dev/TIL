{
 "cells": [
  {
   "cell_type": "code",
   "execution_count": 1,
   "id": "f8e63add-f91e-421b-ad32-531ed802289f",
   "metadata": {},
   "outputs": [
    {
     "name": "stdout",
     "output_type": "stream",
     "text": [
      "\n",
      "    Korpora 는 다른 분들이 연구 목적으로 공유해주신 말뭉치들을\n",
      "    손쉽게 다운로드, 사용할 수 있는 기능만을 제공합니다.\n",
      "\n",
      "    말뭉치들을 공유해 주신 분들에게 감사드리며, 각 말뭉치 별 설명과 라이센스를 공유 드립니다.\n",
      "    해당 말뭉치에 대해 자세히 알고 싶으신 분은 아래의 description 을 참고,\n",
      "    해당 말뭉치를 연구/상용의 목적으로 이용하실 때에는 아래의 라이센스를 참고해 주시기 바랍니다.\n",
      "\n",
      "    # Description\n",
      "    Author : KakaoBrain\n",
      "    Repository : https://github.com/kakaobrain/KorNLUDatasets\n",
      "    References :\n",
      "        - Ham, J., Choe, Y. J., Park, K., Choi, I., & Soh, H. (2020). KorNLI and KorSTS: New Benchmark\n",
      "           Datasets for Korean Natural Language Understanding. arXiv preprint arXiv:2004.03289.\n",
      "           (https://arxiv.org/abs/2004.03289)\n",
      "\n",
      "    This is the dataset repository for our paper\n",
      "    \"KorNLI and KorSTS: New Benchmark Datasets for Korean Natural Language Understanding.\"\n",
      "    (https://arxiv.org/abs/2004.03289)\n",
      "    We introduce KorNLI and KorSTS, which are NLI and STS datasets in Korean.\n",
      "\n",
      "    # License\n",
      "    Creative Commons Attribution-ShareAlike license (CC BY-SA 4.0)\n",
      "    Details in https://creativecommons.org/licenses/by-sa/4.0/\n",
      "\n"
     ]
    },
    {
     "name": "stderr",
     "output_type": "stream",
     "text": [
      "[kornli] download multinli.train.ko.tsv: 83.6MB [00:01, 59.9MB/s]                            \n",
      "[kornli] download snli_1.0_train.ko.tsv: 78.5MB [00:01, 57.0MB/s]                            \n",
      "[kornli] download xnli.dev.ko.tsv: 516kB [00:00, 6.94MB/s]\n",
      "[kornli] download xnli.test.ko.tsv: 1.04MB [00:00, 10.6MB/s]\n"
     ]
    },
    {
     "name": "stdout",
     "output_type": "stream",
     "text": [
      "[['개념적으로', '크림', '스키밍은', '제품과', '지리라는', '두', '가지', '기본', '차원을', '가지고', '있다.'], ['시즌', '중에', '알고', '있는', '거', '알아?', '네', '레벨에서', '다음', '레벨로', '잃어버리는', '거야', '브레이브스가', '모팀을', '떠올리기로', '결정하면', '브레이브스가', '트리플', 'A에서', '한', '남자를', '떠올리기로', '결정하면', '더블', 'A가', '그를', '대신하러', '올라가고', 'A', '한', '명이', '그를', '대신하러', '올라간다.'], ['우리', '번호', '중', '하나가', '당신의', '지시를', '세밀하게', '수행할', '것이다.']]\n"
     ]
    }
   ],
   "source": [
    "from Korpora import Korpora\n",
    "\n",
    "\n",
    "corpus       = Korpora.load(\"kornli\")\n",
    "corpus_texts = corpus.get_all_texts() + corpus.get_all_pairs()\n",
    "tokens       = [sentence.split() for sentence in corpus_texts]\n",
    "\n",
    "print(tokens[:3])"
   ]
  },
  {
   "cell_type": "code",
   "execution_count": 3,
   "id": "a7f20efe-1a33-4dc6-89e5-f66bf5c2e775",
   "metadata": {},
   "outputs": [],
   "source": [
    "from gensim.models import FastText\n",
    "\n",
    "\n",
    "fastText = FastText(\n",
    "    sentences   = tokens,\n",
    "    vector_size = 128,\n",
    "    window      = 5,\n",
    "    min_count   = 5,\n",
    "    sg          = 1,\n",
    "    epochs      = 3,\n",
    "    min_n       = 2,    # N-gram(최소 N)\n",
    "    max_n       = 6     # N-gram(최대 N)\n",
    ")\n",
    "\n",
    "# fastText.save(\"../models/fastText.model\")\n",
    "# fastText = FastText.load(\"../models/fastText.model\")"
   ]
  },
  {
   "cell_type": "code",
   "execution_count": 4,
   "id": "da92edfb-febe-4ed3-a083-4d06122355ed",
   "metadata": {},
   "outputs": [
    {
     "name": "stdout",
     "output_type": "stream",
     "text": [
      "False\n",
      "[('사랑해', 0.9034702777862549), ('사랑', 0.8663105964660645), ('사랑한', 0.8581487536430359), ('사랑해서', 0.8406319618225098), ('사랑해.', 0.833448588848114)]\n"
     ]
    }
   ],
   "source": [
    "oov_token  = \"사랑해요\"\n",
    "oov_vector = fastText.wv[oov_token]\n",
    "\n",
    "print(oov_token in fastText.wv.index_to_key)\n",
    "print(fastText.wv.most_similar(oov_vector, topn=5))\n",
    "#Word2Vec과 달리 OOV 단어를 대상으로도 의미 있는 임베딩 추출 가능"
   ]
  }
 ],
 "metadata": {
  "kernelspec": {
   "display_name": "Python 3 (ipykernel)",
   "language": "python",
   "name": "python3"
  },
  "language_info": {
   "codemirror_mode": {
    "name": "ipython",
    "version": 3
   },
   "file_extension": ".py",
   "mimetype": "text/x-python",
   "name": "python",
   "nbconvert_exporter": "python",
   "pygments_lexer": "ipython3",
   "version": "3.11.6"
  }
 },
 "nbformat": 4,
 "nbformat_minor": 5
}
