{
 "cells": [
  {
   "cell_type": "code",
   "execution_count": 1,
   "id": "bb9d7c08-8d28-45d0-887a-a63b6dea7798",
   "metadata": {},
   "outputs": [
    {
     "name": "stdout",
     "output_type": "stream",
     "text": [
      "torch.Size([4, 6, 128])\n",
      "torch.Size([6, 4, 64])\n",
      "torch.Size([6, 4, 256])\n"
     ]
    }
   ],
   "source": [
    "import torch\n",
    "from torch import nn\n",
    "\n",
    "\n",
    "input_size    = 128\n",
    "ouput_size    = 256\n",
    "num_layers    = 3\n",
    "bidirectional = True\n",
    "proj_size     = 64      # 투사 크기( 출력에 대한 선형 투사 크기)\n",
    "\n",
    "model = nn.LSTM(\n",
    "    input_size    = input_size,\n",
    "    hidden_size   = ouput_size,\n",
    "    num_layers    = num_layers,\n",
    "    batch_first   = True,\n",
    "    bidirectional = bidirectional,\n",
    "    proj_size     = proj_size,\n",
    ")\n",
    "\n",
    "batch_size   = 4\n",
    "sequence_len = 6\n",
    "\n",
    "# 입력값 차원 : [배치크기, 시퀀스길이, 입력특성크기]\n",
    "inputs = torch.randn(batch_size, sequence_len, input_size)\n",
    "# 초기 은닉 상태 : [계층수x(양방향여부+1), 배치크기, 은닉상태크기]\n",
    "h_0    = torch.rand(\n",
    "    num_layers * (int(bidirectional) + 1),\n",
    "    batch_size,\n",
    "    proj_size if proj_size > 0 else ouput_size,\n",
    ")\n",
    "c_0 = torch.rand(num_layers * (int(bidirectional) + 1), batch_size, ouput_size)\n",
    "\n",
    "# 츨력값 차원 : [배치크기, 시퀀스길이, (양방향여부+1)x투사크기(or은닉상태크기)]\n",
    "outputs, (h_n, c_n) = model(inputs, (h_0, c_0))\n",
    "\n",
    "print(outputs.shape)\n",
    "print(h_n.shape)\n",
    "print(c_n.shape)"
   ]
  },
  {
   "cell_type": "code",
   "execution_count": null,
   "id": "8836e816",
   "metadata": {},
   "outputs": [],
   "source": []
  }
 ],
 "metadata": {
  "kernelspec": {
   "display_name": "Python 3 (ipykernel)",
   "language": "python",
   "name": "python3"
  },
  "language_info": {
   "codemirror_mode": {
    "name": "ipython",
    "version": 3
   },
   "file_extension": ".py",
   "mimetype": "text/x-python",
   "name": "python",
   "nbconvert_exporter": "python",
   "pygments_lexer": "ipython3",
   "version": "3.11.6"
  }
 },
 "nbformat": 4,
 "nbformat_minor": 5
}
