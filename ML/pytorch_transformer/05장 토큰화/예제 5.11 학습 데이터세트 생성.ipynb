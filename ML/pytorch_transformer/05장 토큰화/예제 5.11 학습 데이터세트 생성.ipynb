{
 "cells": [
  {
   "cell_type": "code",
   "execution_count": 1,
   "id": "8e2d6d57-69dd-41e8-9deb-46adcb8498c9",
   "metadata": {},
   "outputs": [
    {
     "name": "stdout",
     "output_type": "stream",
     "text": [
      "\n",
      "    Korpora 는 다른 분들이 연구 목적으로 공유해주신 말뭉치들을\n",
      "    손쉽게 다운로드, 사용할 수 있는 기능만을 제공합니다.\n",
      "\n",
      "    말뭉치들을 공유해 주신 분들에게 감사드리며, 각 말뭉치 별 설명과 라이센스를 공유 드립니다.\n",
      "    해당 말뭉치에 대해 자세히 알고 싶으신 분은 아래의 description 을 참고,\n",
      "    해당 말뭉치를 연구/상용의 목적으로 이용하실 때에는 아래의 라이센스를 참고해 주시기 바랍니다.\n",
      "\n",
      "    # Description\n",
      "    Author : Hyunjoong Kim lovit@github\n",
      "    Repository : https://github.com/lovit/petitions_archive\n",
      "    References :\n",
      "\n",
      "    청와대 국민청원 게시판의 데이터를 월별로 수집한 것입니다.\n",
      "    청원은 게시판에 글을 올린 뒤, 한달 간 청원이 진행됩니다.\n",
      "    수집되는 데이터는 청원종료가 된 이후의 데이터이며, 청원 내 댓글은 수집되지 않습니다.\n",
      "    단 청원의 동의 개수는 수집됩니다.\n",
      "    자세한 내용은 위의 repository를 참고하세요.\n",
      "\n",
      "    # License\n",
      "    CC0 1.0 Universal (CC0 1.0) Public Domain Dedication\n",
      "    Details in https://creativecommons.org/publicdomain/zero/1.0/\n",
      "\n",
      "[Korpora] Corpus `korean_petitions` is already installed at /Users/seoyun/Korpora/korean_petitions/petitions_2017-08\n",
      "[Korpora] Corpus `korean_petitions` is already installed at /Users/seoyun/Korpora/korean_petitions/petitions_2017-09\n",
      "[Korpora] Corpus `korean_petitions` is already installed at /Users/seoyun/Korpora/korean_petitions/petitions_2017-10\n",
      "[Korpora] Corpus `korean_petitions` is already installed at /Users/seoyun/Korpora/korean_petitions/petitions_2017-11\n",
      "[Korpora] Corpus `korean_petitions` is already installed at /Users/seoyun/Korpora/korean_petitions/petitions_2017-12\n",
      "[Korpora] Corpus `korean_petitions` is already installed at /Users/seoyun/Korpora/korean_petitions/petitions_2018-01\n",
      "[Korpora] Corpus `korean_petitions` is already installed at /Users/seoyun/Korpora/korean_petitions/petitions_2018-02\n",
      "[Korpora] Corpus `korean_petitions` is already installed at /Users/seoyun/Korpora/korean_petitions/petitions_2018-03\n",
      "[Korpora] Corpus `korean_petitions` is already installed at /Users/seoyun/Korpora/korean_petitions/petitions_2018-04\n",
      "[Korpora] Corpus `korean_petitions` is already installed at /Users/seoyun/Korpora/korean_petitions/petitions_2018-05\n",
      "[Korpora] Corpus `korean_petitions` is already installed at /Users/seoyun/Korpora/korean_petitions/petitions_2018-06\n",
      "[Korpora] Corpus `korean_petitions` is already installed at /Users/seoyun/Korpora/korean_petitions/petitions_2018-07\n",
      "[Korpora] Corpus `korean_petitions` is already installed at /Users/seoyun/Korpora/korean_petitions/petitions_2018-08\n",
      "[Korpora] Corpus `korean_petitions` is already installed at /Users/seoyun/Korpora/korean_petitions/petitions_2018-09\n",
      "[Korpora] Corpus `korean_petitions` is already installed at /Users/seoyun/Korpora/korean_petitions/petitions_2018-10\n",
      "[Korpora] Corpus `korean_petitions` is already installed at /Users/seoyun/Korpora/korean_petitions/petitions_2018-11\n",
      "[Korpora] Corpus `korean_petitions` is already installed at /Users/seoyun/Korpora/korean_petitions/petitions_2018-12\n",
      "[Korpora] Corpus `korean_petitions` is already installed at /Users/seoyun/Korpora/korean_petitions/petitions_2019-01\n",
      "[Korpora] Corpus `korean_petitions` is already installed at /Users/seoyun/Korpora/korean_petitions/petitions_2019-02\n",
      "[Korpora] Corpus `korean_petitions` is already installed at /Users/seoyun/Korpora/korean_petitions/petitions_2019-03\n"
     ]
    }
   ],
   "source": [
    "from Korpora import Korpora\n",
    "\n",
    "\n",
    "corpus    = Korpora.load(\"korean_petitions\")\n",
    "petitions = corpus.get_all_texts()  # 데이터세트 전체 한 번에 불러오기\n",
    "# 청원 데이터 하나의 txt 파일로 저장\n",
    "with open(\"../datasets/corpus.txt\", \"w\", encoding=\"utf-8\") as f:\n",
    "    for petition in petitions:\n",
    "        f.write(petition + \"\\n\")"
   ]
  }
 ],
 "metadata": {
  "kernelspec": {
   "display_name": "Python 3 (ipykernel)",
   "language": "python",
   "name": "python3"
  },
  "language_info": {
   "codemirror_mode": {
    "name": "ipython",
    "version": 3
   },
   "file_extension": ".py",
   "mimetype": "text/x-python",
   "name": "python",
   "nbconvert_exporter": "python",
   "pygments_lexer": "ipython3",
   "version": "3.11.6"
  }
 },
 "nbformat": 4,
 "nbformat_minor": 5
}
