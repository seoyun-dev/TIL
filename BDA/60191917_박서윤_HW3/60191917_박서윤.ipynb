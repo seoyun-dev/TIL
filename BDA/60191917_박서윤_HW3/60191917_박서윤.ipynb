{
 "cells": [
  {
   "cell_type": "markdown",
   "id": "68742b40",
   "metadata": {},
   "source": [
    "## 선형회귀 (목적변수는 Sales)"
   ]
  },
  {
   "cell_type": "markdown",
   "id": "35a3ea88",
   "metadata": {},
   "source": [
    "### 1 (a). advertising1.csv와 advertising2.csv를 pd.read_csv를 통해서 load하여  advertising1, advertising2의 이름으로 할당하세요. "
   ]
  },
  {
   "cell_type": "code",
   "execution_count": 1,
   "metadata": {},
   "outputs": [],
   "source": [
    "import pandas as pd"
   ]
  },
  {
   "cell_type": "code",
   "execution_count": 8,
   "metadata": {},
   "outputs": [],
   "source": [
    "advertising1 = pd.read_csv('advertising/advertising1.csv')\n",
    "advertising2 = pd.read_csv('advertising/advertising2.csv')"
   ]
  },
  {
   "cell_type": "markdown",
   "id": "411f40f3",
   "metadata": {},
   "source": [
    "### 1.(b) 두 데이터를 advertising의 이름으로 병합하세요, 병합 시에 ignore_index 옵션을 활용하여, 0~199까지 되게 하세요."
   ]
  },
  {
   "cell_type": "code",
   "execution_count": 19,
   "metadata": {},
   "outputs": [
    {
     "data": {
      "text/html": [
       "<div>\n",
       "<style scoped>\n",
       "    .dataframe tbody tr th:only-of-type {\n",
       "        vertical-align: middle;\n",
       "    }\n",
       "\n",
       "    .dataframe tbody tr th {\n",
       "        vertical-align: top;\n",
       "    }\n",
       "\n",
       "    .dataframe thead th {\n",
       "        text-align: right;\n",
       "    }\n",
       "</style>\n",
       "<table border=\"1\" class=\"dataframe\">\n",
       "  <thead>\n",
       "    <tr style=\"text-align: right;\">\n",
       "      <th></th>\n",
       "      <th>TV</th>\n",
       "      <th>Radio</th>\n",
       "      <th>Newspaper</th>\n",
       "      <th>Sales</th>\n",
       "    </tr>\n",
       "  </thead>\n",
       "  <tbody>\n",
       "    <tr>\n",
       "      <th>0</th>\n",
       "      <td>230.1</td>\n",
       "      <td>37.8</td>\n",
       "      <td>69.2</td>\n",
       "      <td>22.1</td>\n",
       "    </tr>\n",
       "    <tr>\n",
       "      <th>1</th>\n",
       "      <td>44.5</td>\n",
       "      <td>39.3</td>\n",
       "      <td>45.1</td>\n",
       "      <td>10.4</td>\n",
       "    </tr>\n",
       "    <tr>\n",
       "      <th>2</th>\n",
       "      <td>17.2</td>\n",
       "      <td>45.9</td>\n",
       "      <td>69.3</td>\n",
       "      <td>12.0</td>\n",
       "    </tr>\n",
       "    <tr>\n",
       "      <th>3</th>\n",
       "      <td>151.5</td>\n",
       "      <td>41.3</td>\n",
       "      <td>58.5</td>\n",
       "      <td>16.5</td>\n",
       "    </tr>\n",
       "    <tr>\n",
       "      <th>4</th>\n",
       "      <td>180.8</td>\n",
       "      <td>10.8</td>\n",
       "      <td>58.4</td>\n",
       "      <td>17.9</td>\n",
       "    </tr>\n",
       "    <tr>\n",
       "      <th>...</th>\n",
       "      <td>...</td>\n",
       "      <td>...</td>\n",
       "      <td>...</td>\n",
       "      <td>...</td>\n",
       "    </tr>\n",
       "    <tr>\n",
       "      <th>195</th>\n",
       "      <td>38.2</td>\n",
       "      <td>3.7</td>\n",
       "      <td>13.8</td>\n",
       "      <td>7.6</td>\n",
       "    </tr>\n",
       "    <tr>\n",
       "      <th>196</th>\n",
       "      <td>94.2</td>\n",
       "      <td>4.9</td>\n",
       "      <td>8.1</td>\n",
       "      <td>14.0</td>\n",
       "    </tr>\n",
       "    <tr>\n",
       "      <th>197</th>\n",
       "      <td>177.0</td>\n",
       "      <td>9.3</td>\n",
       "      <td>6.4</td>\n",
       "      <td>14.8</td>\n",
       "    </tr>\n",
       "    <tr>\n",
       "      <th>198</th>\n",
       "      <td>283.6</td>\n",
       "      <td>42.0</td>\n",
       "      <td>66.2</td>\n",
       "      <td>25.5</td>\n",
       "    </tr>\n",
       "    <tr>\n",
       "      <th>199</th>\n",
       "      <td>232.1</td>\n",
       "      <td>8.6</td>\n",
       "      <td>8.7</td>\n",
       "      <td>18.4</td>\n",
       "    </tr>\n",
       "  </tbody>\n",
       "</table>\n",
       "<p>200 rows × 4 columns</p>\n",
       "</div>"
      ],
      "text/plain": [
       "        TV  Radio  Newspaper  Sales\n",
       "0    230.1   37.8       69.2   22.1\n",
       "1     44.5   39.3       45.1   10.4\n",
       "2     17.2   45.9       69.3   12.0\n",
       "3    151.5   41.3       58.5   16.5\n",
       "4    180.8   10.8       58.4   17.9\n",
       "..     ...    ...        ...    ...\n",
       "195   38.2    3.7       13.8    7.6\n",
       "196   94.2    4.9        8.1   14.0\n",
       "197  177.0    9.3        6.4   14.8\n",
       "198  283.6   42.0       66.2   25.5\n",
       "199  232.1    8.6        8.7   18.4\n",
       "\n",
       "[200 rows x 4 columns]"
      ]
     },
     "execution_count": 19,
     "metadata": {},
     "output_type": "execute_result"
    }
   ],
   "source": [
    "advertising = pd.concat([advertising1, advertising2], ignore_index=True)\n",
    "advertising"
   ]
  },
  {
   "cell_type": "markdown",
   "id": "7b4599d2",
   "metadata": {},
   "source": [
    "### 1.(c) advertising의 각 피처가 표준정규분포를 따르도록, 정규화를하세요."
   ]
  },
  {
   "cell_type": "code",
   "execution_count": null,
   "metadata": {},
   "outputs": [],
   "source": []
  },
  {
   "cell_type": "markdown",
   "id": "9b138e8f",
   "metadata": {},
   "source": [
    "### 1.(d) 학습데이터와 테스트데이터를 4:1로 나누세요"
   ]
  },
  {
   "cell_type": "code",
   "execution_count": 13,
   "metadata": {},
   "outputs": [],
   "source": [
    "from sklearn.model_selection import train_test_split\n",
    "\n",
    "X_train, X_test, y_train, y_test = train_test_split(advertising['TV':'Newspaper'], advertising['Sales'],test_size=0.2,random_state=1234)"
   ]
  },
  {
   "cell_type": "markdown",
   "id": "4d92508b",
   "metadata": {},
   "source": [
    "### 2.(a) 학습데이터를 통해 정규방정식를 통한 선형회귀를 수행하세요. "
   ]
  },
  {
   "cell_type": "code",
   "execution_count": null,
   "metadata": {},
   "outputs": [],
   "source": []
  },
  {
   "cell_type": "markdown",
   "id": "a692b4af",
   "metadata": {},
   "source": [
    "### 2.(b) 테스트 데이터 셋에 대해 mean_absolute_error와 mean_squared_error를 계산하세요."
   ]
  },
  {
   "cell_type": "code",
   "execution_count": null,
   "metadata": {},
   "outputs": [],
   "source": []
  },
  {
   "cell_type": "markdown",
   "id": "faed9715",
   "metadata": {},
   "source": [
    "### 2.(c) 학습데이터를 통해 경사하강법을 통한 선형회귀를 수행하세요. "
   ]
  },
  {
   "cell_type": "code",
   "execution_count": null,
   "metadata": {},
   "outputs": [],
   "source": []
  },
  {
   "cell_type": "markdown",
   "id": "6ef85720",
   "metadata": {},
   "source": [
    "### 2.(d) 테스트 데이터 셋에 대해 mean_absolute_error와 mean_squared_error를 계산하세요."
   ]
  },
  {
   "cell_type": "code",
   "execution_count": null,
   "id": "7909c042",
   "metadata": {},
   "outputs": [],
   "source": []
  },
  {
   "cell_type": "markdown",
   "id": "cb9d65f5",
   "metadata": {},
   "source": [
    "## 로지스틱 회귀 (survivied가 목적변수)"
   ]
  },
  {
   "cell_type": "markdown",
   "id": "88417f67",
   "metadata": {},
   "source": [
    "### 3.(a) train1.csv~train4.csv를 결합하세요. "
   ]
  },
  {
   "attachments": {},
   "cell_type": "markdown",
   "id": "f8c6e42a",
   "metadata": {},
   "source": [
    "### 3.(b) cabin 피처는 삭제, Age의 결측치는 다른 Age의 평균값으로 대체,  Embarked의 결측치는 S로 대체, 피처중에서 object 타입의 피처는 삭제하세요."
   ]
  },
  {
   "cell_type": "markdown",
   "id": "f95901f4",
   "metadata": {},
   "source": [
    "### 3. (c) Survived, Pclass, SibSP는 결측치를 갖는 데이터를 제거하고 Parch와 Fare 피처는 제거하세요."
   ]
  },
  {
   "cell_type": "markdown",
   "id": "668caf7a",
   "metadata": {},
   "source": [
    "### 4.(a) 학습 데이터와 테스트 데이터를 3:1로 나누세요."
   ]
  },
  {
   "cell_type": "markdown",
   "id": "1094c924",
   "metadata": {},
   "source": [
    "### 4.(b) survived에 대해 로지스틱 회귀를 적용하세요."
   ]
  },
  {
   "cell_type": "markdown",
   "id": "ebcefa5f",
   "metadata": {},
   "source": [
    "### 4.(c) 테스트 데이터셋에 대해 예측 정확도를 계산하세요."
   ]
  },
  {
   "cell_type": "markdown",
   "id": "83d703e1",
   "metadata": {},
   "source": [
    "### 4.(d) 선형 모델의 계수들과 절편값을 확인하세요."
   ]
  },
  {
   "cell_type": "code",
   "execution_count": null,
   "id": "e718c7f0",
   "metadata": {},
   "outputs": [],
   "source": []
  },
  {
   "cell_type": "markdown",
   "id": "3dff6606",
   "metadata": {},
   "source": [
    "## 라쏘회귀 (당뇨데이터 활용, diabete)"
   ]
  },
  {
   "cell_type": "markdown",
   "id": "8ced7f18",
   "metadata": {},
   "source": [
    "### 5.(a) 당뇨 데이터를 데이터프레임 형태로 불러와서, 2:1로 학습데이터와 테스트 데이터로 나누세요."
   ]
  },
  {
   "cell_type": "markdown",
   "id": "41171ba7",
   "metadata": {},
   "source": [
    "### 5.(b) Standardscaler와 LassoCV를 pipeline 객체로 생성하세요. (LassoCV의 교차검증은 5회, alpha 값은 1이상 100 이하의 정수들로 하세요.)"
   ]
  },
  {
   "cell_type": "markdown",
   "id": "a4c5f8b2",
   "metadata": {},
   "source": [
    "### 6.(a) 당뇨데이터의 age,sex,bmi,bp 피처에 대해서만, pipeline 객체를 통해서 라쏘회귀를 진행하세요."
   ]
  },
  {
   "cell_type": "markdown",
   "id": "f64526d7",
   "metadata": {},
   "source": [
    "### 6.(b) 테스트 데이터 셋의 mean_absolute_error를 나타내세요."
   ]
  },
  {
   "cell_type": "markdown",
   "id": "34bf9125",
   "metadata": {},
   "source": [
    "### 6.(c) 결과로 얻은 선형모델 계수들과 절편의 값을 확인하세요."
   ]
  },
  {
   "cell_type": "markdown",
   "id": "36194582",
   "metadata": {},
   "source": [
    "### 6.(d) 가장 좋은 성능을 보이는 alpha값을 얻으세요."
   ]
  }
 ],
 "metadata": {
  "kernelspec": {
   "display_name": "Python 3 (ipykernel)",
   "language": "python",
   "name": "python3"
  },
  "language_info": {
   "codemirror_mode": {
    "name": "ipython",
    "version": 3
   },
   "file_extension": ".py",
   "mimetype": "text/x-python",
   "name": "python",
   "nbconvert_exporter": "python",
   "pygments_lexer": "ipython3",
   "version": "3.11.6"
  }
 },
 "nbformat": 4,
 "nbformat_minor": 5
}
