{
 "cells": [
  {
   "cell_type": "code",
   "execution_count": 1,
   "id": "7b4a00f1-bdec-441d-bc13-121e0c296410",
   "metadata": {},
   "outputs": [
    {
     "name": "stdout",
     "output_type": "stream",
     "text": [
      "[[0.         0.         0.39687454 0.39687454 0.         0.79374908\n",
      "  0.2344005 ]\n",
      " [0.61980538 0.         0.         0.         0.61980538 0.\n",
      "  0.48133417]\n",
      " [0.4804584  0.63174505 0.         0.         0.4804584  0.\n",
      "  0.37311881]]\n",
      "{'that': 6, 'movie': 5, 'is': 3, 'famous': 2, 'like': 4, 'actor': 0, 'don': 1}\n"
     ]
    }
   ],
   "source": [
    "from sklearn.feature_extraction.text import TfidfVectorizer\n",
    "\n",
    "\n",
    "corpus = [\n",
    "    \"That movie is famous movie\",\n",
    "    \"I like that actor\",\n",
    "    \"I don’t like that actor\"\n",
    "]\n",
    "\n",
    "tfidf_vectorizer = TfidfVectorizer()\n",
    "tfidf_vectorizer.fit(corpus)\n",
    "tfidf_matrix = tfidf_vectorizer.transform(corpus)\n",
    "# tfidf_matrix = tfidf_vectorizer.fit_transform(corpus)\n",
    "\n",
    "print(tfidf_matrix.toarray())\n",
    "print(tfidf_vectorizer.vocabulary_)"
   ]
  }
 ],
 "metadata": {
  "kernelspec": {
   "display_name": "Python 3 (ipykernel)",
   "language": "python",
   "name": "python3"
  },
  "language_info": {
   "codemirror_mode": {
    "name": "ipython",
    "version": 3
   },
   "file_extension": ".py",
   "mimetype": "text/x-python",
   "name": "python",
   "nbconvert_exporter": "python",
   "pygments_lexer": "ipython3",
   "version": "3.11.6"
  }
 },
 "nbformat": 4,
 "nbformat_minor": 5
}
